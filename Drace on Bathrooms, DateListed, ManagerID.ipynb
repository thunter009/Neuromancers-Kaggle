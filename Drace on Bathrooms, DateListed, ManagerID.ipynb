{
 "cells": [
  {
   "cell_type": "code",
   "execution_count": 1,
   "metadata": {
    "collapsed": true
   },
   "outputs": [],
   "source": [
    "import numpy as np # linear algebra\n",
    "import pandas as pd # data processing, CSV file I/O (e.g. pd.read_csv)\n",
    "import matplotlib.pyplot as plt\n",
    "import seaborn as sns\n",
    "from sklearn.ensemble import RandomForestClassifier\n",
    "from sklearn.metrics import log_loss\n",
    "from sklearn.cross_validation import cross_val_score, train_test_split\n",
    "from sklearn import preprocessing\n",
    "color = sns.color_palette()\n",
    "%matplotlib inline\n"
   ]
  },
  {
   "cell_type": "code",
   "execution_count": 2,
   "metadata": {
    "collapsed": true
   },
   "outputs": [],
   "source": [
    "df_train = pd.read_json(\"train.json\")\n",
    "df_test = pd.read_json(\"test.json\")"
   ]
  },
  {
   "cell_type": "code",
   "execution_count": 3,
   "metadata": {
    "collapsed": false
   },
   "outputs": [
    {
     "data": {
      "image/png": "[encoded data removed]",
      "text/plain": [
       "<matplotlib.figure.Figure at 0x2d06ac8>"
      ]
     },
     "metadata": {},
     "output_type": "display_data"
    }
   ],
   "source": [
    "int_level = df_train['interest_level'].value_counts()\n",
    "plt.pie(int_level,labels= ['low','medium','high'], autopct='%1.1f%%', shadow=True, startangle=140)\n",
    " \n",
    "plt.axis('equal')\n",
    "plt.show()"
   ]
  },
  {
   "cell_type": "code",
   "execution_count": 4,
   "metadata": {
    "collapsed": true
   },
   "outputs": [],
   "source": [
    "drace_df = df_train.loc[:,['interest_level', 'created', 'manager_id', 'bathrooms']]"
   ]
  },
  {
   "cell_type": "code",
   "execution_count": 5,
   "metadata": {
    "collapsed": false
   },
   "outputs": [
    {
     "data": {
      "text/html": [
       "<div>\n",
       "<table border=\"1\" class=\"dataframe\">\n",
       "  <thead>\n",
       "    <tr style=\"text-align: right;\">\n",
       "      <th></th>\n",
       "      <th>interest_level</th>\n",
       "      <th>created</th>\n",
       "      <th>manager_id</th>\n",
       "      <th>bathrooms</th>\n",
       "    </tr>\n",
       "  </thead>\n",
       "  <tbody>\n",
       "    <tr>\n",
       "      <th>10</th>\n",
       "      <td>medium</td>\n",
       "      <td>2016-06-24 07:54:24</td>\n",
       "      <td>5ba989232d0489da1b5f2c45f6688adc</td>\n",
       "      <td>1.5</td>\n",
       "    </tr>\n",
       "    <tr>\n",
       "      <th>10000</th>\n",
       "      <td>low</td>\n",
       "      <td>2016-06-12 12:19:27</td>\n",
       "      <td>7533621a882f71e25173b27e3139d83d</td>\n",
       "      <td>1.0</td>\n",
       "    </tr>\n",
       "    <tr>\n",
       "      <th>100004</th>\n",
       "      <td>high</td>\n",
       "      <td>2016-04-17 03:26:41</td>\n",
       "      <td>d9039c43983f6e564b1482b273bd7b01</td>\n",
       "      <td>1.0</td>\n",
       "    </tr>\n",
       "    <tr>\n",
       "      <th>100007</th>\n",
       "      <td>low</td>\n",
       "      <td>2016-04-18 02:22:02</td>\n",
       "      <td>1067e078446a7897d2da493d2f741316</td>\n",
       "      <td>1.0</td>\n",
       "    </tr>\n",
       "    <tr>\n",
       "      <th>100013</th>\n",
       "      <td>low</td>\n",
       "      <td>2016-04-28 01:32:41</td>\n",
       "      <td>98e13ad4b495b9613cef886d79a6291f</td>\n",
       "      <td>1.0</td>\n",
       "    </tr>\n",
       "  </tbody>\n",
       "</table>\n",
       "</div>"
      ],
      "text/plain": [
       "       interest_level              created                        manager_id  \\\n",
       "10             medium  2016-06-24 07:54:24  5ba989232d0489da1b5f2c45f6688adc   \n",
       "10000             low  2016-06-12 12:19:27  7533621a882f71e25173b27e3139d83d   \n",
       "100004           high  2016-04-17 03:26:41  d9039c43983f6e564b1482b273bd7b01   \n",
       "100007            low  2016-04-18 02:22:02  1067e078446a7897d2da493d2f741316   \n",
       "100013            low  2016-04-28 01:32:41  98e13ad4b495b9613cef886d79a6291f   \n",
       "\n",
       "        bathrooms  \n",
       "10            1.5  \n",
       "10000         1.0  \n",
       "100004        1.0  \n",
       "100007        1.0  \n",
       "100013        1.0  "
      ]
     },
     "execution_count": 5,
     "metadata": {},
     "output_type": "execute_result"
    }
   ],
   "source": [
    "drace_df.head()"
   ]
  },
  {
   "cell_type": "code",
   "execution_count": 6,
   "metadata": {
    "collapsed": false
   },
   "outputs": [
    {
     "data": {
      "text/html": [
       "<div>\n",
       "<table border=\"1\" class=\"dataframe\">\n",
       "  <thead>\n",
       "    <tr style=\"text-align: right;\">\n",
       "      <th></th>\n",
       "      <th>bathrooms</th>\n",
       "    </tr>\n",
       "  </thead>\n",
       "  <tbody>\n",
       "    <tr>\n",
       "      <th>count</th>\n",
       "      <td>49352.00000</td>\n",
       "    </tr>\n",
       "    <tr>\n",
       "      <th>mean</th>\n",
       "      <td>1.21218</td>\n",
       "    </tr>\n",
       "    <tr>\n",
       "      <th>std</th>\n",
       "      <td>0.50142</td>\n",
       "    </tr>\n",
       "    <tr>\n",
       "      <th>min</th>\n",
       "      <td>0.00000</td>\n",
       "    </tr>\n",
       "    <tr>\n",
       "      <th>25%</th>\n",
       "      <td>1.00000</td>\n",
       "    </tr>\n",
       "    <tr>\n",
       "      <th>50%</th>\n",
       "      <td>1.00000</td>\n",
       "    </tr>\n",
       "    <tr>\n",
       "      <th>75%</th>\n",
       "      <td>1.00000</td>\n",
       "    </tr>\n",
       "    <tr>\n",
       "      <th>max</th>\n",
       "      <td>10.00000</td>\n",
       "    </tr>\n",
       "  </tbody>\n",
       "</table>\n",
       "</div>"
      ],
      "text/plain": [
       "         bathrooms\n",
       "count  49352.00000\n",
       "mean       1.21218\n",
       "std        0.50142\n",
       "min        0.00000\n",
       "25%        1.00000\n",
       "50%        1.00000\n",
       "75%        1.00000\n",
       "max       10.00000"
      ]
     },
     "execution_count": 6,
     "metadata": {},
     "output_type": "execute_result"
    }
   ],
   "source": [
    "drace_df.describe()"
   ]
  },
  {
   "cell_type": "code",
   "execution_count": 7,
   "metadata": {
    "collapsed": false
   },
   "outputs": [
    {
     "data": {
      "text/plain": [
       "e6472c7237327dd3903b3d6f6a94515a    2533\n",
       "6e5c10246156ae5bdcd9b487ca99d96a     711\n",
       "8f5a9c893f6d602f4953fcc0b8e6e9b4     410\n",
       "62b685cc0d876c3a1a51d63a0d6a8082     402\n",
       "cb87dadbca78fad02b388dc9e8f25a5b     373\n",
       "Name: manager_id, dtype: int64"
      ]
     },
     "execution_count": 7,
     "metadata": {},
     "output_type": "execute_result"
    }
   ],
   "source": [
    "drace_df.manager_id.value_counts().head()"
   ]
  },
  {
   "cell_type": "code",
   "execution_count": 8,
   "metadata": {
    "collapsed": false
   },
   "outputs": [
    {
     "data": {
      "text/plain": [
       "1.0     39422\n",
       "2.0      7660\n",
       "3.0       745\n",
       "1.5       645\n",
       "0.0       313\n",
       "2.5       277\n",
       "4.0       159\n",
       "3.5        70\n",
       "4.5        29\n",
       "5.0        20\n",
       "5.5         5\n",
       "6.0         4\n",
       "6.5         1\n",
       "10.0        1\n",
       "7.0         1\n",
       "Name: bathrooms, dtype: int64"
      ]
     },
     "execution_count": 8,
     "metadata": {},
     "output_type": "execute_result"
    }
   ],
   "source": [
    "drace_df.bathrooms.value_counts()"
   ]
  },
  {
   "cell_type": "code",
   "execution_count": 9,
   "metadata": {
    "collapsed": false
   },
   "outputs": [],
   "source": [
    "drace_df.created = pd.to_datetime(drace_df.created)"
   ]
  },
  {
   "cell_type": "code",
   "execution_count": 10,
   "metadata": {
    "collapsed": true
   },
   "outputs": [],
   "source": [
    "drace_df['date_created'] = drace_df.created.dt.date\n",
    "drace_df['weekday_created'] = drace_df.created.dt.dayofweek\n",
    "drace_df['hour_created'] = drace_df.created.dt.hour"
   ]
  },
  {
   "cell_type": "code",
   "execution_count": 11,
   "metadata": {
    "collapsed": false
   },
   "outputs": [
    {
     "data": {
      "text/html": [
       "<div>\n",
       "<table border=\"1\" class=\"dataframe\">\n",
       "  <thead>\n",
       "    <tr style=\"text-align: right;\">\n",
       "      <th></th>\n",
       "      <th>interest_level</th>\n",
       "      <th>created</th>\n",
       "      <th>manager_id</th>\n",
       "      <th>bathrooms</th>\n",
       "      <th>date_created</th>\n",
       "      <th>weekday_created</th>\n",
       "      <th>hour_created</th>\n",
       "    </tr>\n",
       "  </thead>\n",
       "  <tbody>\n",
       "    <tr>\n",
       "      <th>10</th>\n",
       "      <td>medium</td>\n",
       "      <td>2016-06-24 07:54:24</td>\n",
       "      <td>5ba989232d0489da1b5f2c45f6688adc</td>\n",
       "      <td>1.5</td>\n",
       "      <td>2016-06-24</td>\n",
       "      <td>4</td>\n",
       "      <td>7</td>\n",
       "    </tr>\n",
       "    <tr>\n",
       "      <th>10000</th>\n",
       "      <td>low</td>\n",
       "      <td>2016-06-12 12:19:27</td>\n",
       "      <td>7533621a882f71e25173b27e3139d83d</td>\n",
       "      <td>1.0</td>\n",
       "      <td>2016-06-12</td>\n",
       "      <td>6</td>\n",
       "      <td>12</td>\n",
       "    </tr>\n",
       "    <tr>\n",
       "      <th>100004</th>\n",
       "      <td>high</td>\n",
       "      <td>2016-04-17 03:26:41</td>\n",
       "      <td>d9039c43983f6e564b1482b273bd7b01</td>\n",
       "      <td>1.0</td>\n",
       "      <td>2016-04-17</td>\n",
       "      <td>6</td>\n",
       "      <td>3</td>\n",
       "    </tr>\n",
       "    <tr>\n",
       "      <th>100007</th>\n",
       "      <td>low</td>\n",
       "      <td>2016-04-18 02:22:02</td>\n",
       "      <td>1067e078446a7897d2da493d2f741316</td>\n",
       "      <td>1.0</td>\n",
       "      <td>2016-04-18</td>\n",
       "      <td>0</td>\n",
       "      <td>2</td>\n",
       "    </tr>\n",
       "    <tr>\n",
       "      <th>100013</th>\n",
       "      <td>low</td>\n",
       "      <td>2016-04-28 01:32:41</td>\n",
       "      <td>98e13ad4b495b9613cef886d79a6291f</td>\n",
       "      <td>1.0</td>\n",
       "      <td>2016-04-28</td>\n",
       "      <td>3</td>\n",
       "      <td>1</td>\n",
       "    </tr>\n",
       "  </tbody>\n",
       "</table>\n",
       "</div>"
      ],
      "text/plain": [
       "       interest_level             created                        manager_id  \\\n",
       "10             medium 2016-06-24 07:54:24  5ba989232d0489da1b5f2c45f6688adc   \n",
       "10000             low 2016-06-12 12:19:27  7533621a882f71e25173b27e3139d83d   \n",
       "100004           high 2016-04-17 03:26:41  d9039c43983f6e564b1482b273bd7b01   \n",
       "100007            low 2016-04-18 02:22:02  1067e078446a7897d2da493d2f741316   \n",
       "100013            low 2016-04-28 01:32:41  98e13ad4b495b9613cef886d79a6291f   \n",
       "\n",
       "        bathrooms date_created  weekday_created  hour_created  \n",
       "10            1.5   2016-06-24                4             7  \n",
       "10000         1.0   2016-06-12                6            12  \n",
       "100004        1.0   2016-04-17                6             3  \n",
       "100007        1.0   2016-04-18                0             2  \n",
       "100013        1.0   2016-04-28                3             1  "
      ]
     },
     "execution_count": 11,
     "metadata": {},
     "output_type": "execute_result"
    }
   ],
   "source": [
    "drace_df.head()"
   ]
  },
  {
   "cell_type": "code",
   "execution_count": 12,
   "metadata": {
    "collapsed": false
   },
   "outputs": [],
   "source": [
    "drace_df['interest_level'] = pd.Categorical(drace_df['interest_level'], categories= ['low', 'medium', 'high'], ordered=True)"
   ]
  },
  {
   "cell_type": "code",
   "execution_count": 13,
   "metadata": {
    "collapsed": false
   },
   "outputs": [
    {
     "data": {
      "text/plain": [
       "<matplotlib.axes._subplots.AxesSubplot at 0x44a38198>"
      ]
     },
     "execution_count": 13,
     "metadata": {},
     "output_type": "execute_result"
    },
    {
     "data": {
      "image/png": "[encoded data removed]",
      "text/plain": [
       "<matplotlib.figure.Figure at 0x436debe0>"
      ]
     },
     "metadata": {},
     "output_type": "display_data"
    }
   ],
   "source": [
    "weekday_listings = drace_df['weekday_created'].value_counts()\n",
    "sns.barplot(weekday_listings.index, weekday_listings.values, alpha=0.8)\n",
    "#not sure this showed much.  A little as expected."
   ]
  },
  {
   "cell_type": "code",
   "execution_count": 14,
   "metadata": {
    "collapsed": false
   },
   "outputs": [],
   "source": [
    "daily_listings_intrMode = drace_df.groupby(['date_created'])['interest_level'].value_counts()"
   ]
  },
  {
   "cell_type": "code",
   "execution_count": 15,
   "metadata": {
    "collapsed": false
   },
   "outputs": [],
   "source": [
    "daily_listings_intrMode = pd.DataFrame(daily_listings_intrMode)\n",
    "daily_listings_intrMode = daily_listings_intrMode.unstack(level=1)"
   ]
  },
  {
   "cell_type": "code",
   "execution_count": 16,
   "metadata": {
    "collapsed": false
   },
   "outputs": [
    {
     "data": {
      "text/html": [
       "<div>\n",
       "<table border=\"1\" class=\"dataframe\">\n",
       "  <thead>\n",
       "    <tr>\n",
       "      <th></th>\n",
       "      <th colspan=\"3\" halign=\"left\">interest_level</th>\n",
       "    </tr>\n",
       "    <tr>\n",
       "      <th>interest_level</th>\n",
       "      <th>high</th>\n",
       "      <th>low</th>\n",
       "      <th>medium</th>\n",
       "    </tr>\n",
       "    <tr>\n",
       "      <th>date_created</th>\n",
       "      <th></th>\n",
       "      <th></th>\n",
       "      <th></th>\n",
       "    </tr>\n",
       "  </thead>\n",
       "  <tbody>\n",
       "    <tr>\n",
       "      <th>2016-04-01</th>\n",
       "      <td>2.0</td>\n",
       "      <td>NaN</td>\n",
       "      <td>2.0</td>\n",
       "    </tr>\n",
       "    <tr>\n",
       "      <th>2016-04-02</th>\n",
       "      <td>53.0</td>\n",
       "      <td>447.0</td>\n",
       "      <td>160.0</td>\n",
       "    </tr>\n",
       "    <tr>\n",
       "      <th>2016-04-03</th>\n",
       "      <td>16.0</td>\n",
       "      <td>234.0</td>\n",
       "      <td>61.0</td>\n",
       "    </tr>\n",
       "    <tr>\n",
       "      <th>2016-04-04</th>\n",
       "      <td>32.0</td>\n",
       "      <td>234.0</td>\n",
       "      <td>79.0</td>\n",
       "    </tr>\n",
       "    <tr>\n",
       "      <th>2016-04-05</th>\n",
       "      <td>58.0</td>\n",
       "      <td>396.0</td>\n",
       "      <td>146.0</td>\n",
       "    </tr>\n",
       "  </tbody>\n",
       "</table>\n",
       "</div>"
      ],
      "text/plain": [
       "               interest_level              \n",
       "interest_level           high    low medium\n",
       "date_created                               \n",
       "2016-04-01                2.0    NaN    2.0\n",
       "2016-04-02               53.0  447.0  160.0\n",
       "2016-04-03               16.0  234.0   61.0\n",
       "2016-04-04               32.0  234.0   79.0\n",
       "2016-04-05               58.0  396.0  146.0"
      ]
     },
     "execution_count": 16,
     "metadata": {},
     "output_type": "execute_result"
    }
   ],
   "source": [
    "daily_listings_intrMode.head()"
   ]
  },
  {
   "cell_type": "code",
   "execution_count": 17,
   "metadata": {
    "collapsed": false,
    "scrolled": true
   },
   "outputs": [
    {
     "data": {
      "text/plain": [
       "<matplotlib.axes._subplots.AxesSubplot at 0x44c63668>"
      ]
     },
     "execution_count": 17,
     "metadata": {},
     "output_type": "execute_result"
    },
    {
     "data": {
      "image/png": "[encoded data removed]",
      "text/plain": [
       "<matplotlib.figure.Figure at 0x3d941080>"
      ]
     },
     "metadata": {},
     "output_type": "display_data"
    }
   ],
   "source": [
    "daily_listings_intrMode.plot(kind='bar', figsize = (20,12))"
   ]
  },
  {
   "cell_type": "markdown",
   "metadata": {
    "collapsed": false
   },
   "source": [
    "Code below was adopted from\n",
    "https://www.kaggle.com/den3b81/two-sigma-connect-rental-listing-inquiries/improve-perfomances-using-manager-features/notebook\n",
    "The only difference is I'm changing features to predict \"managerskill\" as latitude, longitude, price, num_photos, num_features, num description words.\n",
    "\n",
    "Here's my justification.  Since manager id seems fixed to actually the agency posting the ads, we would more likely measure an agency with their presentation style and the range of price their apartments are listed on.\n",
    "\n",
    "These are preprocessing for both the original dataset (to create the feature) and the features I'm working on to join manager skill later"
   ]
  },
  {
   "cell_type": "code",
   "execution_count": 22,
   "metadata": {
    "collapsed": false
   },
   "outputs": [],
   "source": [
    "lbl = preprocessing.LabelEncoder()\n",
    "lbl.fit(list(df_train['manager_id'].values))\n",
    "df_train['manager_id'] = lbl.transform(list(df_train['manager_id'].values))"
   ]
  },
  {
   "cell_type": "code",
   "execution_count": null,
   "metadata": {
    "collapsed": true
   },
   "outputs": [],
   "source": [
    "lbl = preprocessing.LabelEncoder()\n",
    "lbl.fit(list(drace_df['manager_id'].values))\n",
    "drace_df['manager_id'] = lbl.transform(list(drace_df['manager_id'].values))"
   ]
  },
  {
   "cell_type": "code",
   "execution_count": 25,
   "metadata": {
    "collapsed": true
   },
   "outputs": [],
   "source": [
    "df_train[\"num_photos\"] = df_train[\"photos\"].apply(len)\n",
    "df_train[\"num_features\"] = df_train[\"features\"].apply(len)\n",
    "df_train[\"num_description_words\"] = df_train[\"description\"].apply(lambda x: len(x.split(\" \")))"
   ]
  },
  {
   "cell_type": "code",
   "execution_count": 23,
   "metadata": {
    "collapsed": true
   },
   "outputs": [],
   "source": [
    "features_to_use = [\"latitude\", \"longitude\", \"price\",\n",
    "                   \"num_photos\", \"num_features\", \"num_description_words\"\n",
    "                   ]\n",
    "features_to_use.append('manager_id')"
   ]
  },
  {
   "cell_type": "markdown",
   "metadata": {},
   "source": [
    "Quote from notebook: \"\n",
    "Let's now add 3 columns contaning the fractions of 'low','medium' and 'high' interest level obtained by each manager in the training dataset.¶\n",
    "We also add the simple 'manager_skill' feature I introduced in my previous notebook.\n",
    "We use mean values for those managers who don't have enough entries for being ranked (minimum = 20 here).\n",
    "As pointed out by Philippe Lonjoux's, since these new features involve the target variable, we split the dataset first so to avoid \"cheating\" during the validation phase. The features are computed for each manager on the training part and the values obtained are then copied for the instances in the validation dataset.\""
   ]
  },
  {
   "cell_type": "code",
   "execution_count": 26,
   "metadata": {
    "collapsed": false
   },
   "outputs": [],
   "source": [
    "X = df_train[features_to_use]\n",
    "y = df_train[\"interest_level\"]\n",
    "X_train, X_val, y_train, y_val = train_test_split(X, y, test_size=0.3)"
   ]
  },
  {
   "cell_type": "code",
   "execution_count": 27,
   "metadata": {
    "collapsed": false,
    "scrolled": true
   },
   "outputs": [
    {
     "name": "stdout",
     "output_type": "stream",
     "text": [
      "            high_frac  low_frac  medium_frac  count\n",
      "manager_id                                         \n",
      "3471         0.000000  0.666667     0.333333      3\n",
      "3472         0.500000  0.333333     0.166667      6\n",
      "3473         0.000000  1.000000     0.000000      1\n",
      "3474         0.000000  1.000000     0.000000      1\n",
      "3475         0.000000  0.800000     0.200000      5\n",
      "3476         0.000000  1.000000     0.000000      1\n",
      "3477         0.000000  1.000000     0.000000      4\n",
      "3478         0.000000  1.000000     0.000000      1\n",
      "3479         0.200000  0.600000     0.200000      5\n",
      "3480         0.037037  0.629630     0.333333     81\n"
     ]
    }
   ],
   "source": [
    "# compute fractions and count for each manager\n",
    "temp = pd.concat([X_train.manager_id,pd.get_dummies(y_train)], axis = 1).groupby('manager_id').mean()\n",
    "temp.columns = ['high_frac','low_frac', 'medium_frac']\n",
    "temp['count'] = X_train.groupby('manager_id').count().iloc[:,1]\n",
    "\n",
    "# remember the manager_ids look different because we encoded them in the previous step \n",
    "print(temp.tail(10))"
   ]
  },
  {
   "cell_type": "code",
   "execution_count": 28,
   "metadata": {
    "collapsed": false
   },
   "outputs": [
    {
     "name": "stdout",
     "output_type": "stream",
     "text": [
      "high_frac        0.083359\n",
      "low_frac         0.660083\n",
      "medium_frac      0.256558\n",
      "manager_skill    0.423276\n",
      "dtype: float64\n",
      "            high_frac  low_frac  medium_frac  count  manager_skill\n",
      "manager_id                                                        \n",
      "3471         0.083359  0.660083     0.256558      3       0.423276\n",
      "3472         0.083359  0.660083     0.256558      6       0.423276\n",
      "3473         0.083359  0.660083     0.256558      1       0.423276\n",
      "3474         0.083359  0.660083     0.256558      1       0.423276\n",
      "3475         0.083359  0.660083     0.256558      5       0.423276\n",
      "3476         0.083359  0.660083     0.256558      1       0.423276\n",
      "3477         0.083359  0.660083     0.256558      4       0.423276\n",
      "3478         0.083359  0.660083     0.256558      1       0.423276\n",
      "3479         0.083359  0.660083     0.256558      5       0.423276\n",
      "3480         0.037037  0.629630     0.333333     81       0.407407\n"
     ]
    }
   ],
   "source": [
    "# compute skill\n",
    "temp['manager_skill'] = temp['high_frac']*2 + temp['medium_frac']\n",
    "\n",
    "# get ixes for unranked managers...\n",
    "unranked_managers_ixes = temp['count']<20\n",
    "# ... and ranked ones\n",
    "ranked_managers_ixes = ~unranked_managers_ixes\n",
    "\n",
    "# compute mean values from ranked managers and assign them to unranked ones\n",
    "mean_values = temp.loc[ranked_managers_ixes, ['high_frac','low_frac', 'medium_frac','manager_skill']].mean()\n",
    "print(mean_values)\n",
    "temp.loc[unranked_managers_ixes,['high_frac','low_frac', 'medium_frac','manager_skill']] = mean_values.values\n",
    "print(temp.tail(10))"
   ]
  },
  {
   "cell_type": "code",
   "execution_count": 38,
   "metadata": {
    "collapsed": false
   },
   "outputs": [
    {
     "data": {
      "text/html": [
       "<div>\n",
       "<table border=\"1\" class=\"dataframe\">\n",
       "  <thead>\n",
       "    <tr style=\"text-align: right;\">\n",
       "      <th></th>\n",
       "      <th>interest_level</th>\n",
       "      <th>created</th>\n",
       "      <th>manager_id</th>\n",
       "      <th>bathrooms</th>\n",
       "      <th>date_created</th>\n",
       "      <th>weekday_created</th>\n",
       "      <th>hour_created</th>\n",
       "      <th>high_frac</th>\n",
       "      <th>low_frac</th>\n",
       "      <th>medium_frac</th>\n",
       "      <th>count</th>\n",
       "      <th>manager_skill</th>\n",
       "    </tr>\n",
       "  </thead>\n",
       "  <tbody>\n",
       "    <tr>\n",
       "      <th>0</th>\n",
       "      <td>medium</td>\n",
       "      <td>2016-06-24 07:54:24</td>\n",
       "      <td>1239</td>\n",
       "      <td>1.5</td>\n",
       "      <td>2016-06-24</td>\n",
       "      <td>4</td>\n",
       "      <td>7</td>\n",
       "      <td>0.000000</td>\n",
       "      <td>0.716667</td>\n",
       "      <td>0.283333</td>\n",
       "      <td>60.0</td>\n",
       "      <td>0.283333</td>\n",
       "    </tr>\n",
       "    <tr>\n",
       "      <th>1</th>\n",
       "      <td>low</td>\n",
       "      <td>2016-06-12 12:19:27</td>\n",
       "      <td>1583</td>\n",
       "      <td>1.0</td>\n",
       "      <td>2016-06-12</td>\n",
       "      <td>6</td>\n",
       "      <td>12</td>\n",
       "      <td>0.000000</td>\n",
       "      <td>0.984615</td>\n",
       "      <td>0.015385</td>\n",
       "      <td>65.0</td>\n",
       "      <td>0.015385</td>\n",
       "    </tr>\n",
       "    <tr>\n",
       "      <th>2</th>\n",
       "      <td>high</td>\n",
       "      <td>2016-04-17 03:26:41</td>\n",
       "      <td>2965</td>\n",
       "      <td>1.0</td>\n",
       "      <td>2016-04-17</td>\n",
       "      <td>6</td>\n",
       "      <td>3</td>\n",
       "      <td>0.054348</td>\n",
       "      <td>0.608696</td>\n",
       "      <td>0.336957</td>\n",
       "      <td>92.0</td>\n",
       "      <td>0.445652</td>\n",
       "    </tr>\n",
       "    <tr>\n",
       "      <th>3</th>\n",
       "      <td>low</td>\n",
       "      <td>2016-04-18 02:22:02</td>\n",
       "      <td>225</td>\n",
       "      <td>1.0</td>\n",
       "      <td>2016-04-18</td>\n",
       "      <td>0</td>\n",
       "      <td>2</td>\n",
       "      <td>0.081081</td>\n",
       "      <td>0.804054</td>\n",
       "      <td>0.114865</td>\n",
       "      <td>148.0</td>\n",
       "      <td>0.277027</td>\n",
       "    </tr>\n",
       "    <tr>\n",
       "      <th>4</th>\n",
       "      <td>low</td>\n",
       "      <td>2016-04-28 01:32:41</td>\n",
       "      <td>2081</td>\n",
       "      <td>1.0</td>\n",
       "      <td>2016-04-28</td>\n",
       "      <td>3</td>\n",
       "      <td>1</td>\n",
       "      <td>0.083359</td>\n",
       "      <td>0.660083</td>\n",
       "      <td>0.256558</td>\n",
       "      <td>11.0</td>\n",
       "      <td>0.423276</td>\n",
       "    </tr>\n",
       "  </tbody>\n",
       "</table>\n",
       "</div>"
      ],
      "text/plain": [
       "  interest_level             created  manager_id  bathrooms date_created  \\\n",
       "0         medium 2016-06-24 07:54:24        1239        1.5   2016-06-24   \n",
       "1            low 2016-06-12 12:19:27        1583        1.0   2016-06-12   \n",
       "2           high 2016-04-17 03:26:41        2965        1.0   2016-04-17   \n",
       "3            low 2016-04-18 02:22:02         225        1.0   2016-04-18   \n",
       "4            low 2016-04-28 01:32:41        2081        1.0   2016-04-28   \n",
       "\n",
       "   weekday_created  hour_created  high_frac  low_frac  medium_frac  count  \\\n",
       "0                4             7   0.000000  0.716667     0.283333   60.0   \n",
       "1                6            12   0.000000  0.984615     0.015385   65.0   \n",
       "2                6             3   0.054348  0.608696     0.336957   92.0   \n",
       "3                0             2   0.081081  0.804054     0.114865  148.0   \n",
       "4                3             1   0.083359  0.660083     0.256558   11.0   \n",
       "\n",
       "   manager_skill  \n",
       "0       0.283333  \n",
       "1       0.015385  \n",
       "2       0.445652  \n",
       "3       0.277027  \n",
       "4       0.423276  "
      ]
     },
     "execution_count": 38,
     "metadata": {},
     "output_type": "execute_result"
    }
   ],
   "source": [
    "drace_df = drace_df.merge(temp.reset_index(),how='left', left_on='manager_id', right_on='manager_id')\n",
    "new_manager_ixes = drace_df['high_frac'].isnull()\n",
    "drace_df.loc[new_manager_ixes,['high_frac','low_frac', 'medium_frac','manager_skill']] = mean_values.values\n",
    "drace_df.head()"
   ]
  },
  {
   "cell_type": "code",
   "execution_count": 31,
   "metadata": {
    "collapsed": false
   },
   "outputs": [
    {
     "data": {
      "text/html": [
       "<div>\n",
       "<table border=\"1\" class=\"dataframe\">\n",
       "  <thead>\n",
       "    <tr style=\"text-align: right;\">\n",
       "      <th></th>\n",
       "      <th>latitude</th>\n",
       "      <th>longitude</th>\n",
       "      <th>price</th>\n",
       "      <th>num_photos</th>\n",
       "      <th>num_features</th>\n",
       "      <th>num_description_words</th>\n",
       "      <th>manager_id</th>\n",
       "      <th>high_frac</th>\n",
       "      <th>low_frac</th>\n",
       "      <th>medium_frac</th>\n",
       "      <th>count</th>\n",
       "      <th>manager_skill</th>\n",
       "    </tr>\n",
       "  </thead>\n",
       "  <tbody>\n",
       "    <tr>\n",
       "      <th>0</th>\n",
       "      <td>40.7382</td>\n",
       "      <td>-73.9833</td>\n",
       "      <td>2649</td>\n",
       "      <td>7</td>\n",
       "      <td>17</td>\n",
       "      <td>101</td>\n",
       "      <td>822</td>\n",
       "      <td>0.083359</td>\n",
       "      <td>0.660083</td>\n",
       "      <td>0.256558</td>\n",
       "      <td>19.0</td>\n",
       "      <td>0.423276</td>\n",
       "    </tr>\n",
       "    <tr>\n",
       "      <th>1</th>\n",
       "      <td>40.6870</td>\n",
       "      <td>-73.9983</td>\n",
       "      <td>4500</td>\n",
       "      <td>8</td>\n",
       "      <td>4</td>\n",
       "      <td>161</td>\n",
       "      <td>1074</td>\n",
       "      <td>0.047619</td>\n",
       "      <td>0.857143</td>\n",
       "      <td>0.095238</td>\n",
       "      <td>21.0</td>\n",
       "      <td>0.190476</td>\n",
       "    </tr>\n",
       "    <tr>\n",
       "      <th>2</th>\n",
       "      <td>40.7488</td>\n",
       "      <td>-73.9734</td>\n",
       "      <td>3495</td>\n",
       "      <td>9</td>\n",
       "      <td>13</td>\n",
       "      <td>251</td>\n",
       "      <td>1159</td>\n",
       "      <td>0.000000</td>\n",
       "      <td>0.827586</td>\n",
       "      <td>0.172414</td>\n",
       "      <td>174.0</td>\n",
       "      <td>0.172414</td>\n",
       "    </tr>\n",
       "    <tr>\n",
       "      <th>3</th>\n",
       "      <td>40.6959</td>\n",
       "      <td>-73.9022</td>\n",
       "      <td>3199</td>\n",
       "      <td>7</td>\n",
       "      <td>4</td>\n",
       "      <td>190</td>\n",
       "      <td>1244</td>\n",
       "      <td>0.083359</td>\n",
       "      <td>0.660083</td>\n",
       "      <td>0.256558</td>\n",
       "      <td>1.0</td>\n",
       "      <td>0.423276</td>\n",
       "    </tr>\n",
       "    <tr>\n",
       "      <th>4</th>\n",
       "      <td>40.7796</td>\n",
       "      <td>-73.9528</td>\n",
       "      <td>2608</td>\n",
       "      <td>8</td>\n",
       "      <td>12</td>\n",
       "      <td>108</td>\n",
       "      <td>1499</td>\n",
       "      <td>0.005859</td>\n",
       "      <td>0.912109</td>\n",
       "      <td>0.082031</td>\n",
       "      <td>512.0</td>\n",
       "      <td>0.093750</td>\n",
       "    </tr>\n",
       "  </tbody>\n",
       "</table>\n",
       "</div>"
      ],
      "text/plain": [
       "   latitude  longitude  price  num_photos  num_features  \\\n",
       "0   40.7382   -73.9833   2649           7            17   \n",
       "1   40.6870   -73.9983   4500           8             4   \n",
       "2   40.7488   -73.9734   3495           9            13   \n",
       "3   40.6959   -73.9022   3199           7             4   \n",
       "4   40.7796   -73.9528   2608           8            12   \n",
       "\n",
       "   num_description_words  manager_id  high_frac  low_frac  medium_frac  count  \\\n",
       "0                    101         822   0.083359  0.660083     0.256558   19.0   \n",
       "1                    161        1074   0.047619  0.857143     0.095238   21.0   \n",
       "2                    251        1159   0.000000  0.827586     0.172414  174.0   \n",
       "3                    190        1244   0.083359  0.660083     0.256558    1.0   \n",
       "4                    108        1499   0.005859  0.912109     0.082031  512.0   \n",
       "\n",
       "   manager_skill  \n",
       "0       0.423276  \n",
       "1       0.190476  \n",
       "2       0.172414  \n",
       "3       0.423276  \n",
       "4       0.093750  "
      ]
     },
     "execution_count": 31,
     "metadata": {},
     "output_type": "execute_result"
    }
   ],
   "source": [
    "# add the features computed on the training dataset to the validation dataset if we want to use the entire dataframe, \n",
    "#I didn't use it\n",
    "X_val = X_val.merge(temp.reset_index(),how='left', left_on='manager_id', right_on='manager_id')\n",
    "new_manager_ixes = X_val['high_frac'].isnull()\n",
    "X_val.loc[new_manager_ixes,['high_frac','low_frac', 'medium_frac','manager_skill']] = mean_values.values\n",
    "X_val.head()"
   ]
  },
  {
   "cell_type": "markdown",
   "metadata": {},
   "source": [
    "Baseline on my current dataframe"
   ]
  },
  {
   "cell_type": "code",
   "execution_count": 34,
   "metadata": {
    "collapsed": false
   },
   "outputs": [
    {
     "data": {
      "text/plain": [
       "1.4486340851484325"
      ]
     },
     "execution_count": 34,
     "metadata": {},
     "output_type": "execute_result"
    }
   ],
   "source": [
    "feats_used = ['bathrooms', 'hour_created', 'manager_id']\n",
    "x = drace_df[feats_used]\n",
    "y = drace_df[\"interest_level\"]\n",
    "x_train, x_test, y_train, y_test = train_test_split(x, y, test_size=0.3)\n",
    "rf = RandomForestClassifier(n_estimators=1000)\n",
    "rf.fit(x_train[feats_used], y_train)\n",
    "y_pred = rf.predict_proba(x_test[feats_used])\n",
    "log_loss(y_test, y_pred)"
   ]
  },
  {
   "cell_type": "code",
   "execution_count": 35,
   "metadata": {
    "collapsed": false
   },
   "outputs": [
    {
     "data": {
      "text/plain": [
       "<matplotlib.axes._subplots.AxesSubplot at 0x45e50898>"
      ]
     },
     "execution_count": 35,
     "metadata": {},
     "output_type": "execute_result"
    },
    {
     "data": {
      "image/png": "[encoded data removed]",
      "text/plain": [
       "<matplotlib.figure.Figure at 0x2ca79eb8>"
      ]
     },
     "metadata": {},
     "output_type": "display_data"
    }
   ],
   "source": [
    "pd.Series(index = feats_used, data = rf.feature_importances_).sort_values().plot(kind = 'bar')"
   ]
  },
  {
   "cell_type": "markdown",
   "metadata": {},
   "source": [
    "This is now to replace manager_id with manager skill"
   ]
  },
  {
   "cell_type": "code",
   "execution_count": 39,
   "metadata": {
    "collapsed": false
   },
   "outputs": [
    {
     "data": {
      "text/plain": [
       "count    49352.000000\n",
       "mean         0.408218\n",
       "std          0.246271\n",
       "min          0.000000\n",
       "25%          0.277027\n",
       "50%          0.423276\n",
       "75%          0.423276\n",
       "max          1.600000\n",
       "Name: manager_skill, dtype: float64"
      ]
     },
     "execution_count": 39,
     "metadata": {},
     "output_type": "execute_result"
    }
   ],
   "source": [
    "drace_df.manager_skill.describe()"
   ]
  },
  {
   "cell_type": "code",
   "execution_count": 40,
   "metadata": {
    "collapsed": false
   },
   "outputs": [
    {
     "data": {
      "text/plain": [
       "0.98681983802497664"
      ]
     },
     "execution_count": 40,
     "metadata": {},
     "output_type": "execute_result"
    }
   ],
   "source": [
    "feats_used = ['bathrooms', 'hour_created', 'manager_skill']\n",
    "x = drace_df[feats_used]\n",
    "y = drace_df[\"interest_level\"]\n",
    "x_train, x_test, y_train, y_test = train_test_split(x, y, test_size=0.3)\n",
    "rf = RandomForestClassifier(n_estimators=1000)\n",
    "rf.fit(x_train[feats_used], y_train)\n",
    "y_pred = rf.predict_proba(x_test[feats_used])\n",
    "log_loss(y_test, y_pred)"
   ]
  },
  {
   "cell_type": "code",
   "execution_count": 41,
   "metadata": {
    "collapsed": false
   },
   "outputs": [
    {
     "data": {
      "text/plain": [
       "<matplotlib.axes._subplots.AxesSubplot at 0x72988630>"
      ]
     },
     "execution_count": 41,
     "metadata": {},
     "output_type": "execute_result"
    },
    {
     "data": {
      "image/png": "[encoded data removed]",
      "text/plain": [
       "<matplotlib.figure.Figure at 0x729880b8>"
      ]
     },
     "metadata": {},
     "output_type": "display_data"
    }
   ],
   "source": [
    "pd.Series(index = feats_used, data = rf.feature_importances_).sort_values().plot(kind = 'bar')"
   ]
  },
  {
   "cell_type": "markdown",
   "metadata": {},
   "source": [
    "A few questions:\n",
    "Does number of listings on a certain day influence average interest levels of buildings that day\n",
    "If high amount of listings cause lower average interest then we can test that people may be mostly looking at date created\n",
    "\n",
    "I also do not quite know how to use the pipeline here:\n",
    "https://www.kaggle.com/maximilianhahn/two-sigma-connect-rental-listing-inquiries/manager-skill-for-cross-validation-pipelines/notebook\n",
    "maybe someone can fiddle with it\n"
   ]
  },
  {
   "cell_type": "code",
   "execution_count": null,
   "metadata": {
    "collapsed": true
   },
   "outputs": [],
   "source": []
  }
 ],
 "metadata": {
  "anaconda-cloud": {},
  "kernelspec": {
   "display_name": "Python [conda env:py27]",
   "language": "python",
   "name": "conda-env-py27-py"
  },
  "language_info": {
   "codemirror_mode": {
    "name": "ipython",
    "version": 2
   },
   "file_extension": ".py",
   "mimetype": "text/x-python",
   "name": "python",
   "nbconvert_exporter": "python",
   "pygments_lexer": "ipython2",
   "version": "2.7.12"
  }
 },
 "nbformat": 4,
 "nbformat_minor": 1
}
