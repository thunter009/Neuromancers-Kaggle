{
 "cells": [
  {
   "cell_type": "code",
   "execution_count": 1,
   "metadata": {
    "collapsed": false
   },
   "outputs": [],
   "source": [
    "import numpy as np\n",
    "import pandas as pd\n",
    "import matplotlib.pyplot as plt\n",
    "import seaborn as sns\n",
    "from sklearn.ensemble import RandomForestClassifier\n",
    "from sklearn.model_selection import train_test_split\n",
    "from sklearn.metrics import log_loss, accuracy_score\n",
    "import xgboost as xgb\n",
    "\n",
    "# pull feature engineering notebook\n",
    "# add your own feature engineering functions to features.py and import them\n",
    "# only rule is the function must take a dataframe and return a dataframe (with your new features)\n",
    "from scripts.features import *\n",
    "from scripts.utils import *\n",
    "\n",
    "color = sns.color_palette()\n",
    "%matplotlib inline"
   ]
  },
  {
   "cell_type": "code",
   "execution_count": 3,
   "metadata": {
    "collapsed": true
   },
   "outputs": [],
   "source": [
    "df_train = pd.read_json(\"../data/drace_train.json\")\n",
    "df_test = pd.read_json(\"../data/drace_test.json\")\n",
    "# df_train_raw = pd.read_json(\"../data/train.json\")\n",
    "# df_test_raw = pd.read_json(\"../data/test.json\")"
   ]
  },
  {
   "cell_type": "code",
   "execution_count": 24,
   "metadata": {
    "collapsed": false
   },
   "outputs": [],
   "source": [
    "df_train.drop([i for i in df_train.columns if i not in df_test.columns if i not in 'interest_level'], \n",
    "              axis = 1, \n",
    "              inplace=True)"
   ]
  },
  {
   "cell_type": "code",
   "execution_count": 33,
   "metadata": {
    "collapsed": false
   },
   "outputs": [
    {
     "data": {
      "text/plain": [
       "(49338, 65)"
      ]
     },
     "execution_count": 33,
     "metadata": {},
     "output_type": "execute_result"
    }
   ],
   "source": [
    "df_train.shape"
   ]
  },
  {
   "cell_type": "code",
   "execution_count": 11,
   "metadata": {
    "collapsed": false
   },
   "outputs": [
    {
     "data": {
      "text/plain": [
       "(74659, 64)"
      ]
     },
     "execution_count": 11,
     "metadata": {},
     "output_type": "execute_result"
    }
   ],
   "source": [
    "df_test.shape"
   ]
  },
  {
   "cell_type": "markdown",
   "metadata": {},
   "source": [
    "### PRE-PROCESSING"
   ]
  },
  {
   "cell_type": "code",
   "execution_count": null,
   "metadata": {
    "collapsed": false
   },
   "outputs": [],
   "source": [
    "%%timeit\n",
    "scrub_and_engineer = [\n",
    "                    scrub,\n",
    "                    basic_numeric_features,\n",
    "                    n_log_price,\n",
    "                    n_expensive,\n",
    "                    count_caps,\n",
    "                    scrub_features,\n",
    "                    dist_to_nearest_tube,\n",
    "                    dist_to_nearest_college,\n",
    "                    add_neighbor_features_72,\n",
    "                      ]\n",
    "\n",
    "for func in scrub_and_engineer:\n",
    "    try:\n",
    "        df_train = func(df_train_raw)\n",
    "        df_test = func(df_test_raw)\n",
    "    except Exception as e:\n",
    "        print e\n",
    "        continue"
   ]
  },
  {
   "cell_type": "code",
   "execution_count": 34,
   "metadata": {
    "collapsed": false
   },
   "outputs": [
    {
     "data": {
      "text/plain": [
       "[u'0_per_72',\n",
       " u'100_per_72',\n",
       " u'10_per_72',\n",
       " u'20_per_72',\n",
       " u'30_per_72',\n",
       " u'40_per_72',\n",
       " u'50_per_72',\n",
       " u'60_per_72',\n",
       " u'70_per_72',\n",
       " u'80_per_72',\n",
       " u'90_per_72',\n",
       " u'BB_ratio',\n",
       " u'Price_P_Room',\n",
       " u'allow_pets',\n",
       " u'amount_of_caps',\n",
       " u'available',\n",
       " u'bathroom_listed',\n",
       " u'bathrooms',\n",
       " u'bedrooms',\n",
       " u'buzzword',\n",
       " u'created',\n",
       " u'created_day',\n",
       " u'created_hour',\n",
       " u'created_month',\n",
       " u'created_year',\n",
       " u'dishwash',\n",
       " u'dist_to_nearest_college',\n",
       " u'dist_to_nearest_tube',\n",
       " u'distance_from_midtown',\n",
       " u'doorman',\n",
       " u'fitness',\n",
       " u'furnished',\n",
       " u'hardwood',\n",
       " u'has_phone',\n",
       " u'is_studio',\n",
       " u'large_space',\n",
       " u'latitude',\n",
       " u'laundry',\n",
       " u'longitude',\n",
       " u'luxurious',\n",
       " u'mean_72',\n",
       " u'median_72',\n",
       " u'n_log_price',\n",
       " u'n_num_keyfeat_score',\n",
       " u'nofee',\n",
       " u'num_description_words',\n",
       " u'num_features',\n",
       " u'num_photos',\n",
       " u'preWar',\n",
       " u'price_vs_median_72_new',\n",
       " u'quiet_nei',\n",
       " u'space_desc',\n",
       " u'subway',\n",
       " u'weekday_created']"
      ]
     },
     "execution_count": 34,
     "metadata": {},
     "output_type": "execute_result"
    }
   ],
   "source": [
    "exclude = ['price', \n",
    "           'manager_skill', \n",
    "           'manager_skill_bool', \n",
    "           'price_vs_median_72',\n",
    "           'building_id',\n",
    "           'manager_id',\n",
    "           'listing_id']\n",
    "feats_to_train = [x for x in df_train.columns.tolist() if df_train[x].dtype not in ['O', '<M8[ns]'] and x not in exclude]\n",
    "feats_to_train"
   ]
  },
  {
   "cell_type": "markdown",
   "metadata": {},
   "source": [
    "### Hyperparameters"
   ]
  },
  {
   "cell_type": "code",
   "execution_count": 28,
   "metadata": {
    "collapsed": true
   },
   "outputs": [],
   "source": [
    "# Cross val\n",
    "test_size=0.20\n",
    "\n",
    "# Random Forest\n",
    "n_estimators=1000"
   ]
  },
  {
   "cell_type": "markdown",
   "metadata": {},
   "source": [
    "### Baseline training"
   ]
  },
  {
   "cell_type": "code",
   "execution_count": 29,
   "metadata": {
    "collapsed": false
   },
   "outputs": [],
   "source": [
    "base_features = [\"bathrooms\", \"bedrooms\", \"latitude\", \"longitude\", \"price\",\n",
    "             \"num_photos\", \"num_features\", \"num_description_words\",\n",
    "             \"created_year\", \"created_month\", \"created_day\"]\n",
    "X = df_train[base_features]\n",
    "y = df_train[\"interest_level\"]\n",
    "\n",
    "X_train, X_val, y_train, y_val = train_test_split(X, y, test_size=test_size)\n",
    "\n",
    "clf = RandomForestClassifier(n_estimators=n_estimators)\n",
    "clf.fit(X_train, y_train)\n",
    "y_val_pred = clf.predict_proba(X_val)\n",
    "baseline_logloss = log_loss(y_val, y_val_pred)"
   ]
  },
  {
   "cell_type": "code",
   "execution_count": 35,
   "metadata": {
    "collapsed": false
   },
   "outputs": [
    {
     "data": {
      "text/plain": [
       "0.64919408743315676"
      ]
     },
     "execution_count": 35,
     "metadata": {},
     "output_type": "execute_result"
    }
   ],
   "source": [
    "baseline_logloss"
   ]
  },
  {
   "cell_type": "markdown",
   "metadata": {},
   "source": [
    "### Training the new model"
   ]
  },
  {
   "cell_type": "code",
   "execution_count": 36,
   "metadata": {
    "collapsed": false
   },
   "outputs": [],
   "source": [
    "# filter out any object/string + timestamp variables and train the random forest on numerical columns\n",
    "# feats_to_train = [x for x in df_train.columns.tolist() if df_train[x].dtype not in ['O', '<M8[ns]']] \n",
    "X = df_train[feats_to_train]\n",
    "y = df_train[\"interest_level\"]\n",
    "\n",
    "X_train, X_val, y_train, y_val = train_test_split(X, y, test_size=test_size)\n",
    "\n",
    "test_clf = RandomForestClassifier(\n",
    "    n_estimators=n_estimators,\n",
    "    criterion='gini',\n",
    "    max_depth=None,\n",
    "    min_samples_split=2,\n",
    "    min_samples_leaf=1)\n",
    "test_clf.fit(X_train, y_train)\n",
    "y_val_pred = test_clf.predict_proba(X_val)\n",
    "test_logloss = log_loss(y_val, y_val_pred)"
   ]
  },
  {
   "cell_type": "code",
   "execution_count": 37,
   "metadata": {
    "collapsed": false
   },
   "outputs": [
    {
     "data": {
      "text/plain": [
       "0.60853896264808638"
      ]
     },
     "execution_count": 37,
     "metadata": {},
     "output_type": "execute_result"
    }
   ],
   "source": [
    "test_logloss"
   ]
  },
  {
   "cell_type": "markdown",
   "metadata": {
    "collapsed": false
   },
   "source": [
    "### Testing for raw improvement"
   ]
  },
  {
   "cell_type": "code",
   "execution_count": null,
   "metadata": {
    "collapsed": false
   },
   "outputs": [],
   "source": [
    "if baseline_logloss - test_logloss > 0:\n",
    "    print \"Model improved, save and submit\"\n",
    "else:\n",
    "    print \"Use baseline model, did not improve\""
   ]
  },
  {
   "cell_type": "code",
   "execution_count": null,
   "metadata": {
    "collapsed": false
   },
   "outputs": [],
   "source": [
    "# test RF accuracy\n",
    "accuracy_score(test_clf.predict(X_val), y_val)"
   ]
  },
  {
   "cell_type": "code",
   "execution_count": null,
   "metadata": {
    "collapsed": false
   },
   "outputs": [],
   "source": [
    "# test RF feature importance\n",
    "plot_feature_importance(test_clf, feats_to_train)"
   ]
  },
  {
   "cell_type": "code",
   "execution_count": null,
   "metadata": {
    "collapsed": true
   },
   "outputs": [],
   "source": [
    "# baseline RF accuracy\n",
    "accuracy_score(clf.predict(X_val), y_val)"
   ]
  },
  {
   "cell_type": "code",
   "execution_count": null,
   "metadata": {
    "collapsed": true
   },
   "outputs": [],
   "source": [
    "# baseline RF feature importance\n",
    "plot_feature_importance(clf, base_features)"
   ]
  },
  {
   "cell_type": "markdown",
   "metadata": {},
   "source": [
    "### Send model to pickle"
   ]
  },
  {
   "cell_type": "code",
   "execution_count": 38,
   "metadata": {
    "collapsed": true
   },
   "outputs": [],
   "source": [
    "# Save a dictionary into a pickle file.\n",
    "import pickle\n",
    "pickle.dump( test_clf, open( \"pickles/rf-Tom.p\", \"wb\" ) )"
   ]
  },
  {
   "cell_type": "markdown",
   "metadata": {},
   "source": [
    "### Clean up and output a submission file"
   ]
  },
  {
   "cell_type": "code",
   "execution_count": null,
   "metadata": {
    "collapsed": false
   },
   "outputs": [],
   "source": [
    "sub = output(df_test, clf, feats_to_train)"
   ]
  },
  {
   "cell_type": "code",
   "execution_count": null,
   "metadata": {
    "collapsed": true
   },
   "outputs": [],
   "source": [
    "sub.to_csv(\"rf-Tom.csv\", index=False)"
   ]
  },
  {
   "cell_type": "code",
   "execution_count": null,
   "metadata": {
    "collapsed": true
   },
   "outputs": [],
   "source": [
    "# submission = pd.read_csv('submission_rf.csv')\n",
    "# len(submission)"
   ]
  }
 ],
 "metadata": {
  "anaconda-cloud": {},
  "kernelspec": {
   "display_name": "Python [conda env:py27]",
   "language": "python",
   "name": "conda-env-py27-py"
  },
  "language_info": {
   "codemirror_mode": {
    "name": "ipython",
    "version": 2
   },
   "file_extension": ".py",
   "mimetype": "text/x-python",
   "name": "python",
   "nbconvert_exporter": "python",
   "pygments_lexer": "ipython2",
   "version": "2.7.12"
  }
 },
 "nbformat": 4,
 "nbformat_minor": 1
}
