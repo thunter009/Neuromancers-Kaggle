{
 "cells": [
  {
   "cell_type": "code",
   "execution_count": 45,
   "metadata": {
    "collapsed": false
   },
   "outputs": [],
   "source": [
    "import pandas\n",
    "import matplotlib.pyplot as plt\n",
    "import numpy as np\n",
    "import seaborn as sns\n",
    "import lightgbm as lgb \n",
    "from sklearn.grid_search import RandomizedSearchCV\n",
    "from scipy.stats import randint as sp_randint\n",
    "from numpy.random import random_sample\n",
    "from sklearn.model_selection import train_test_split\n",
    "from sklearn.metrics import log_loss,make_scorer\n",
    "from sklearn import model_selection, preprocessing, ensemble\n",
    "from sklearn import svm\n",
    "\n"
   ]
  },
  {
   "cell_type": "code",
   "execution_count": 29,
   "metadata": {
    "collapsed": false
   },
   "outputs": [],
   "source": [
    "\n",
    "df_test = pandas.read_json(\"final_train.json\")\n",
    "df_train = pandas.read_json(\"final_train.json\")\n",
    "\n",
    "\n",
    "categorical = [\"display_address\", \"manager_id\", \"building_id\", \"street_address\"]\n",
    "for f in categorical:\n",
    "        if df_train[f].dtype=='object':\n",
    "            lbl = preprocessing.LabelEncoder()\n",
    "            lbl.fit(list(df_train[f].values) + list(df_test[f].values))\n",
    "            df_train[f] = lbl.transform(list(df_train[f].values))\n",
    "            df_test[f] = lbl.transform(list(df_test[f].values))\n"
   ]
  },
  {
   "cell_type": "code",
   "execution_count": null,
   "metadata": {
    "collapsed": false
   },
   "outputs": [],
   "source": []
  },
  {
   "cell_type": "code",
   "execution_count": 30,
   "metadata": {
    "collapsed": false
   },
   "outputs": [],
   "source": [
    "exclude = ['price','n_no_photo','n_expensive']\n",
    "feats_to_train = [x for x in df_train.columns.tolist() if df_train[x].dtype not in ['O', '<M8[ns]'] and x not in exclude]\n"
   ]
  },
  {
   "cell_type": "code",
   "execution_count": 31,
   "metadata": {
    "collapsed": false
   },
   "outputs": [],
   "source": [
    "train_X = df_train[feats_to_train]\n",
    "train_y=df_train['price']"
   ]
  },
  {
   "cell_type": "code",
   "execution_count": 32,
   "metadata": {
    "collapsed": false
   },
   "outputs": [],
   "source": [
    "num_map = {'high':0, 'medium':1, 'low':2}\n",
    "train_X = df_train[feats_to_train]\n",
    "train_y = df_train['interest_level'].apply(lambda x: num_map[x])\n",
    "test_X = df_test[feats_to_train]\n"
   ]
  },
  {
   "cell_type": "code",
   "execution_count": null,
   "metadata": {
    "collapsed": false
   },
   "outputs": [],
   "source": []
  },
  {
   "cell_type": "code",
   "execution_count": 38,
   "metadata": {
    "collapsed": false
   },
   "outputs": [
    {
     "name": "stdout",
     "output_type": "stream",
     "text": [
      "[1]\tvalid_0's multi_logloss: 1.06701\n",
      "Train until valid scores didn't improve in 10 rounds.\n",
      "[2]\tvalid_0's multi_logloss: 1.03792\n",
      "[3]\tvalid_0's multi_logloss: 1.01107\n",
      "[4]\tvalid_0's multi_logloss: 0.986447\n",
      "[5]\tvalid_0's multi_logloss: 0.963615\n",
      "[6]\tvalid_0's multi_logloss: 0.942337\n",
      "[7]\tvalid_0's multi_logloss: 0.922512\n",
      "[8]\tvalid_0's multi_logloss: 0.904263\n",
      "[9]\tvalid_0's multi_logloss: 0.887326\n",
      "[10]\tvalid_0's multi_logloss: 0.871455\n",
      "[11]\tvalid_0's multi_logloss: 0.856391\n",
      "[12]\tvalid_0's multi_logloss: 0.842496\n",
      "[13]\tvalid_0's multi_logloss: 0.829382\n",
      "[14]\tvalid_0's multi_logloss: 0.817013\n",
      "[15]\tvalid_0's multi_logloss: 0.805539\n",
      "[16]\tvalid_0's multi_logloss: 0.794764\n",
      "[17]\tvalid_0's multi_logloss: 0.784646\n",
      "[18]\tvalid_0's multi_logloss: 0.775218\n",
      "[19]\tvalid_0's multi_logloss: 0.766277\n",
      "[20]\tvalid_0's multi_logloss: 0.757918\n",
      "[21]\tvalid_0's multi_logloss: 0.749921\n",
      "[22]\tvalid_0's multi_logloss: 0.742541\n",
      "[23]\tvalid_0's multi_logloss: 0.735389\n",
      "[24]\tvalid_0's multi_logloss: 0.728819\n",
      "[25]\tvalid_0's multi_logloss: 0.72247\n",
      "[26]\tvalid_0's multi_logloss: 0.7166\n",
      "[27]\tvalid_0's multi_logloss: 0.710864\n",
      "[28]\tvalid_0's multi_logloss: 0.705567\n",
      "[29]\tvalid_0's multi_logloss: 0.700497\n",
      "[30]\tvalid_0's multi_logloss: 0.69561\n",
      "[31]\tvalid_0's multi_logloss: 0.69108\n",
      "[32]\tvalid_0's multi_logloss: 0.686716\n",
      "[33]\tvalid_0's multi_logloss: 0.682555\n",
      "[34]\tvalid_0's multi_logloss: 0.678561\n",
      "[35]\tvalid_0's multi_logloss: 0.674822\n",
      "[36]\tvalid_0's multi_logloss: 0.671183\n",
      "[37]\tvalid_0's multi_logloss: 0.66786\n",
      "[38]\tvalid_0's multi_logloss: 0.664556\n",
      "[39]\tvalid_0's multi_logloss: 0.661503\n",
      "[40]\tvalid_0's multi_logloss: 0.658547\n",
      "[41]\tvalid_0's multi_logloss: 0.655509\n",
      "[42]\tvalid_0's multi_logloss: 0.652829\n",
      "[43]\tvalid_0's multi_logloss: 0.650067\n",
      "[44]\tvalid_0's multi_logloss: 0.647466\n",
      "[45]\tvalid_0's multi_logloss: 0.64497\n",
      "[46]\tvalid_0's multi_logloss: 0.642588\n",
      "[47]\tvalid_0's multi_logloss: 0.640322\n",
      "[48]\tvalid_0's multi_logloss: 0.638274\n",
      "[49]\tvalid_0's multi_logloss: 0.63622\n",
      "[50]\tvalid_0's multi_logloss: 0.634204\n",
      "[51]\tvalid_0's multi_logloss: 0.632264\n",
      "[52]\tvalid_0's multi_logloss: 0.63036\n",
      "[53]\tvalid_0's multi_logloss: 0.628634\n",
      "[54]\tvalid_0's multi_logloss: 0.626903\n",
      "[55]\tvalid_0's multi_logloss: 0.625217\n",
      "[56]\tvalid_0's multi_logloss: 0.623531\n",
      "[57]\tvalid_0's multi_logloss: 0.621992\n",
      "[58]\tvalid_0's multi_logloss: 0.620514\n",
      "[59]\tvalid_0's multi_logloss: 0.619036\n",
      "[60]\tvalid_0's multi_logloss: 0.617736\n",
      "[61]\tvalid_0's multi_logloss: 0.616403\n",
      "[62]\tvalid_0's multi_logloss: 0.615204\n",
      "[63]\tvalid_0's multi_logloss: 0.614071\n",
      "[64]\tvalid_0's multi_logloss: 0.613003\n",
      "[65]\tvalid_0's multi_logloss: 0.611788\n",
      "[66]\tvalid_0's multi_logloss: 0.610859\n",
      "[67]\tvalid_0's multi_logloss: 0.609832\n",
      "[68]\tvalid_0's multi_logloss: 0.608818\n",
      "[69]\tvalid_0's multi_logloss: 0.607892\n",
      "[70]\tvalid_0's multi_logloss: 0.60696\n",
      "[71]\tvalid_0's multi_logloss: 0.606059\n",
      "[72]\tvalid_0's multi_logloss: 0.605181\n",
      "[73]\tvalid_0's multi_logloss: 0.60438\n",
      "[74]\tvalid_0's multi_logloss: 0.603508\n",
      "[75]\tvalid_0's multi_logloss: 0.602703\n",
      "[76]\tvalid_0's multi_logloss: 0.601981\n",
      "[77]\tvalid_0's multi_logloss: 0.601198\n",
      "[78]\tvalid_0's multi_logloss: 0.600397\n",
      "[79]\tvalid_0's multi_logloss: 0.59974\n",
      "[80]\tvalid_0's multi_logloss: 0.599138\n",
      "[81]\tvalid_0's multi_logloss: 0.598383\n",
      "[82]\tvalid_0's multi_logloss: 0.597816\n",
      "[83]\tvalid_0's multi_logloss: 0.597173\n",
      "[84]\tvalid_0's multi_logloss: 0.596502\n",
      "[85]\tvalid_0's multi_logloss: 0.595941\n",
      "[86]\tvalid_0's multi_logloss: 0.595302\n",
      "[87]\tvalid_0's multi_logloss: 0.594636\n",
      "[88]\tvalid_0's multi_logloss: 0.594138\n",
      "[89]\tvalid_0's multi_logloss: 0.593584\n",
      "[90]\tvalid_0's multi_logloss: 0.593039\n",
      "[91]\tvalid_0's multi_logloss: 0.592546\n",
      "[92]\tvalid_0's multi_logloss: 0.592021\n",
      "[93]\tvalid_0's multi_logloss: 0.591551\n",
      "[94]\tvalid_0's multi_logloss: 0.591078\n",
      "[95]\tvalid_0's multi_logloss: 0.590539\n",
      "[96]\tvalid_0's multi_logloss: 0.590145\n",
      "[97]\tvalid_0's multi_logloss: 0.58973\n",
      "[98]\tvalid_0's multi_logloss: 0.589203\n",
      "[99]\tvalid_0's multi_logloss: 0.588775\n",
      "[100]\tvalid_0's multi_logloss: 0.588305\n"
     ]
    }
   ],
   "source": [
    "X_train, X_test, y_train, y_test = train_test_split(train_X, train_y, test_size=0.33)\n",
    "\n",
    "# https://github.com/Microsoft/LightGBM/tree/master/examples/python-guide\n",
    "# https://github.com/Microsoft/LightGBM/blob/master/docs/Python-API.md\n",
    "lgb_train = lgb.Dataset(X_train, y_train)\n",
    "lgb_eval = lgb.Dataset(X_test, y_test, reference=lgb_train)\n",
    "\n",
    "\n",
    "params = {\n",
    "    'task': 'train',\n",
    "    'boosting_type': 'gbdt',\n",
    "    'objective': 'multiclass',\n",
    "    'metric': {'multi_logloss'},\n",
    "    'learning_rate': .05,\n",
    "    'verbose': 1,\n",
    "    'num_class':3,\n",
    "    'estimators':20,\n",
    "    'num_leaves':20\n",
    "    \n",
    "\n",
    "}\n",
    "\n",
    "\n",
    "gbm = lgb.train(params,\n",
    "                lgb_train,\n",
    "                valid_sets=lgb_eval,\n",
    "                early_stopping_rounds=10)\n",
    "\n",
    "\n",
    "\n",
    "\n"
   ]
  },
  {
   "cell_type": "code",
   "execution_count": 41,
   "metadata": {
    "collapsed": false
   },
   "outputs": [
    {
     "data": {
      "text/plain": [
       "LGBMClassifier(boosting_type='gbdt', colsample_bytree=1, drop_rate=0.1,\n",
       "        is_unbalance=False, learning_rate=0.1, max_bin=255, max_depth=-1,\n",
       "        max_drop=50, min_child_samples=10, min_child_weight=5,\n",
       "        min_split_gain=0, n_estimators=10, nthread=-1, num_leaves=31,\n",
       "        objective='binary', reg_alpha=0, reg_lambda=0, scale_pos_weight=1,\n",
       "        seed=0, sigmoid=1.0, silent=True, skip_drop=0.5, subsample=1,\n",
       "        subsample_for_bin=50000, subsample_freq=1, uniform_drop=False,\n",
       "        xgboost_dart_mode=False)"
      ]
     },
     "execution_count": 41,
     "metadata": {},
     "output_type": "execute_result"
    }
   ],
   "source": [
    "gbm = lgb.LGBMClassifier()\n",
    "gbm"
   ]
  },
  {
   "cell_type": "code",
   "execution_count": null,
   "metadata": {
    "collapsed": false
   },
   "outputs": [
    {
     "name": "stdout",
     "output_type": "stream",
     "text": [
      "Fitting 5 folds for each of 20 candidates, totalling 100 fits\n",
      "[CV] n_estimators=49, num_leaves=539, learning_rate=0.81 .............\n",
      "[CV]  n_estimators=49, num_leaves=539, learning_rate=0.81, score=-0.829383 -  22.1s\n",
      "[Parallel(n_jobs=1)]: Done   1 out of   1 | elapsed:   22.1s remaining:    0.0s\n",
      "[CV] n_estimators=49, num_leaves=539, learning_rate=0.81 .............\n",
      "[CV]  n_estimators=49, num_leaves=539, learning_rate=0.81, score=-0.848198 -  24.9s\n",
      "[Parallel(n_jobs=1)]: Done   2 out of   2 | elapsed:   47.0s remaining:    0.0s\n",
      "[CV] n_estimators=49, num_leaves=539, learning_rate=0.81 .............\n",
      "[CV]  n_estimators=49, num_leaves=539, learning_rate=0.81, score=-0.836664 -  23.8s\n",
      "[Parallel(n_jobs=1)]: Done   3 out of   3 | elapsed:  1.2min remaining:    0.0s\n",
      "[CV] n_estimators=49, num_leaves=539, learning_rate=0.81 .............\n",
      "[CV]  n_estimators=49, num_leaves=539, learning_rate=0.81, score=-0.848114 -  23.5s\n",
      "[Parallel(n_jobs=1)]: Done   4 out of   4 | elapsed:  1.6min remaining:    0.0s\n",
      "[CV] n_estimators=49, num_leaves=539, learning_rate=0.81 .............\n",
      "[CV]  n_estimators=49, num_leaves=539, learning_rate=0.81, score=-0.851734 -  22.8s\n",
      "[Parallel(n_jobs=1)]: Done   5 out of   5 | elapsed:  2.0min remaining:    0.0s\n",
      "[CV] n_estimators=83, num_leaves=832, learning_rate=0.31 .............\n",
      "[CV]  n_estimators=83, num_leaves=832, learning_rate=0.31, score=-0.703517 -  55.8s\n",
      "[Parallel(n_jobs=1)]: Done   6 out of   6 | elapsed:  2.9min remaining:    0.0s\n",
      "[CV] n_estimators=83, num_leaves=832, learning_rate=0.31 .............\n",
      "[CV]  n_estimators=83, num_leaves=832, learning_rate=0.31, score=-0.719758 - 1.1min\n",
      "[Parallel(n_jobs=1)]: Done   7 out of   7 | elapsed:  3.9min remaining:    0.0s\n",
      "[CV] n_estimators=83, num_leaves=832, learning_rate=0.31 .............\n",
      "[CV]  n_estimators=83, num_leaves=832, learning_rate=0.31, score=-0.731371 - 1.1min\n",
      "[Parallel(n_jobs=1)]: Done   8 out of   8 | elapsed:  5.0min remaining:    0.0s\n",
      "[CV] n_estimators=83, num_leaves=832, learning_rate=0.31 .............\n",
      "[CV]  n_estimators=83, num_leaves=832, learning_rate=0.31, score=-0.733041 - 1.2min\n",
      "[Parallel(n_jobs=1)]: Done   9 out of   9 | elapsed:  6.2min remaining:    0.0s\n",
      "[CV] n_estimators=83, num_leaves=832, learning_rate=0.31 .............\n",
      "[CV]  n_estimators=83, num_leaves=832, learning_rate=0.31, score=-0.739455 - 1.2min\n",
      "[Parallel(n_jobs=1)]: Done  10 out of  10 | elapsed:  7.4min remaining:    0.0s\n",
      "[CV] n_estimators=23, num_leaves=218, learning_rate=0.31 .............\n",
      "[CV]  n_estimators=23, num_leaves=218, learning_rate=0.31, score=-0.565261 -  11.1s\n",
      "[Parallel(n_jobs=1)]: Done  11 out of  11 | elapsed:  7.6min remaining:    0.0s\n",
      "[CV] n_estimators=23, num_leaves=218, learning_rate=0.31 .............\n",
      "[CV]  n_estimators=23, num_leaves=218, learning_rate=0.31, score=-0.567351 -  10.8s\n",
      "[Parallel(n_jobs=1)]: Done  12 out of  12 | elapsed:  7.8min remaining:    0.0s\n",
      "[CV] n_estimators=23, num_leaves=218, learning_rate=0.31 .............\n"
     ]
    }
   ],
   "source": [
    "param_grid = {\n",
    "    'learning_rate': np.arange( .01, 1, 0.1).tolist(),\n",
    "    'n_estimators': sp_randint(1,100),\n",
    "    'num_leaves': sp_randint(1,1024)\n",
    "}\n",
    "\n",
    "\n",
    "\n",
    "gbm_rand = RandomizedSearchCV(gbm,param_grid,cv=5,  verbose=100, scoring = 'neg_log_loss',n_iter=20)\n",
    "gbm_rand.fit(train_X,train_y)"
   ]
  },
  {
   "cell_type": "code",
   "execution_count": 28,
   "metadata": {
    "collapsed": false
   },
   "outputs": [
    {
     "name": "stdout",
     "output_type": "stream",
     "text": [
      "{'n_estimators': 40, 'num_leaves': 20, 'learning_rate': 0.5} -0.567393038816\n"
     ]
    }
   ],
   "source": [
    "print gbm_rand.best_params_,gbm_rand.best_score_\n",
    "# {'n_estimators': 40, 'num_leaves': 20, 'learning_rate': 0.5} -0.567393038816\n"
   ]
  },
  {
   "cell_type": "code",
   "execution_count": 25,
   "metadata": {
    "collapsed": true
   },
   "outputs": [],
   "source": [
    "lgb_train = lgb.Dataset(train_X, train_y)\n",
    "\n",
    "gbm = lgb.train(params,lgb_train,early_stopping_rounds=5)\n",
    "\n",
    "\n",
    "preds= gbm.predict(test_X)\n"
   ]
  },
  {
   "cell_type": "code",
   "execution_count": 27,
   "metadata": {
    "collapsed": true
   },
   "outputs": [],
   "source": [
    "out_df = pandas.DataFrame(preds)\n",
    "out_df = pandas.DataFrame(preds)\n",
    "out_df.columns = [\"high\", \"medium\", \"low\"]\n",
    "out_df[\"listing_id\"] = df_test.listing_id.values\n"
   ]
  },
  {
   "cell_type": "code",
   "execution_count": 30,
   "metadata": {
    "collapsed": true
   },
   "outputs": [],
   "source": [
    "out_df.to_csv(\"lgb2.csv\", index=False)"
   ]
  },
  {
   "cell_type": "code",
   "execution_count": null,
   "metadata": {
    "collapsed": true
   },
   "outputs": [],
   "source": []
  }
 ],
 "metadata": {
  "kernelspec": {
   "display_name": "Python 2",
   "language": "python",
   "name": "python2"
  },
  "language_info": {
   "codemirror_mode": {
    "name": "ipython",
    "version": 2
   },
   "file_extension": ".py",
   "mimetype": "text/x-python",
   "name": "python",
   "nbconvert_exporter": "python",
   "pygments_lexer": "ipython2",
   "version": "2.7.13"
  }
 },
 "nbformat": 4,
 "nbformat_minor": 2
}
