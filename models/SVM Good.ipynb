{
 "cells": [
  {
   "cell_type": "code",
   "execution_count": 1,
   "metadata": {
    "collapsed": false
   },
   "outputs": [
    {
     "name": "stderr",
     "output_type": "stream",
     "text": [
      "//anaconda/lib/python2.7/site-packages/sklearn/cross_validation.py:44: DeprecationWarning: This module was deprecated in version 0.18 in favor of the model_selection module into which all the refactored classes and functions are moved. Also note that the interface of the new CV iterators are different from that of this module. This module will be removed in 0.20.\n",
      "  \"This module will be removed in 0.20.\", DeprecationWarning)\n",
      "//anaconda/lib/python2.7/site-packages/sklearn/grid_search.py:43: DeprecationWarning: This module was deprecated in version 0.18 in favor of the model_selection module into which all the refactored classes and functions are moved. This module will be removed in 0.20.\n",
      "  DeprecationWarning)\n"
     ]
    }
   ],
   "source": [
    "import pandas\n",
    "import matplotlib.pyplot as plt\n",
    "import numpy as np\n",
    "import seaborn as sns\n",
    "from sklearn.grid_search import RandomizedSearchCV\n",
    "from scipy.stats import randint as sp_randint\n",
    "\n",
    "from sklearn.model_selection import train_test_split\n",
    "from sklearn.metrics import log_loss,make_scorer\n",
    "from sklearn import model_selection, preprocessing, ensemble\n",
    "from sklearn import svm\n"
   ]
  },
  {
   "cell_type": "code",
   "execution_count": 2,
   "metadata": {
    "collapsed": false
   },
   "outputs": [],
   "source": [
    "df_test = pandas.read_json(\"final_train.json\")\n",
    "df_train = pandas.read_json(\"final_train.json\")\n",
    "\n",
    "\n",
    "categorical = [\"display_address\", \"manager_id\", \"building_id\", \"street_address\"]\n",
    "for f in categorical:\n",
    "        if df_train[f].dtype=='object':\n",
    "            lbl = preprocessing.LabelEncoder()\n",
    "            lbl.fit(list(df_train[f].values) + list(df_test[f].values))\n",
    "            df_train[f] = lbl.transform(list(df_train[f].values))\n",
    "            df_test[f] = lbl.transform(list(df_test[f].values))\n",
    "\n"
   ]
  },
  {
   "cell_type": "code",
   "execution_count": null,
   "metadata": {
    "collapsed": false
   },
   "outputs": [],
   "source": []
  },
  {
   "cell_type": "code",
   "execution_count": 3,
   "metadata": {
    "collapsed": false
   },
   "outputs": [],
   "source": [
    "exclude = ['price','n_no_photo','n_expensive']\n",
    "feats_to_train = [x for x in df_train.columns.tolist() if df_train[x].dtype not in ['O', '<M8[ns]'] and x not in exclude]\n"
   ]
  },
  {
   "cell_type": "code",
   "execution_count": 4,
   "metadata": {
    "collapsed": false
   },
   "outputs": [],
   "source": [
    "train_X = df_train[feats_to_train]\n",
    "train_y=df_train['price']"
   ]
  },
  {
   "cell_type": "code",
   "execution_count": 5,
   "metadata": {
    "collapsed": false
   },
   "outputs": [],
   "source": [
    "num_map = {'high':0, 'medium':1, 'low':2}\n",
    "\n",
    "df_train_sample = df_train.sample(frac=0.1, replace=False) \n",
    "\n",
    "train_X = df_train_sample[feats_to_train]\n",
    "train_y = df_train_sample['interest_level'].apply(lambda x: num_map[x])\n",
    "test_X = df_train_sample[feats_to_train]\n"
   ]
  },
  {
   "cell_type": "code",
   "execution_count": null,
   "metadata": {
    "collapsed": false
   },
   "outputs": [],
   "source": []
  },
  {
   "cell_type": "code",
   "execution_count": 6,
   "metadata": {
    "collapsed": false
   },
   "outputs": [],
   "source": [
    "# grid_para_svm = {'C': sp_randint(1,1000), 'kernel': ['poly'], 'degree': sp_randint(1,4)}\n",
    "\n",
    "\n",
    "# grid_para_svm =  {'C': sp_randint(1,1000), \n",
    "#                   'gamma': np.arange(.0001, .0011, .0001).tolist(), \n",
    "#                   'kernel': ['rbf'], 'decision_function_shape':['ovr','ovo']}\n",
    "\n",
    "# svm_model = svm.SVC(probability=True)\n",
    "# grid_search_svm = RandomizedSearchCV(svm_model,grid_para_svm,cv=5,scoring = 'neg_log_loss',verbose=100)\n",
    "\n",
    "# grid_search_svm.fit(train_X, train_y)"
   ]
  },
  {
   "cell_type": "code",
   "execution_count": 7,
   "metadata": {
    "collapsed": false
   },
   "outputs": [],
   "source": [
    "# print grid_search_svm.best_params_,grid_search_svm.best_score_\n",
    "\n",
    "# {'kernel': 'rbf', 'C': 1, 'decision_function_shape': 'ovr', 'gamma': 0.001} -0.792440919858\n",
    "#{'kernel': 'rbf', 'C': 381, 'decision_function_shape': 'ovr', 'gamma': 0.0009000000000000001} -0.792443231806\n"
   ]
  },
  {
   "cell_type": "code",
   "execution_count": null,
   "metadata": {
    "collapsed": false
   },
   "outputs": [],
   "source": []
  },
  {
   "cell_type": "code",
   "execution_count": null,
   "metadata": {
    "collapsed": false
   },
   "outputs": [],
   "source": []
  },
  {
   "cell_type": "code",
   "execution_count": null,
   "metadata": {
    "collapsed": false
   },
   "outputs": [
    {
     "name": "stdout",
     "output_type": "stream",
     "text": [
      "[LibSVM]"
     ]
    }
   ],
   "source": [
    "train_X = df_train[feats_to_train]\n",
    "train_y = df_train['interest_level'].apply(lambda x: num_map[x])\n",
    "\n",
    "\n",
    "svm_model = svm.SVC(probability=True, kernel='rbf',C=38, decision_function_shape='ovr', gamma=0.0009,verbose=100)\n",
    "svm = svm_model.fit(train_X,train_y)\n",
    "\n",
    "\n",
    "preds= svm_model.predict_proba(test_X)\n"
   ]
  },
  {
   "cell_type": "code",
   "execution_count": null,
   "metadata": {
    "collapsed": false
   },
   "outputs": [],
   "source": [
    "out_df = pandas.DataFrame(preds)\n",
    "out_df = pandas.DataFrame(preds)\n",
    "out_df.columns = [\"high\", \"medium\", \"low\"]\n",
    "out_df[\"listing_id\"] = df_test.listing_id.values\n"
   ]
  },
  {
   "cell_type": "code",
   "execution_count": null,
   "metadata": {
    "collapsed": true
   },
   "outputs": [],
   "source": [
    "out_df.to_csv(\"svm.csv\", index=False)"
   ]
  },
  {
   "cell_type": "code",
   "execution_count": null,
   "metadata": {
    "collapsed": true
   },
   "outputs": [],
   "source": []
  }
 ],
 "metadata": {
  "kernelspec": {
   "display_name": "Python 2",
   "language": "python",
   "name": "python2"
  },
  "language_info": {
   "codemirror_mode": {
    "name": "ipython",
    "version": 2
   },
   "file_extension": ".py",
   "mimetype": "text/x-python",
   "name": "python",
   "nbconvert_exporter": "python",
   "pygments_lexer": "ipython2",
   "version": "2.7.13"
  }
 },
 "nbformat": 4,
 "nbformat_minor": 2
}
