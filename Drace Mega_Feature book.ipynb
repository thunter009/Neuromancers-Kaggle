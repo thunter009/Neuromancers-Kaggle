{
 "cells": [
  {
   "cell_type": "code",
   "execution_count": 1,
   "metadata": {
    "collapsed": true
   },
   "outputs": [],
   "source": [
    "import numpy as np # linear algebra\n",
    "import pandas as pd # data processing, CSV file I/O (e.g. pd.read_csv)\n",
    "import matplotlib.pyplot as plt\n",
    "import seaborn as sns\n",
    "from sklearn.ensemble import RandomForestClassifier\n",
    "from sklearn.metrics import log_loss\n",
    "from sklearn.cross_validation import cross_val_score, train_test_split\n",
    "from sklearn import preprocessing\n",
    "color = sns.color_palette()\n",
    "%matplotlib inline\n"
   ]
  },
  {
   "cell_type": "code",
   "execution_count": 2,
   "metadata": {
    "collapsed": true
   },
   "outputs": [],
   "source": [
    "df_train = pd.read_json('price_vs_median30.json')\n",
    "df_test = pd.read_json('test.json')"
   ]
  },
  {
   "cell_type": "code",
   "execution_count": 3,
   "metadata": {
    "collapsed": false
   },
   "outputs": [],
   "source": [
    "from pandas import to_datetime\n",
    "import numpy as np\n",
    "import re\n",
    "\n",
    "\n",
    "def basic_numeric_features(df):\n",
    "    df[\"num_photos\"] = df[\"photos\"].apply(len)\n",
    "    df[\"num_features\"] = df[\"features\"].apply(len)\n",
    "    df[\"num_description_words\"] = df[\n",
    "        \"description\"].apply(lambda x: len(x.split(\" \")))\n",
    "    df[\"created_year\"] = df[\"created\"].dt.year\n",
    "    df[\"created_month\"] = df[\"created\"].dt.month\n",
    "    df[\"created_day\"] = df[\"created\"].dt.day\n",
    "    df[\"created_hour\"] = df[\"created\"].dt.hour\n",
    "    return df\n",
    "\n",
    "\n",
    "def num_keyword(df):\n",
    "    # n_num_keyword: check if a key word makes a difference in terms of\n",
    "    # interest_level:\n",
    "    match_list = [map(lambda x: re.search('elevator|cats|dogs|doorman|dishwasher|no fee|laundry|fitness', x.lower()),\n",
    "                      list(df['features'])[i]) for i in np.arange(0, len(df['features']), 1)]\n",
    "    nfeat_list = []\n",
    "    for i in match_list:\n",
    "        if i is None:\n",
    "            nfeat_list.append(0)\n",
    "        else:\n",
    "            if not any(i):  # check to filter out lists with no all None values\n",
    "                nfeat_list.append(0)\n",
    "            else:\n",
    "                lis1 = []\n",
    "                map(lambda x: lis1.append(1) if x is None else lis1.append(0), i)\n",
    "                nfeat_list.append(sum(lis1))\n",
    "\n",
    "    # new variable n_num_keyfeat_score\n",
    "    nfeat_score = []\n",
    "    for i in nfeat_list:\n",
    "        if i <= 5:\n",
    "            nfeat_score.append(0)\n",
    "        elif i == 6:\n",
    "            nfeat_score.append(1)\n",
    "        elif i == 7:\n",
    "            nfeat_score.append(2)\n",
    "        elif i == 8:\n",
    "            nfeat_score.append(3)\n",
    "        elif i == 9:\n",
    "            nfeat_score.append(4)\n",
    "        elif i == 10:\n",
    "            nfeat_score.append(5)\n",
    "        else:\n",
    "            nfeat_score.append(6)\n",
    "\n",
    "    df['n_num_keyfeat_score'] = nfeat_score\n",
    "    return df\n",
    "\n",
    "\n",
    "def no_photo(df):\n",
    "    df['n_no_photo'] = [1 if i == 0 else 0 for i in map(len, df['photos'])]\n",
    "    return df\n",
    "\n",
    "\n",
    "def count_caps(df):\n",
    "    def get_caps(message):\n",
    "        caps = sum(1 for c in message if c.isupper())\n",
    "        total_characters = sum(1 for c in message if c.isalpha())\n",
    "        if total_characters > 0:\n",
    "            caps = caps / (total_characters * 1.0)\n",
    "        return caps\n",
    "    df['amount_of_caps'] = df['description'].apply(get_caps)\n",
    "    return df\n",
    "\n",
    "\n",
    "def has_phone(df):\n",
    "    # http://stackoverflow.com/questions/16699007/regular-expression-to-match-standard-10-digit-phone-number\n",
    "    phone_regex = \"(\\d{3}[-\\.\\s]??\\d{3}[-\\.\\s]??\\d{4}|\\(\\d{3}\\)\\s*\\d{3}[-\\.\\s]??\\d{4}|\\d{3}[-\\.\\s]??\\d{4})\"\n",
    "    has_phone = df['description'].str.extract(phone_regex)\n",
    "    df['has_phone'] = [type(item) == unicode for item in has_phone]\n",
    "    return df\n",
    "\n",
    "\n",
    "def n_log_price(df):\n",
    "    # n_price_sqrt improves original 'price' variable smoothing extreme\n",
    "    # right skew and fat tails.\n",
    "    # Use either 'price' or this new var to avoid multicolinearity.\n",
    "    df['n_log_price'] = np.log(df['price'])\n",
    "    return df\n",
    "\n",
    "\n",
    "def n_expensive(df):\n",
    "    # 'Low' interest make 70% population. Statistical analysis shows price\n",
    "    # among 'Low' interest exhibits the highest kurtosis and skew.\n",
    "    # n_expensive is 1 when the price is above 75% percentile aggregate\n",
    "    # prices and 0 otherwise.\n",
    "    # you can use it along with either price or n_price_sqrt.\n",
    "    threshold_75p = df[['price']].describe().loc['75%', 'price']\n",
    "    df['n_expensive'] = [\n",
    "        1 if i > threshold_75p else 0 for i in list(df['price'])]\n",
    "    return df\n",
    "\n",
    "\n",
    "def dist_from_midtown(df):\n",
    "    from geopy.distance import vincenty\n",
    "    # pip install geopy\n",
    "    # https://github.com/geopy/geopy\n",
    "    # calculates vincenty dist\n",
    "    # https://en.wikipedia.org/wiki/Vincenty's_formulae\n",
    "    lat = df['latitude'].tolist()\n",
    "    long_ = df['longitude'].tolist()\n",
    "    midtown_lat = 40.7586\n",
    "    midtown_long = -73.9838\n",
    "    distance = []\n",
    "    for i in range(len(lat)):\n",
    "        distance.append(\n",
    "            vincenty((lat[i], long_[i]), (midtown_lat, midtown_long)).meters)\n",
    "    df['distance_from_midtown'] = distance\n",
    "    return df\n",
    "\n",
    "\n",
    "def price_vs_mean_30(df):\n",
    "    # userfriendly for def_nearest_neighbour created earlier.\n",
    "    # Output: df with price_vs_median for each row\n",
    "    # The code below solves NA issues and round some results to save execution errors\n",
    "    temp = pd.read_json(\"price_vs_median30.json\")['price_vs_median_30']\n",
    "    mean = np.mean(temp) \n",
    "    import math\n",
    "    df['price_vs_median_30'] = [mean if math.isnan(i)== True  else round(i,2) for i in temp]\n",
    "\n",
    "    return df\n",
    "\n"
   ]
  },
  {
   "cell_type": "code",
   "execution_count": 4,
   "metadata": {
    "collapsed": false
   },
   "outputs": [],
   "source": [
    "df_train.created = pd.to_datetime(df_train.created)"
   ]
  },
  {
   "cell_type": "code",
   "execution_count": 5,
   "metadata": {
    "collapsed": false
   },
   "outputs": [
    {
     "name": "stderr",
     "output_type": "stream",
     "text": [
      "C:\\Users\\Drace\\AppData\\Local\\Continuum\\Anaconda2\\lib\\site-packages\\ipykernel\\__main__.py:39: SettingWithCopyWarning: \n",
      "A value is trying to be set on a copy of a slice from a DataFrame\n",
      "\n",
      "See the caveats in the documentation: http://pandas.pydata.org/pandas-docs/stable/indexing.html#indexing-view-versus-copy\n",
      "C:\\Users\\Drace\\AppData\\Local\\Continuum\\Anaconda2\\lib\\site-packages\\ipykernel\\__main__.py:40: SettingWithCopyWarning: \n",
      "A value is trying to be set on a copy of a slice from a DataFrame\n",
      "\n",
      "See the caveats in the documentation: http://pandas.pydata.org/pandas-docs/stable/indexing.html#indexing-view-versus-copy\n"
     ]
    }
   ],
   "source": [
    "df_train['date_created'] = df_train.created.dt.date\n",
    "df_train['weekday_created'] = df_train.created.dt.dayofweek\n",
    "df_train['hour_created'] = df_train.created.dt.hour\n",
    "df_train[\"created_day\"] = df_train[\"created\"].dt.day\n",
    "\n",
    "df_train[\"num_photos\"] = df_train[\"photos\"].apply(len)\n",
    "df_train[\"num_features\"] = df_train[\"features\"].apply(len)\n",
    "df_train[\"num_description_words\"] = df_train[\"description\"].apply(lambda x: len(x.split(\" \")))\n",
    "\n",
    "df_train['interest_level'] = pd.Categorical(df_train['interest_level'], categories= ['low', 'medium', 'high'], ordered=True)\n",
    "\n",
    "lbl = preprocessing.LabelEncoder()\n",
    "lbl.fit(list(df_train['manager_id'].values))\n",
    "df_train['manager_id'] = lbl.transform(list(df_train['manager_id'].values))\n",
    "#list of id's to encode\n",
    "manager_ids = list(df_train['manager_id'].values)\n",
    "#new var to create\n",
    "new_var = 'manager_id'#'manager_id_encoded'\n",
    "#response var\n",
    "resp_var = 'interest_level'\n",
    "\n",
    "\n",
    "temp = pd.concat([df_train[new_var], pd.get_dummies(df_train[resp_var])], axis = 1).groupby(new_var).mean()\n",
    "temp.columns = ['high_frac','low_frac', 'medium_frac']\n",
    "temp['count'] = df_train.groupby(new_var).count().iloc[:,1]\n",
    "\n",
    "# compute skill\n",
    "temp['manager_skill'] = temp['high_frac']*2 + temp['medium_frac']\n",
    "unranked_managers_ixes = temp['count']<20\n",
    "ranked_managers_ixes = ~unranked_managers_ixes\n",
    "mean_values = temp.loc[ranked_managers_ixes, ['high_frac','low_frac', 'medium_frac','manager_skill']].mean()\n",
    "temp.loc[unranked_managers_ixes,['high_frac','low_frac', 'medium_frac','manager_skill']] = mean_values.values\n",
    "\n",
    "df_train['Price_P_Room'] = df_train['price']/df_train['bedrooms']\n",
    "df_train['BB_ratio'] = df_train['bedrooms']/df_train['bathrooms']\n",
    "df_train['is_studio'] = np.where(df_train['bedrooms'] == 0, '1', '0')\n",
    "df_train['bathroom_listed'] = np.where(df_train['bathrooms'] == 0, '0', '1')\n",
    "df_train['n_log_price'] = np.log(df_train['price'])\n",
    "df_train.bedrooms[df_train.bedrooms == 0] = 1\n",
    "df_train.bathrooms[df_train.bathrooms ==0] = 1\n",
    "\n",
    "num_keyword(df_train)\n",
    "no_photo(df_train)\n",
    "count_caps(df_train)\n",
    "n_expensive(df_train)\n",
    "dist_from_midtown(df_train)\n",
    "\n",
    "\n",
    "queensCenter = ((40.800760+40.542920)/2,(-73.700272-73.962616)/2)\n",
    "brookCenter = ((40.739877+40.57042)/2,(-73.864754-74.04344)/2)\n",
    "bronxCenter = ((40.915255+40.785743)/2,(-73.765274-73.933406)/2)\n",
    "manhattanCenter = ((40.874663+40.701293)/2,(-73.910759-74.018721)/2)\n",
    "siCenter = ((40.651812+40.477399)/2,(-74.034547-74.259090)/2)\n",
    "boroughDict = {}\n",
    "boroughDict[\"queens\"] = queensCenter\n",
    "boroughDict[\"brooklyn\"] = brookCenter\n",
    "boroughDict[\"bronx\"] = bronxCenter\n",
    "boroughDict[\"manhattan\"] = manhattanCenter\n",
    "boroughDict[\"staten\"] = siCenter\n",
    "\n",
    "#This function returns the string representation of the likely borough, given a set of latitude/longitude coordinates\n",
    "#If the distance to the borough center is too far away from the closest borough, we assume that the location\n",
    "#is outside of NYC\n",
    "def get_closest_borough(latitude,longitude,max_dist = 20):\n",
    "    global boroughDict\n",
    "    borough_distances = {borough:great_circle(boroughDict[borough],(latitude,longitude)).miles for borough in boroughDict}\n",
    "    min_borough = min(borough_distances, key=borough_distances.get)\n",
    "    if borough_distances[min_borough] < max_dist:\n",
    "        return min_borough \n",
    "    else:\n",
    "        return \"outside_nyc\""
   ]
  },
  {
   "cell_type": "code",
   "execution_count": 85,
   "metadata": {
    "collapsed": false
   },
   "outputs": [],
   "source": [
    "#Indepth Features\n",
    "\n",
    "def allow_pet(df):\n",
    "    # n_num_keyword: check if a key word makes a difference in terms of\n",
    "    # interest_level:\n",
    "    match_list = [map(lambda x: re.search('cats|dogs', x.lower()),\n",
    "                      list(df['features'])[i]) for i in np.arange(0, len(df['features']), 1)]\n",
    "    nfeat_list = []\n",
    "    for i in match_list:\n",
    "        if i is None:\n",
    "            nfeat_list.append(0)\n",
    "        else:\n",
    "            if not any(i):  # check to filter out lists with no all None values\n",
    "                nfeat_list.append(0)\n",
    "            else:\n",
    "                lis1 = []\n",
    "                map(lambda x: lis1.append(1) if x is None else lis1.append(0), i)\n",
    "                nfeat_list.append(sum(lis1))\n",
    "\n",
    "    # new variable n_num_keyfeat_score\n",
    "    nfeat_score = []\n",
    "    for i in nfeat_list:\n",
    "        if i >0:\n",
    "            nfeat_score.append(1)\n",
    "        else:\n",
    "            nfeat_score.append(0)\n",
    "\n",
    "    df['allow_pets'] = nfeat_score\n",
    "    return df\n",
    "\n",
    "\n",
    "def laundry(df):\n",
    "    # n_num_keyword: check if a key word makes a difference in terms of\n",
    "    # interest_level:\n",
    "    match_list = [map(lambda x: re.search('laundry', x.lower()),\n",
    "                      list(df['features'])[i]) for i in np.arange(0, len(df['features']), 1)]\n",
    "    nfeat_list = []\n",
    "    for i in match_list:\n",
    "        if i is None:\n",
    "            nfeat_list.append(0)\n",
    "        else:\n",
    "            if not any(i):  # check to filter out lists with no all None values\n",
    "                nfeat_list.append(0)\n",
    "            else:\n",
    "                lis1 = []\n",
    "                map(lambda x: lis1.append(1) if x is None else lis1.append(0), i)\n",
    "                nfeat_list.append(sum(lis1))\n",
    "\n",
    "    # new variable n_num_keyfeat_score\n",
    "    nfeat_score = []\n",
    "    for i in nfeat_list:\n",
    "        if i >0:\n",
    "            nfeat_score.append(1)\n",
    "        else:\n",
    "            nfeat_score.append(0)\n",
    "\n",
    "    df['laundry'] = nfeat_score\n",
    "    return df\n",
    "\n",
    "def preWar(df):\n",
    "    # n_num_keyword: check if a key word makes a difference in terms of\n",
    "    # interest_level:\n",
    "    match_list = [map(lambda x: re.search('prewar|pre-war', x.lower()),\n",
    "                      list(df['features'])[i]) for i in np.arange(0, len(df['features']), 1)]\n",
    "    nfeat_list = []\n",
    "    for i in match_list:\n",
    "        if i is None:\n",
    "            nfeat_list.append(0)\n",
    "        else:\n",
    "            if not any(i):  # check to filter out lists with no all None values\n",
    "                nfeat_list.append(0)\n",
    "            else:\n",
    "                lis1 = []\n",
    "                map(lambda x: lis1.append(1) if x is None else lis1.append(0), i)\n",
    "                nfeat_list.append(sum(lis1))\n",
    "\n",
    "    # new variable n_num_keyfeat_score\n",
    "    nfeat_score = []\n",
    "    for i in nfeat_list:\n",
    "        if i >0:\n",
    "            nfeat_score.append(1)\n",
    "        else:\n",
    "            nfeat_score.append(0)\n",
    "\n",
    "    df['preWar'] = nfeat_score\n",
    "    return df\n",
    "\n",
    "def furnished(df):\n",
    "    # n_num_keyword: check if a key word makes a difference in terms of\n",
    "    # interest_level:\n",
    "    match_list = [map(lambda x: re.search('furnished', x.lower()),\n",
    "                      list(df['features'])[i]) for i in np.arange(0, len(df['features']), 1)]\n",
    "    nfeat_list = []\n",
    "    for i in match_list:\n",
    "        if i is None:\n",
    "            nfeat_list.append(0)\n",
    "        else:\n",
    "            if not any(i):  # check to filter out lists with no all None values\n",
    "                nfeat_list.append(0)\n",
    "            else:\n",
    "                lis1 = []\n",
    "                map(lambda x: lis1.append(1) if x is None else lis1.append(0), i)\n",
    "                nfeat_list.append(sum(lis1))\n",
    "\n",
    "    # new variable n_num_keyfeat_score\n",
    "    nfeat_score = []\n",
    "    for i in nfeat_list:\n",
    "        if i >0:\n",
    "            nfeat_score.append(1)\n",
    "        else:\n",
    "            nfeat_score.append(0)\n",
    "\n",
    "    df['furnished'] = nfeat_score\n",
    "    return df\n",
    "\n",
    "def dishwash(df):\n",
    "    # n_num_keyword: check if a key word makes a difference in terms of\n",
    "    # interest_level:\n",
    "    match_list = [map(lambda x: re.search('dishwasher', x.lower()),\n",
    "                      list(df['features'])[i]) for i in np.arange(0, len(df['features']), 1)]\n",
    "    nfeat_list = []\n",
    "    for i in match_list:\n",
    "        if i is None:\n",
    "            nfeat_list.append(0)\n",
    "        else:\n",
    "            if not any(i):  # check to filter out lists with no all None values\n",
    "                nfeat_list.append(0)\n",
    "            else:\n",
    "                lis1 = []\n",
    "                map(lambda x: lis1.append(1) if x is None else lis1.append(0), i)\n",
    "                nfeat_list.append(sum(lis1))\n",
    "\n",
    "    # new variable n_num_keyfeat_score\n",
    "    nfeat_score = []\n",
    "    for i in nfeat_list:\n",
    "        if i >0:\n",
    "            nfeat_score.append(1)\n",
    "        else:\n",
    "            nfeat_score.append(0)\n",
    "\n",
    "    df['dishwash'] = nfeat_score\n",
    "    return df\n",
    "\n",
    "def hardwood(df):\n",
    "    # n_num_keyword: check if a key word makes a difference in terms of\n",
    "    # interest_level:\n",
    "    match_list = [map(lambda x: re.search('hardwood', x.lower()),\n",
    "                      list(df['features'])[i]) for i in np.arange(0, len(df['features']), 1)]\n",
    "    nfeat_list = []\n",
    "    for i in match_list:\n",
    "        if i is None:\n",
    "            nfeat_list.append(0)\n",
    "        else:\n",
    "            if not any(i):  # check to filter out lists with no all None values\n",
    "                nfeat_list.append(0)\n",
    "            else:\n",
    "                lis1 = []\n",
    "                map(lambda x: lis1.append(1) if x is None else lis1.append(0), i)\n",
    "                nfeat_list.append(sum(lis1))\n",
    "\n",
    "    # new variable n_num_keyfeat_score\n",
    "    nfeat_score = []\n",
    "    for i in nfeat_list:\n",
    "        if i >0:\n",
    "            nfeat_score.append(1)\n",
    "        else:\n",
    "            nfeat_score.append(0)\n",
    "\n",
    "    df['hardwood'] = nfeat_score\n",
    "    return df\n",
    "\n",
    "def fitness(df):\n",
    "    # n_num_keyword: check if a key word makes a difference in terms of\n",
    "    # interest_level:\n",
    "    match_list = [map(lambda x: re.search('fitness|swimming', x.lower()),\n",
    "                      list(df['features'])[i]) for i in np.arange(0, len(df['features']), 1)]\n",
    "    nfeat_list = []\n",
    "    for i in match_list:\n",
    "        if i is None:\n",
    "            nfeat_list.append(0)\n",
    "        else:\n",
    "            if not any(i):  # check to filter out lists with no all None values\n",
    "                nfeat_list.append(0)\n",
    "            else:\n",
    "                lis1 = []\n",
    "                map(lambda x: lis1.append(1) if x is None else lis1.append(0), i)\n",
    "                nfeat_list.append(sum(lis1))\n",
    "\n",
    "    # new variable n_num_keyfeat_score\n",
    "    nfeat_score = []\n",
    "    for i in nfeat_list:\n",
    "        if i >0:\n",
    "            nfeat_score.append(1)\n",
    "        else:\n",
    "            nfeat_score.append(0)\n",
    "\n",
    "    df['fitness'] = nfeat_score\n",
    "    return df\n",
    "\n",
    "def doorman(df):\n",
    "    # n_num_keyword: check if a key word makes a difference in terms of\n",
    "    # interest_level:\n",
    "    match_list = [map(lambda x: re.search('doorman', x.lower()),\n",
    "                      list(df['features'])[i]) for i in np.arange(0, len(df['features']), 1)]\n",
    "    nfeat_list = []\n",
    "    for i in match_list:\n",
    "        if i is None:\n",
    "            nfeat_list.append(0)\n",
    "        else:\n",
    "            if not any(i):  # check to filter out lists with no all None values\n",
    "                nfeat_list.append(0)\n",
    "            else:\n",
    "                lis1 = []\n",
    "                map(lambda x: lis1.append(1) if x is None else lis1.append(0), i)\n",
    "                nfeat_list.append(sum(lis1))\n",
    "\n",
    "    # new variable n_num_keyfeat_score\n",
    "    nfeat_score = []\n",
    "    for i in nfeat_list:\n",
    "        if i >0:\n",
    "            nfeat_score.append(1)\n",
    "        else:\n",
    "            nfeat_score.append(0)\n",
    "\n",
    "    df['doorman'] = nfeat_score\n",
    "    return df\n",
    "\n",
    "def no_fee(df):\n",
    "    # n_num_keyword: check if a key word makes a difference in terms of\n",
    "    # interest_level:\n",
    "    match_list = [map(lambda x: re.search('no fee', x.lower()),\n",
    "                      list(df['features'])[i]) for i in np.arange(0, len(df['features']), 1)]\n",
    "    nfeat_list = []\n",
    "    for i in match_list:\n",
    "        if i is None:\n",
    "            nfeat_list.append(0)\n",
    "        else:\n",
    "            if not any(i):  # check to filter out lists with no all None values\n",
    "                nfeat_list.append(0)\n",
    "            else:\n",
    "                lis1 = []\n",
    "                map(lambda x: lis1.append(1) if x is None else lis1.append(0), i)\n",
    "                nfeat_list.append(sum(lis1))\n",
    "\n",
    "    # new variable n_num_keyfeat_score\n",
    "    nfeat_score = []\n",
    "    for i in nfeat_list:\n",
    "        if i >0:\n",
    "            nfeat_score.append(1)\n",
    "        else:\n",
    "            nfeat_score.append(0)\n",
    "\n",
    "    df['no_fee_'] = nfeat_score\n",
    "    return df\n"
   ]
  },
  {
   "cell_type": "code",
   "execution_count": null,
   "metadata": {
    "collapsed": true
   },
   "outputs": [],
   "source": [
    "#apply all\n",
    "allow_pet(df_train)\n",
    "laundry(df_train)\n",
    "preWar(df_train)\n",
    "furnished(df_train)\n",
    "dishwash(df_train)\n",
    "hardwood(df_train)\n",
    "fitness(df_train)\n",
    "doorman(df_train)\n",
    "no_fee(df_train)\n",
    "has_phone(df_train)"
   ]
  },
  {
   "cell_type": "code",
   "execution_count": 72,
   "metadata": {
    "collapsed": false
   },
   "outputs": [],
   "source": [
    "regex_col = {\"subway\":'train|trains|subway|line', \"luxurious\": 'luxury', \"quiet_nei\": 'quiet', \"available\": \"available (immediately|now)\",\\\n",
    "             \"space_desc\": 'foot|feet', \"buzzword\": 'must see'}\n",
    "import re\n",
    "\n",
    "def create_regex_col(df,regex,colname):\n",
    "    def find_regex(text):\n",
    "        r = re.compile(regex,flags=re.IGNORECASE)\n",
    "        matches = r.findall(text)\n",
    "        return len(matches)\n",
    "    df[colname] = df['description'].apply(find_regex)\n",
    "\n"
   ]
  },
  {
   "cell_type": "code",
   "execution_count": 73,
   "metadata": {
    "collapsed": false
   },
   "outputs": [],
   "source": [
    "for name, regex in regex_col.items():\n",
    "    create_regex_col(df_train,regex,name)\n",
    "#apply more"
   ]
  },
  {
   "cell_type": "code",
   "execution_count": null,
   "metadata": {
    "collapsed": true
   },
   "outputs": [],
   "source": [
    "#tack on manager skill"
   ]
  },
  {
   "cell_type": "code",
   "execution_count": 23,
   "metadata": {
    "collapsed": false
   },
   "outputs": [],
   "source": [
    "drace_df = df_train.merge(temp.reset_index(),how='left', left_on='manager_id', right_on='manager_id')\n",
    "new_manager_ixes = drace_df['high_frac'].isnull()\n",
    "drace_df.loc[new_manager_ixes,['high_frac','low_frac', 'medium_frac','manager_skill']] = mean_values.values"
   ]
  },
  {
   "cell_type": "markdown",
   "metadata": {},
   "source": [
    "Baseline on my current dataframe"
   ]
  },
  {
   "cell_type": "code",
   "execution_count": 92,
   "metadata": {
    "collapsed": false
   },
   "outputs": [
    {
     "data": {
      "text/plain": [
       "Index([            u'bathrooms',              u'bedrooms',\n",
       "                 u'building_id',               u'created',\n",
       "                 u'description',       u'display_address',\n",
       "                    u'features',        u'interest_level',\n",
       "                    u'latitude',            u'listing_id',\n",
       "                   u'longitude',            u'manager_id',\n",
       "                      u'photos',                 u'price',\n",
       "          u'price_vs_median_30',        u'street_address',\n",
       "                u'date_created',       u'weekday_created',\n",
       "                u'hour_created',           u'created_day',\n",
       "                  u'num_photos',          u'num_features',\n",
       "       u'num_description_words',          u'Price_P_Room',\n",
       "                    u'BB_ratio',             u'is_studio',\n",
       "             u'bathroom_listed',           u'n_log_price',\n",
       "         u'n_num_keyfeat_score',            u'n_no_photo',\n",
       "              u'amount_of_caps',           u'n_expensive',\n",
       "       u'distance_from_midtown',            u'allow_pets',\n",
       "                     u'laundry',                u'preWar',\n",
       "                   u'furnished',              u'dishwash',\n",
       "                    u'hardwood',               u'fitness',\n",
       "                     u'doorman',               u'no_fee_',\n",
       "                   u'high_frac',              u'low_frac',\n",
       "                 u'medium_frac',                 u'count',\n",
       "               u'manager_skill',                u'subway',\n",
       "                  u'luxury_apt',        u'quiet_neighbor',\n",
       "                u'availability',            u'space_desc',\n",
       "                    u'buzzword',             u'quiet_nei',\n",
       "                   u'luxurious',             u'available',\n",
       "                   u'has_phone'],\n",
       "      dtype='object')"
      ]
     },
     "execution_count": 92,
     "metadata": {},
     "output_type": "execute_result"
    }
   ],
   "source": [
    "drace_df.columns"
   ]
  },
  {
   "cell_type": "code",
   "execution_count": 10,
   "metadata": {
    "collapsed": false
   },
   "outputs": [],
   "source": [
    "drace_df = drace_df.fillna(mean_values)"
   ]
  },
  {
   "cell_type": "code",
   "execution_count": 29,
   "metadata": {
    "collapsed": false
   },
   "outputs": [],
   "source": [
    "drace_df.dropna(inplace=True)"
   ]
  },
  {
   "cell_type": "code",
   "execution_count": 94,
   "metadata": {
    "collapsed": false
   },
   "outputs": [
    {
     "data": {
      "text/plain": [
       "0.57814551823867588"
      ]
     },
     "execution_count": 94,
     "metadata": {},
     "output_type": "execute_result"
    }
   ],
   "source": [
    "feats_used = ['bathrooms', 'manager_skill', 'bedrooms', 'created_day', 'price', 'latitude', 'longitude',\\\n",
    "             'n_log_price', 'price_vs_median_30', 'num_photos', 'num_features', 'num_description_words', 'weekday_created',\\\n",
    "             'hour_created', 'is_studio', 'n_num_keyfeat_score','amount_of_caps', 'distance_from_midtown', 'allow_pets',\\\n",
    "              'laundry', 'preWar','furnished','dishwash','hardwood','fitness','doorman','no_fee_']\n",
    "x = drace_df[feats_used]\n",
    "y = drace_df[\"interest_level\"]\n",
    "x_train, x_test, y_train, y_test = train_test_split(x, y, test_size=0.2)\n",
    "rf = RandomForestClassifier(n_estimators=1000)\n",
    "rf.fit(x_train[feats_used], y_train)\n",
    "y_pred = rf.predict_proba(x_test[feats_used])\n",
    "log_loss(y_test, y_pred)"
   ]
  },
  {
   "cell_type": "code",
   "execution_count": 57,
   "metadata": {
    "collapsed": true
   },
   "outputs": [],
   "source": [
    "from sklearn import metrics"
   ]
  },
  {
   "cell_type": "code",
   "execution_count": 58,
   "metadata": {
    "collapsed": false
   },
   "outputs": [
    {
     "data": {
      "text/plain": [
       "0.7449425637897733"
      ]
     },
     "execution_count": 58,
     "metadata": {},
     "output_type": "execute_result"
    }
   ],
   "source": [
    "metrics.accuracy_score(rf.predict(x_test), y_test)"
   ]
  },
  {
   "cell_type": "code",
   "execution_count": 32,
   "metadata": {
    "collapsed": false
   },
   "outputs": [
    {
     "data": {
      "text/plain": [
       "array([  7.38623043e-03,   1.21362163e-01,   1.90005195e-02,\n",
       "         5.96216533e-02,   6.70872971e-02,   6.27344298e-02,\n",
       "         6.29260352e-02,   6.63926384e-02,   8.74760024e-02,\n",
       "         4.40954879e-02,   3.88541727e-02,   6.09267222e-02,\n",
       "         3.84940478e-02,   5.36619882e-02,   4.81155144e-03,\n",
       "         5.65382785e-03,   6.46070136e-02,   5.99111307e-02,\n",
       "         9.56162585e-03,   8.72074163e-03,   8.72844993e-03,\n",
       "         3.87608467e-03,   8.14462368e-03,   9.79073901e-03,\n",
       "         5.91630944e-03,   6.80343861e-03,   1.31546907e-02,\n",
       "         1.43837173e-04,   1.44866232e-04,   6.02447909e-06,\n",
       "         0.00000000e+00,   8.48322052e-07,   4.80867271e-06])"
      ]
     },
     "execution_count": 32,
     "metadata": {},
     "output_type": "execute_result"
    }
   ],
   "source": [
    "rf.feature_importances_"
   ]
  },
  {
   "cell_type": "code",
   "execution_count": 83,
   "metadata": {
    "collapsed": false
   },
   "outputs": [
    {
     "data": {
      "text/plain": [
       "<matplotlib.axes._subplots.AxesSubplot at 0x3a9db630>"
      ]
     },
     "execution_count": 83,
     "metadata": {},
     "output_type": "execute_result"
    },
    {
     "data": {
      "image/png": "[encoded data removed]",
      "text/plain": [
       "<matplotlib.figure.Figure at 0x1d07f320>"
      ]
     },
     "metadata": {},
     "output_type": "display_data"
    }
   ],
   "source": [
    "pd.Series(index = feats_used, data = rf.feature_importances_).sort_values().plot(kind = 'bar')"
   ]
  }
 ],
 "metadata": {
  "anaconda-cloud": {},
  "kernelspec": {
   "display_name": "Python [Root]",
   "language": "python",
   "name": "Python [Root]"
  },
  "language_info": {
   "codemirror_mode": {
    "name": "ipython",
    "version": 2
   },
   "file_extension": ".py",
   "mimetype": "text/x-python",
   "name": "python",
   "nbconvert_exporter": "python",
   "pygments_lexer": "ipython2",
   "version": "2.7.12"
  }
 },
 "nbformat": 4,
 "nbformat_minor": 1
}
