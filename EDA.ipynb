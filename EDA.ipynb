{
 "cells": [
  {
   "cell_type": "code",
   "execution_count": 1,
   "metadata": {
    "collapsed": false
   },
   "outputs": [
    {
     "name": "stdout",
     "output_type": "stream",
     "text": [
      "<class 'pandas.core.frame.DataFrame'>\n",
      "(49352, 15)\n",
      "Index([u'bathrooms', u'bedrooms', u'building_id', u'created', u'description',\n",
      "       u'display_address', u'features', u'interest_level', u'latitude',\n",
      "       u'listing_id', u'longitude', u'manager_id', u'photos', u'price',\n",
      "       u'street_address'],\n",
      "      dtype='object')\n"
     ]
    },
    {
     "data": {
      "text/html": [
       "<div>\n",
       "<table border=\"1\" class=\"dataframe\">\n",
       "  <thead>\n",
       "    <tr style=\"text-align: right;\">\n",
       "      <th></th>\n",
       "      <th>bathrooms</th>\n",
       "      <th>bedrooms</th>\n",
       "      <th>building_id</th>\n",
       "      <th>created</th>\n",
       "      <th>description</th>\n",
       "      <th>display_address</th>\n",
       "      <th>features</th>\n",
       "      <th>interest_level</th>\n",
       "      <th>latitude</th>\n",
       "      <th>listing_id</th>\n",
       "      <th>longitude</th>\n",
       "      <th>manager_id</th>\n",
       "      <th>photos</th>\n",
       "      <th>price</th>\n",
       "      <th>street_address</th>\n",
       "    </tr>\n",
       "  </thead>\n",
       "  <tbody>\n",
       "    <tr>\n",
       "      <th>10</th>\n",
       "      <td>1.5</td>\n",
       "      <td>3</td>\n",
       "      <td>53a5b119ba8f7b61d4e010512e0dfc85</td>\n",
       "      <td>2016-06-24 07:54:24</td>\n",
       "      <td>A Brand New 3 Bedroom 1.5 bath ApartmentEnjoy ...</td>\n",
       "      <td>Metropolitan Avenue</td>\n",
       "      <td>[]</td>\n",
       "      <td>medium</td>\n",
       "      <td>40.7145</td>\n",
       "      <td>7211212</td>\n",
       "      <td>-73.9425</td>\n",
       "      <td>5ba989232d0489da1b5f2c45f6688adc</td>\n",
       "      <td>[https://photos.renthop.com/2/7211212_1ed4542e...</td>\n",
       "      <td>3000</td>\n",
       "      <td>792 Metropolitan Avenue</td>\n",
       "    </tr>\n",
       "    <tr>\n",
       "      <th>10000</th>\n",
       "      <td>1.0</td>\n",
       "      <td>2</td>\n",
       "      <td>c5c8a357cba207596b04d1afd1e4f130</td>\n",
       "      <td>2016-06-12 12:19:27</td>\n",
       "      <td></td>\n",
       "      <td>Columbus Avenue</td>\n",
       "      <td>[Doorman, Elevator, Fitness Center, Cats Allow...</td>\n",
       "      <td>low</td>\n",
       "      <td>40.7947</td>\n",
       "      <td>7150865</td>\n",
       "      <td>-73.9667</td>\n",
       "      <td>7533621a882f71e25173b27e3139d83d</td>\n",
       "      <td>[https://photos.renthop.com/2/7150865_be3306c5...</td>\n",
       "      <td>5465</td>\n",
       "      <td>808 Columbus Avenue</td>\n",
       "    </tr>\n",
       "    <tr>\n",
       "      <th>100004</th>\n",
       "      <td>1.0</td>\n",
       "      <td>1</td>\n",
       "      <td>c3ba40552e2120b0acfc3cb5730bb2aa</td>\n",
       "      <td>2016-04-17 03:26:41</td>\n",
       "      <td>Top Top West Village location, beautiful Pre-w...</td>\n",
       "      <td>W 13 Street</td>\n",
       "      <td>[Laundry In Building, Dishwasher, Hardwood Flo...</td>\n",
       "      <td>high</td>\n",
       "      <td>40.7388</td>\n",
       "      <td>6887163</td>\n",
       "      <td>-74.0018</td>\n",
       "      <td>d9039c43983f6e564b1482b273bd7b01</td>\n",
       "      <td>[https://photos.renthop.com/2/6887163_de85c427...</td>\n",
       "      <td>2850</td>\n",
       "      <td>241 W 13 Street</td>\n",
       "    </tr>\n",
       "    <tr>\n",
       "      <th>100007</th>\n",
       "      <td>1.0</td>\n",
       "      <td>1</td>\n",
       "      <td>28d9ad350afeaab8027513a3e52ac8d5</td>\n",
       "      <td>2016-04-18 02:22:02</td>\n",
       "      <td>Building Amenities - Garage - Garden - fitness...</td>\n",
       "      <td>East 49th Street</td>\n",
       "      <td>[Hardwood Floors, No Fee]</td>\n",
       "      <td>low</td>\n",
       "      <td>40.7539</td>\n",
       "      <td>6888711</td>\n",
       "      <td>-73.9677</td>\n",
       "      <td>1067e078446a7897d2da493d2f741316</td>\n",
       "      <td>[https://photos.renthop.com/2/6888711_6e660cee...</td>\n",
       "      <td>3275</td>\n",
       "      <td>333 East 49th Street</td>\n",
       "    </tr>\n",
       "    <tr>\n",
       "      <th>100013</th>\n",
       "      <td>1.0</td>\n",
       "      <td>4</td>\n",
       "      <td>0</td>\n",
       "      <td>2016-04-28 01:32:41</td>\n",
       "      <td>Beautifully renovated 3 bedroom flex 4 bedroom...</td>\n",
       "      <td>West 143rd Street</td>\n",
       "      <td>[Pre-War]</td>\n",
       "      <td>low</td>\n",
       "      <td>40.8241</td>\n",
       "      <td>6934781</td>\n",
       "      <td>-73.9493</td>\n",
       "      <td>98e13ad4b495b9613cef886d79a6291f</td>\n",
       "      <td>[https://photos.renthop.com/2/6934781_1fa4b41a...</td>\n",
       "      <td>3350</td>\n",
       "      <td>500 West 143rd Street</td>\n",
       "    </tr>\n",
       "  </tbody>\n",
       "</table>\n",
       "</div>"
      ],
      "text/plain": [
       "        bathrooms  bedrooms                       building_id  \\\n",
       "10            1.5         3  53a5b119ba8f7b61d4e010512e0dfc85   \n",
       "10000         1.0         2  c5c8a357cba207596b04d1afd1e4f130   \n",
       "100004        1.0         1  c3ba40552e2120b0acfc3cb5730bb2aa   \n",
       "100007        1.0         1  28d9ad350afeaab8027513a3e52ac8d5   \n",
       "100013        1.0         4                                 0   \n",
       "\n",
       "                    created  \\\n",
       "10      2016-06-24 07:54:24   \n",
       "10000   2016-06-12 12:19:27   \n",
       "100004  2016-04-17 03:26:41   \n",
       "100007  2016-04-18 02:22:02   \n",
       "100013  2016-04-28 01:32:41   \n",
       "\n",
       "                                              description  \\\n",
       "10      A Brand New 3 Bedroom 1.5 bath ApartmentEnjoy ...   \n",
       "10000                                                       \n",
       "100004  Top Top West Village location, beautiful Pre-w...   \n",
       "100007  Building Amenities - Garage - Garden - fitness...   \n",
       "100013  Beautifully renovated 3 bedroom flex 4 bedroom...   \n",
       "\n",
       "            display_address  \\\n",
       "10      Metropolitan Avenue   \n",
       "10000       Columbus Avenue   \n",
       "100004          W 13 Street   \n",
       "100007     East 49th Street   \n",
       "100013    West 143rd Street   \n",
       "\n",
       "                                                 features interest_level  \\\n",
       "10                                                     []         medium   \n",
       "10000   [Doorman, Elevator, Fitness Center, Cats Allow...            low   \n",
       "100004  [Laundry In Building, Dishwasher, Hardwood Flo...           high   \n",
       "100007                          [Hardwood Floors, No Fee]            low   \n",
       "100013                                          [Pre-War]            low   \n",
       "\n",
       "        latitude  listing_id  longitude                        manager_id  \\\n",
       "10       40.7145     7211212   -73.9425  5ba989232d0489da1b5f2c45f6688adc   \n",
       "10000    40.7947     7150865   -73.9667  7533621a882f71e25173b27e3139d83d   \n",
       "100004   40.7388     6887163   -74.0018  d9039c43983f6e564b1482b273bd7b01   \n",
       "100007   40.7539     6888711   -73.9677  1067e078446a7897d2da493d2f741316   \n",
       "100013   40.8241     6934781   -73.9493  98e13ad4b495b9613cef886d79a6291f   \n",
       "\n",
       "                                                   photos  price  \\\n",
       "10      [https://photos.renthop.com/2/7211212_1ed4542e...   3000   \n",
       "10000   [https://photos.renthop.com/2/7150865_be3306c5...   5465   \n",
       "100004  [https://photos.renthop.com/2/6887163_de85c427...   2850   \n",
       "100007  [https://photos.renthop.com/2/6888711_6e660cee...   3275   \n",
       "100013  [https://photos.renthop.com/2/6934781_1fa4b41a...   3350   \n",
       "\n",
       "                 street_address  \n",
       "10      792 Metropolitan Avenue  \n",
       "10000       808 Columbus Avenue  \n",
       "100004          241 W 13 Street  \n",
       "100007     333 East 49th Street  \n",
       "100013    500 West 143rd Street  "
      ]
     },
     "execution_count": 1,
     "metadata": {},
     "output_type": "execute_result"
    }
   ],
   "source": [
    "import numpy as np # linear algebra\n",
    "import pandas as pd # data processing, CSV file I/O (e.g. pd.read_csv)\n",
    "import matplotlib.pyplot as plt\n",
    "import seaborn as sns\n",
    "color = sns.color_palette()\n",
    "%matplotlib inline\n",
    "\n",
    "t_df = pd.read_json(\"train.json\")\n",
    "print(type(t_df))\n",
    "print(t_df.shape) # 49,352 obs and 15 vars\n",
    "print(t_df.columns)\n",
    "t_df.head()"
   ]
  },
  {
   "cell_type": "markdown",
   "metadata": {},
   "source": [
    "15 Variables: \n",
    "- 3 float: Bathrooms, Latitude, Longitude\n",
    "- 3 int: Bedrooms, listing_id, price \n",
    "- 7 str: building_id, created, description, display_address, street_address, interest_level, manager_id, \n",
    "- 2 list: features, photos\n",
    "\n",
    "Some initial thoughts:\n",
    "- Interest_level: categorical variable. Response variable (dependent variable). Majority of obs are 'Low interest' thus our algo should primarily be more geared towards correctly identifying this feature to minimize log-loss.\n",
    "- Display_address and street_address: categorical and unique. These two might be redundant and show colinearity to each other and with latitude and longitude vars.\n",
    "- Description: word and sentence analysis. \n",
    "- Interest_level, bedrooms and bathrooms: only variables with small number of unique observations: 3, 9 and 15, respectively    "
   ]
  },
  {
   "cell_type": "code",
   "execution_count": null,
   "metadata": {
    "collapsed": false
   },
   "outputs": [],
   "source": [
    "# variable name, num of unique obs and variable type:\n",
    "for i in t_df.columns:\n",
    "    try: \n",
    "        print i,'   ', len(list(set(t_df.loc[:,i]))), 'unique obs','               ',str(type(t_df.loc[:,i].iloc[0]))\n",
    "    except:\n",
    "        print '=> problems getting unique info: list type'\n",
    "        next"
   ]
  },
  {
   "cell_type": "markdown",
   "metadata": {},
   "source": [
    "### Response Variable: interest_level"
   ]
  },
  {
   "cell_type": "markdown",
   "metadata": {},
   "source": [
    "The majority of listings in the training set are classified 'low'. Basically our algo should be particularly good at predicting 'low interest' listings as it will minimize log-loss."
   ]
  },
  {
   "cell_type": "code",
   "execution_count": null,
   "metadata": {
    "collapsed": false
   },
   "outputs": [],
   "source": [
    "int_level = t_df['interest_level'].value_counts()\n",
    "\n",
    "plt.figure(figsize=(8,4))\n",
    "sns.barplot(int_level.index, int_level.values, alpha=0.8)\n",
    "plt.ylabel('Frequency', fontsize=12)\n",
    "plt.xlabel('interest_level', fontsize=12)\n",
    "plt.show()"
   ]
  },
  {
   "cell_type": "code",
   "execution_count": null,
   "metadata": {
    "collapsed": false
   },
   "outputs": [],
   "source": [
    "plt.pie(int_level,labels= ['low','medium','high'], autopct='%1.1f%%', shadow=True, startangle=140)\n",
    " \n",
    "plt.axis('equal')\n",
    "plt.show()"
   ]
  },
  {
   "cell_type": "markdown",
   "metadata": {},
   "source": [
    "### Numerical Variables"
   ]
  },
  {
   "cell_type": "code",
   "execution_count": null,
   "metadata": {
    "collapsed": false
   },
   "outputs": [],
   "source": [
    "##### cont variables analysis\n",
    "t_df.describe()"
   ]
  },
  {
   "cell_type": "markdown",
   "metadata": {},
   "source": [
    "**Bathrooms:**\n",
    "\n",
    "- Most listings are showing 1 bathroom\n",
    "- Violin chart Bathrooms vs Int Level displays same distribution for bathrooms across interest levels\n",
    "- Number of bathrooms as a continuous variable is not very informative.\n",
    "- It could make sense to create a categorical variable: \"bath+1\" = Yes or Not\n",
    "    "
   ]
  },
  {
   "cell_type": "code",
   "execution_count": null,
   "metadata": {
    "collapsed": false
   },
   "outputs": [],
   "source": [
    "cnt_srs = t_df['bathrooms'].value_counts()\n",
    "\n",
    "plt.figure(figsize=(8,4))\n",
    "sns.barplot(cnt_srs.index, cnt_srs.values, alpha=0.8, color=color[0])\n",
    "plt.ylabel('Number of Occurrences', fontsize=12)\n",
    "plt.xlabel('bathrooms', fontsize=12)\n",
    "plt.show()"
   ]
  },
  {
   "cell_type": "code",
   "execution_count": null,
   "metadata": {
    "collapsed": false
   },
   "outputs": [],
   "source": [
    "t_df['bathrooms'].ix[t_df['bathrooms']>3] = 3\n",
    "plt.figure(figsize=(8,4))\n",
    "sns.violinplot(x='interest_level', y='bathrooms', data=t_df)\n",
    "plt.xlabel('Interest level', fontsize=12)\n",
    "plt.ylabel('bathrooms', fontsize=12)\n",
    "plt.show()"
   ]
  },
  {
   "cell_type": "markdown",
   "metadata": {},
   "source": [
    "**Bedrooms:**\n",
    "\n",
    "- More bell-shapped distribution. Probably it could be normalized further using Box-Cox\n",
    "- However, histogram by interest level shows that group distributions are less normal when filtering out high interest level    "
   ]
  },
  {
   "cell_type": "code",
   "execution_count": null,
   "metadata": {
    "collapsed": false
   },
   "outputs": [],
   "source": [
    "cnt_srs = t_df['bedrooms'].value_counts()\n",
    "\n",
    "plt.figure(figsize=(8,4))\n",
    "sns.barplot(cnt_srs.index, cnt_srs.values, alpha=0.8, color=color[2])\n",
    "plt.ylabel('Number of Occurrences', fontsize=12)\n",
    "plt.xlabel('bedrooms', fontsize=12)\n",
    "plt.show()"
   ]
  },
  {
   "cell_type": "code",
   "execution_count": null,
   "metadata": {
    "collapsed": false
   },
   "outputs": [],
   "source": [
    "plt.figure(figsize=(8,6))\n",
    "sns.countplot(x='bedrooms', hue='interest_level', data=t_df)\n",
    "plt.ylabel('Number of Occurrences', fontsize=12)\n",
    "plt.xlabel('bedrooms', fontsize=12)\n",
    "plt.show()\n"
   ]
  },
  {
   "cell_type": "code",
   "execution_count": null,
   "metadata": {
    "collapsed": true
   },
   "outputs": [],
   "source": [
    "# t_df.hist(column=\"bedrooms\", by='interest_level')          \n",
    "plt.ylabel('Number of Occurrences', fontsize=12)\n",
    "plt.xlabel('bedrooms', fontsize=12)\n",
    "plt.show()\n",
    "\n"
   ]
  },
  {
   "cell_type": "markdown",
   "metadata": {},
   "source": [
    "**Price:**\n",
    "- Price frequency distribution seems to be skewed to the right.\n",
    "- In addition, some outliers creating high kurtosis to the rigth\n",
    "- Removing them should be fine yet it doesn't eliminate the skewness problem    "
   ]
  },
  {
   "cell_type": "code",
   "execution_count": null,
   "metadata": {
    "collapsed": false
   },
   "outputs": [],
   "source": [
    "plt.figure(figsize=(8,6))\n",
    "plt.scatter(range(t_df.shape[0]), np.sort(t_df.price.values))\n",
    "plt.xlabel('index', fontsize=12)\n",
    "plt.ylabel('price', fontsize=12)\n",
    "plt.show()"
   ]
  },
  {
   "cell_type": "code",
   "execution_count": null,
   "metadata": {
    "collapsed": false,
    "scrolled": false
   },
   "outputs": [],
   "source": [
    "# removing outliers:\n",
    "ulimit = np.percentile(t_df.price.values, 99)\n",
    "t_df['price'].ix[t_df['price']>ulimit] = ulimit\n",
    "\n",
    "plt.figure(figsize=(8,6))\n",
    "sns.distplot(t_df.price.values, bins=50, kde=True)\n",
    "plt.xlabel('price', fontsize=12)\n",
    "plt.show()"
   ]
  },
  {
   "cell_type": "markdown",
   "metadata": {},
   "source": [
    "**Latitude/Longitude:**\n",
    "- The latitude values are primarily between 40.6 and 40.9.\n",
    "- The longitude values range between -73.8 and -74.02. \n",
    "- Listings seems to be more normally distributed in terms of latitude. \n",
    "- Most of the listings seem to be focused on Manhattan area"
   ]
  },
  {
   "cell_type": "code",
   "execution_count": null,
   "metadata": {
    "collapsed": false
   },
   "outputs": [],
   "source": [
    "llimit = np.percentile(t_df.latitude.values, 1)\n",
    "ulimit = np.percentile(t_df.latitude.values, 99)\n",
    "t_df['latitude'].ix[t_df['latitude']<llimit] = llimit\n",
    "t_df['latitude'].ix[t_df['latitude']>ulimit] = ulimit\n",
    "\n",
    "plt.figure(figsize=(8,6))\n",
    "sns.distplot(t_df.latitude.values, bins=50, kde=False)\n",
    "plt.xlabel('latitude', fontsize=12)\n",
    "plt.show()"
   ]
  },
  {
   "cell_type": "code",
   "execution_count": null,
   "metadata": {
    "collapsed": false
   },
   "outputs": [],
   "source": [
    "llimit = np.percentile(t_df.longitude.values, 1)\n",
    "ulimit = np.percentile(t_df.longitude.values, 99)\n",
    "t_df['longitude'].ix[t_df['longitude']<llimit] = llimit\n",
    "t_df['longitude'].ix[t_df['longitude']>ulimit] = ulimit\n",
    "\n",
    "plt.figure(figsize=(8,6))\n",
    "sns.distplot(t_df.longitude.values, bins=50, kde=False)\n",
    "plt.xlabel('longitude', fontsize=12)\n",
    "plt.show()"
   ]
  },
  {
   "cell_type": "code",
   "execution_count": null,
   "metadata": {
    "collapsed": false
   },
   "outputs": [],
   "source": [
    "from mpl_toolkits.basemap import Basemap\n",
    "from matplotlib import cm\n",
    "\n",
    "west, south, east, north = -74.02, 40.64, -73.85, 40.86\n",
    "\n",
    "fig = plt.figure(figsize=(14,10))\n",
    "ax = fig.add_subplot(111)\n",
    "m = Basemap(projection='merc', llcrnrlat=south, urcrnrlat=north,\n",
    "            llcrnrlon=west, urcrnrlon=east, lat_ts=south, resolution='i')\n",
    "x, y = m(t_df['longitude'].values, t_df['latitude'].values)\n",
    "m.hexbin(x, y, gridsize=200, bins='log', cmap=cm.YlOrRd_r);"
   ]
  },
  {
   "cell_type": "markdown",
   "metadata": {},
   "source": [
    "**Created:**\n",
    "- Time period training set is 04/01/2016 to 29/06/2016.\n",
    "- Listing creations are higher day 12 and 21 (outliers). \n",
    "- On average there are more listing creations during 1st half of the month than second half. \n",
    "- 1-7 AM is the favourite time range to create listings (bit weird). "
   ]
  },
  {
   "cell_type": "code",
   "execution_count": null,
   "metadata": {
    "collapsed": false
   },
   "outputs": [],
   "source": [
    "# Training Set time span\n",
    "t_df[\"created\"] = pd.to_datetime(t_df[\"created\"]) # transform to datetime object\n",
    "t_df[\"date_created\"] = t_df[\"created\"].dt.date\n",
    "cnt_srs = t_df['date_created'].value_counts()\n",
    "\n",
    "plt.figure(figsize=(12,4))\n",
    "ax = plt.subplot(111)\n",
    "ax.bar(cnt_srs.index, cnt_srs.values, alpha=0.8)\n",
    "ax.xaxis_date()\n",
    "plt.xticks(rotation='vertical', fontsize=8)\n",
    "plt.show()"
   ]
  },
  {
   "cell_type": "code",
   "execution_count": null,
   "metadata": {
    "collapsed": false
   },
   "outputs": [],
   "source": [
    "# Calendar Month Day Analysis\n",
    "t_df[\"hour_created\"] = map(lambda x: x.day ,t_df[\"date_created\"])\n",
    "cnt_srs = t_df['hour_created'].value_counts()\n",
    "\n",
    "plt.figure(figsize=(12,6))\n",
    "sns.barplot(cnt_srs.index, cnt_srs.values, alpha=0.8, color=color[3])\n",
    "plt.xticks(rotation='vertical')\n",
    "plt.show()"
   ]
  },
  {
   "cell_type": "code",
   "execution_count": null,
   "metadata": {
    "collapsed": false
   },
   "outputs": [],
   "source": [
    "# Time Analysis\n",
    "t_df[\"hour_created\"] = t_df[\"created\"].dt.hour\n",
    "cnt_srs = t_df['hour_created'].value_counts()\n",
    "\n",
    "plt.figure(figsize=(12,6))\n",
    "sns.barplot(cnt_srs.index, cnt_srs.values, alpha=0.8, color=color[3])\n",
    "plt.xticks(rotation='vertical')\n",
    "plt.show()"
   ]
  },
  {
   "cell_type": "markdown",
   "metadata": {},
   "source": [
    "### Categorical Variables"
   ]
  },
  {
   "cell_type": "markdown",
   "metadata": {},
   "source": [
    "**Display Address:**\n",
    "- Broadway, East 34th, 2nd Avenue and Wall Street are the most frequent listings (+300 each).\n",
    "- There must be some relationship between Display Address and Interest_level => look into it further\n",
    "- Most of the display addresses occur more than 100 times"
   ]
  },
  {
   "cell_type": "code",
   "execution_count": null,
   "metadata": {
    "collapsed": false
   },
   "outputs": [],
   "source": [
    "print 'Top 10 Display Addresses', cnt_srs.order(ascending=False).head(10)\n",
    "print 65*'-'\n",
    "print 'Bottom 10 Display Addresses',cnt_srs.order(ascending=False).tail(10)"
   ]
  },
  {
   "cell_type": "code",
   "execution_count": null,
   "metadata": {
    "collapsed": true
   },
   "outputs": [],
   "source": []
  },
  {
   "cell_type": "code",
   "execution_count": null,
   "metadata": {
    "collapsed": false
   },
   "outputs": [],
   "source": [
    "da_df = t_df.groupby(['display_address','interest_level'])['display_address'].agg(['count','sum'])\n",
    "da_df.head()"
   ]
  },
  {
   "cell_type": "code",
   "execution_count": null,
   "metadata": {
    "collapsed": false,
    "scrolled": false
   },
   "outputs": [],
   "source": [
    "cnt_srs = t_df.groupby('display_address')['display_address'].count()\n",
    "\n",
    "for i in [2, 10, 50, 100, 500]:\n",
    "    print('Display_address that appear less than {} times: {}%'.format(i, round((cnt_srs < i).mean() * 100, 2)))\n",
    "\n",
    "plt.figure(figsize=(12, 6))\n",
    "plt.hist(cnt_srs.values, bins=100, log=True, alpha=0.9)\n",
    "plt.xlabel('Number of times display_address appeared', fontsize=12)\n",
    "plt.ylabel('log(Count)', fontsize=12)\n",
    "plt.show()"
   ]
  },
  {
   "cell_type": "markdown",
   "metadata": {},
   "source": [
    "**Number of Photos:**\n",
    "- Bell-shapped distribution.\n",
    "- The average listing displays between 3-8 pictures\n",
    "- Violin plot shows no significant differences in mean and distribution when comparing interest_level vs num_photos\n",
    "- The most remarkable fact is the concentration in \"low interest_level\" for listings with nil pictures "
   ]
  },
  {
   "cell_type": "code",
   "execution_count": null,
   "metadata": {
    "collapsed": false
   },
   "outputs": [],
   "source": [
    "t_df[\"num_photos\"] = t_df[\"photos\"].apply(len) # 'num_photos' are list object remember \n",
    "cnt_srs = t_df['num_photos'].value_counts()\n",
    "\n",
    "plt.figure(figsize=(12,6))\n",
    "sns.barplot(cnt_srs.index, cnt_srs.values, alpha=0.8)\n",
    "plt.xlabel('Number of Photos', fontsize=12)\n",
    "plt.ylabel('Number of Occurrences', fontsize=12)\n",
    "plt.show()"
   ]
  },
  {
   "cell_type": "code",
   "execution_count": null,
   "metadata": {
    "collapsed": false
   },
   "outputs": [],
   "source": [
    "t_df['num_photos'].ix[t_df['num_photos']>12] = 12 # \n",
    "plt.figure(figsize=(12,6))\n",
    "sns.violinplot(x=\"num_photos\", y=\"interest_level\", data=t_df, order =['low','medium','high'])\n",
    "plt.xlabel('Number of Photos', fontsize=12)\n",
    "plt.ylabel('Interest Level', fontsize=12)\n",
    "plt.show()"
   ]
  },
  {
   "cell_type": "markdown",
   "metadata": {},
   "source": [
    "**Number of Features:**\n",
    "- Feature words look generic across listings so this is great to count words/features\n",
    "- Average listing displays 2-5 features\n",
    "- However, the Num of features per listing distribution is skewed to the right\n",
    "- 'Medium Interest' listings are the ones with a higher average num of features\n",
    "- Interestingly low and high interest level listings have similar num of features.\n",
    "- It's clear than some features will have more relevance than others => look into it\n"
   ]
  },
  {
   "cell_type": "code",
   "execution_count": null,
   "metadata": {
    "collapsed": false
   },
   "outputs": [],
   "source": [
    " t_df[\"num_features\"].head()"
   ]
  },
  {
   "cell_type": "code",
   "execution_count": null,
   "metadata": {
    "collapsed": false,
    "scrolled": false
   },
   "outputs": [],
   "source": [
    "t_df[\"num_features\"] = t_df[\"features\"].apply(len) # another list object\n",
    "cnt_srs = t_df['num_features'].value_counts()\n",
    "\n",
    "plt.figure(figsize=(12,6))\n",
    "sns.barplot(cnt_srs.index, cnt_srs.values, alpha=0.8)\n",
    "plt.ylabel('Number of Occurrences', fontsize=12)\n",
    "plt.xlabel('Number of features', fontsize=12)\n",
    "plt.show()"
   ]
  },
  {
   "cell_type": "code",
   "execution_count": null,
   "metadata": {
    "collapsed": false
   },
   "outputs": [],
   "source": [
    "t_df['num_features'].ix[t_df['num_features']>17] = 17\n",
    "plt.figure(figsize=(12,10))\n",
    "sns.violinplot(y=\"num_features\", x=\"interest_level\", data=t_df, order =['low','medium','high'])\n",
    "plt.xlabel('Interest Level', fontsize=12)\n",
    "plt.ylabel('Number of features', fontsize=12)\n",
    "plt.show()"
   ]
  },
  {
   "cell_type": "code",
   "execution_count": null,
   "metadata": {
    "collapsed": false
   },
   "outputs": [],
   "source": [
    "t_df['description']"
   ]
  },
  {
   "cell_type": "markdown",
   "metadata": {
    "collapsed": true
   },
   "source": [
    "**Listing ID:**\n"
   ]
  },
  {
   "cell_type": "code",
   "execution_count": null,
   "metadata": {
    "collapsed": false
   },
   "outputs": [],
   "source": [
    "len(t_df['listing_id'].value_counts()) == len(t_df) #nothing to see here...this is a unique record ID"
   ]
  },
  {
   "cell_type": "markdown",
   "metadata": {},
   "source": [
    "**Building ID:**\n"
   ]
  },
  {
   "cell_type": "code",
   "execution_count": null,
   "metadata": {
    "collapsed": false
   },
   "outputs": [],
   "source": [
    "t_df['building_id'].replace(to_replace='0', value=np.nan, inplace=True)\n",
    "bid = t_df.groupby(['building_id', 'interest_level'])"
   ]
  },
  {
   "cell_type": "code",
   "execution_count": null,
   "metadata": {
    "collapsed": false,
    "scrolled": true
   },
   "outputs": [],
   "source": [
    "bid['building_id'].agg(['count']).iloc[1:10,:]"
   ]
  },
  {
   "cell_type": "code",
   "execution_count": null,
   "metadata": {
    "collapsed": false
   },
   "outputs": [],
   "source": [
    "cnt_srs = t_df['building_id'].value_counts()\n",
    "\n",
    "for i in [2, 5, 10, 25, 50, 100, 200, 300]:\n",
    "    print('Display_address that appear less than {} times: {}%'.format(i, round((cnt_srs < i).mean() * 100, 2)))"
   ]
  },
  {
   "cell_type": "code",
   "execution_count": null,
   "metadata": {
    "collapsed": false,
    "scrolled": true
   },
   "outputs": [],
   "source": [
    "# big building feature\n",
    "cnt_srs = pd.DataFrame(t_df['building_id'].value_counts())\n",
    "cnt_srs['BigBuilding'] = map(lambda x: 1 if x > 5 else np.nan, cnt_srs['building_id'])\n",
    "cnt_srs = cnt_srs.rename(columns={'building_id': 'count_building_id'})\n",
    "cnt_srs.index.name = 'building_id'\n",
    "cnt_srs.reset_index(inplace=True)\n",
    "\n",
    "#setup the main data frame for merging the value counts back in\n",
    "dfm = pd.DataFrame(t_df['building_id'])\n",
    "dfm['BigBuilding'] = pd.Series()\n",
    "dfm['count_building_id'] = pd.Series()\n",
    "dfm.drop(['BigBuilding','count_building_id'], inplace=True) #drops the extra two rows introduced by coercion to df"
   ]
  },
  {
   "cell_type": "code",
   "execution_count": null,
   "metadata": {
    "collapsed": false
   },
   "outputs": [],
   "source": [
    "df = pd.merge(dfm, cnt_srs,\n",
    "              how='right',\n",
    "              left_on=['BigBuilding', 'building_id', 'count_building_id'],\n",
    "              right_on=['BigBuilding', 'building_id', 'count_building_id'],\n",
    "             )"
   ]
  },
  {
   "cell_type": "code",
   "execution_count": 2,
   "metadata": {
    "collapsed": false
   },
   "outputs": [],
   "source": [
    "df = t_df"
   ]
  },
  {
   "cell_type": "code",
   "execution_count": 3,
   "metadata": {
    "collapsed": true
   },
   "outputs": [],
   "source": [
    "from geopy.distance import vincenty"
   ]
  },
  {
   "cell_type": "code",
   "execution_count": null,
   "metadata": {
    "collapsed": false
   },
   "outputs": [
    {
     "name": "stdout",
     "output_type": "stream",
     "text": [
      "CPU times: user 6 µs, sys: 11 µs, total: 17 µs\n",
      "Wall time: 38.9 µs\n"
     ]
    }
   ],
   "source": [
    "%time\n",
    "tube_lat_long = pd.read_csv('http://web.mta.info/developers/data/nyct/subway/StationEntrances.csv') \\\n",
    "    [['Station_Name','Station_Latitude','Station_Longitude']]\n",
    "    \n",
    "tube_lat_long = tube_lat_long.groupby('Station_Name').agg(['mean'])\n",
    "\n",
    "stations = list(tube_lat_long.to_records(index=False))\n",
    "records = list(df.to_records(index=False))\n",
    "# listings = [(x, y) for x, y in records]"
   ]
  },
  {
   "cell_type": "code",
   "execution_count": null,
   "metadata": {
    "collapsed": false
   },
   "outputs": [],
   "source": [
    "records[1][8]"
   ]
  },
  {
   "cell_type": "code",
   "execution_count": null,
   "metadata": {
    "collapsed": false
   },
   "outputs": [],
   "source": [
    "listings = [(x, y) for x, y in (records"
   ]
  },
  {
   "cell_type": "code",
   "execution_count": null,
   "metadata": {
    "collapsed": false
   },
   "outputs": [],
   "source": [
    "df['latitude'].iloc[1]"
   ]
  },
  {
   "cell_type": "code",
   "execution_count": null,
   "metadata": {
    "collapsed": true
   },
   "outputs": [],
   "source": [
    "for i in range(0,len(df['latitude']),1):\n",
    "    apt_lat_long = (list(df['latitude'])[i],list(df['longitude'])[i])"
   ]
  },
  {
   "cell_type": "code",
   "execution_count": null,
   "metadata": {
    "collapsed": true
   },
   "outputs": [],
   "source": [
    "apt_lat_long"
   ]
  },
  {
   "cell_type": "code",
   "execution_count": null,
   "metadata": {
    "collapsed": false
   },
   "outputs": [],
   "source": [
    "%timeit    \n",
    "distance = []\n",
    "for i in range(0,len(df['latitude']),1):\n",
    "    apt_lat_long = (list(df['latitude'])[i],list(df['longitude'])[i])\n",
    "    temp=[]\n",
    "    for j in stations:\n",
    "        temp.append(\n",
    "        vincenty(lat_long, j).meters)\n",
    "    distance.append(min(temp))"
   ]
  },
  {
   "cell_type": "code",
   "execution_count": null,
   "metadata": {
    "collapsed": true
   },
   "outputs": [],
   "source": [
    "\n",
    "\n",
    "    distance = []\n",
    "    for i in range(0,len(df['latitude']),1):\n",
    "        lat_long = (list(df['latitude'])[i],list(df['longitude'])[i])\n",
    "        temp=[]\n",
    "        for j in stations:\n",
    "            temp.append(\n",
    "            vincenty(lat_long, j).meters)\n",
    "        distance.append(min(temp))"
   ]
  }
 ],
 "metadata": {
  "anaconda-cloud": {},
  "kernelspec": {
   "display_name": "Python [conda env:py27]",
   "language": "python",
   "name": "conda-env-py27-py"
  },
  "language_info": {
   "codemirror_mode": {
    "name": "ipython",
    "version": 2
   },
   "file_extension": ".py",
   "mimetype": "text/x-python",
   "name": "python",
   "nbconvert_exporter": "python",
   "pygments_lexer": "ipython2",
   "version": "2.7.12"
  }
 },
 "nbformat": 4,
 "nbformat_minor": 1
}
