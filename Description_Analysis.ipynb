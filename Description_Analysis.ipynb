{
 "cells": [
  {
   "cell_type": "code",
   "execution_count": 5,
   "metadata": {
    "collapsed": false
   },
   "outputs": [
    {
     "data": {
      "text/plain": [
       "                                                                                                                                                                                                                                                                                                                                                                                                                                                                                                                                                                                                                                                                                                                                                                                                                                                                                                                                                                                                                                                                                                                                                                                                                                                                                                                                                                                                                                                                                                                                                                                                                                                                                                                                                                                                                                                                                  1647\n",
       "                                                                                                                                                                                                                                                                                                                                                                                                                                                                                                                                                                                                                                                                                                                                                                                                                                                                                                                                                                                                                                                                                                                                                                                                                                                                                                                                                                                                                                                                                                                                                                                                                                                                                                                                                                                                                                                                                  1446\n",
       "<p><a  website_redacted                                                                                                                                                                                                                                                                                                                                                                                                                                                                                                                                                                                                                                                                                                                                                                                                                                                                                                                                                                                                                                                                                                                                                                                                                                                                                                                                                                                                                                                                                                                                                                                                                                                                                                                                                                                                                                                            333\n",
       "                                                                                                                                                                                                                                                                                                                                                                                                                                                                                                                                                                                                                                                                                                                                                                                                                                                                                                                                                                                                                                                                                                                                                                                                                                                                                                                                                                                                                                                                                                                                                                                                                                                                                                                                                                                                                                                                                   239\n",
       "A detailed description is coming soon. Please contact your Highline Residential agent with any questions.                                                                                                                                                                                                                                                                                                                                                                                                                                                                                                                                                                                                                                                                                                                                                                                                                                                                                                                                                                                                                                                                                                                                                                                                                                                                                                                                                                                                                                                                                                                                                                                                                                                                                                                                                                          123\n",
       "These pictures are from a similarlisting.                                                                                                                                                                                                                                                                                                                                                                                                                                                                                                                                                                                                                                                                                                                                                                                                                                                                                                                                                                                                                                                                                                                                                                                                                                                                                                                                                                                                                                                                                                                                                                                                                                                                                                                                                                                                                                           64\n",
       "I have total market coverage in Manhattan with access to show several thousand available apartments in the city through my real-time database of listings and co-broke network. CONTACT ME FOR AN EXCLUSIVE TOUR OF THIS AND OTHER GREAT APARTMENTS. TWITTER @NYCREAGENT<br /><br />Bond New York is a real estate broker that supports equal housing opportunity.<p><a  website_redacted                                                                                                                                                                                                                                                                                                                                                                                                                                                                                                                                                                                                                                                                                                                                                                                                                                                                                                                                                                                                                                                                                                                                                                                                                                                                                                                                                                                                                                                                                           36\n",
       "This renovated gorgeous apartment with spacious layout comes with hardwood floors, updated kitchen, updated bathroom, storage space. It is located in a well maintained video security elevator laundry building within a five minute walk to the subway. All buildings come with Bed Bug certifications. Cable and High Speed Internet, Heat and Hot Water Included.  Showing Today! Schedule on-line at:www.MyManhattanapt.com<br/><br/>Schedule your showing today on-line at:www.MyManhattanapt.comShowing times:  8:45am, 10:15am, 11:45am, 1:15pm, 2:45am, 4:15pm, 5:45pm, 6:30pm, 7:30pmRequirements & Documents: Letter of employment, last year's tax return, recent bank statement. Shares ok, guarantors welcome (same documents needed)*No fee conditions apply <br/><br/><br/><br/><p>                                                                                                                                                                                                                                                                                                                                                                                                                                                                                                                                                                                                                                                                                                                                                                                                                                                                                                                                                                                                                                                                                 33\n",
       "Modern renovations throughout, with flowing spacious layout, updated electric wiring, hardwood floors, updated kitchen, updated bathroom, storage space. It is located in a well maintained video security elevator laundry building within a five minute walk to the subway. All buildings come with Bed Bug certifications. Cable and High Speed Internet, Heat and Hot Water Included. Showing Today! Schedule on-line at:www.MyManhattanapt.com<br/><br/>Schedule your showing today on-line at:www.MyManhattanapt.comShowing times:  8:45am, 10:15am,11:45am, 1:15pm, 2:45am, 4:15pm, 5:45pm, 6:30pm, 7:30pmRequirements & Documents: Letter of employment, last year's tax return, recent bank statement. Shares ok, guarantors welcome (same documents needed)*No fee conditions apply <br/><br/><br/><br/><p>                                                                                                                                                                                                                                                                                                                                                                                                                                                                                                                                                                                                                                                                                                                                                                                                                                                                                                                                                                                                                                                               32\n",
       "StuyTown offers an unbeatable combination of city energy and community tranquility. Conveniently located next to the East Village and Gramercy, the apartments are newly renovated, featuring hardwood floors, high ceilings, and custom, modern kitchens &amp; bathrooms. Our no-fee, pet friendly community offers incredible amenities: a full-service onsite concierge, state of the art gym, 15 recreation areas &amp; playgrounds, and 80 acres of beautifully landscaped green space.                                                                                                                                                                                                                                                                                                                                                                                                                                                                                                                                                                                                                                                                                                                                                                                                                                                                                                                                                                                                                                                                                                                                                                                                                                                                                                                                                                                        30\n",
       "Actual Apartment Photos<br /><br />Bond New York is a real estate broker that supports equal housing opportunity.<p><a  website_redacted                                                                                                                                                                                                                                                                                                                                                                                                                                                                                                                                                                                                                                                                                                                                                                                                                                                                                                                                                                                                                                                                                                                                                                                                                                                                                                                                                                                                                                                                                                                                                                                                                                                                                                                                            27\n",
       "????????For?? the best apartment match up, kindly email me your moving date. I have access to all apartments currently on the market, on our Bond New York website (www.bondnewyork.com), and company exclusives updated in our real time database. To schedule now an exclusive appointment to view this apartments contact John Montalvan CALL/TEXT 890-051-2229 or e-mail kagglemanager@renthop.com ??<br /><br />Bond New York is a real estate broker that supports equal housing opportunity.<p><a  website_redacted                                                                                                                                                                                                                                                                                                                                                                                                                                                                                                                                                                                                                                                                                                                                                                                                                                                                                                                                                                                                                                                                                                                                                                                                                                                                                                                                                          25\n",
       "Actual apartment photos<br /><br />Bond New York is a real estate broker that supports equal housing opportunity.<p><a  website_redacted                                                                                                                                                                                                                                                                                                                                                                                                                                                                                                                                                                                                                                                                                                                                                                                                                                                                                                                                                                                                                                                                                                                                                                                                                                                                                                                                                                                                                                                                                                                                                                                                                                                                                                                                            24\n",
       "Easy Access and Easy approval. Feel free to call or email me with any questions or to schedule a private showing of this unit. I also have several other similar units in the surrounding area                                                                                                                                                                                                                                                                                                                                                                                                                                                                                                                                                                                                                                                                                                                                                                                                                                                                                                                                                                                                                                                                                                                                                                                                                                                                                                                                                                                                                                                                                                                                                                                                                                                                                      23\n",
       "Comfortable spacious renovated apartment, with modern kitchen, modern bathroom, hardwood floors updated kitchen, updated bathroom, storage space. It is located in a well maintained video security elevator laundry building within a five minute walk to the subway. All buildings come with Bed Bug certifications. Cable and High Speed Internet, Heat and Hot Water Included. Showing Today! Schedule on-line at:www.MyManhattanapt.com<br/><br/>Schedule your showing today on-line at:www.MyManhattanapt.comShowing times:  8:45am, 10:15am, 11:45am, 1:15pm, 2:45am, 4:15pm, 5:45pm, 6:30pm, 7:30pmRequirements & Documents: Letter of employment, last year's tax return, recent bank statement. Shares ok, guarantors welcome (same documents needed)*No fee conditions apply <br/><br/><br/><br/><p>                                                                                                                                                                                                                                                                                                                                                                                                                                                                                                                                                                                                                                                                                                                                                                                                                                                                                                                                                                                                                                                                     19\n",
       "I have an access to show several thousand available apartments in the city through my real- time database of listings and co-broke network. Call me for a showing to this and other beautiful Manhattan apartments. Sincerely Tasnuva<br /><br />Bond New York is a real estate broker that supports equal housing opportunity.<p><a  website_redacted                                                                                                                                                                                                                                                                                                                                                                                                                                                                                                                                                                                                                                                                                                                                                                                                                                                                                                                                                                                                                                                                                                                                                                                                                                                                                                                                                                                                                                                                                                                              18\n",
       "JUST LISTED, NEW TO MARKET!View it before you lose it. Call now to learn more about the Low-Fee Guarantee Doc?s access to every apartment in Manhattan, gives his clients a distinct advantage.Yes, he has access to other broker exclusives too! View Doc?s 5-Star Reviews and read how his clients saved time and money finding a home in NYC.<br /><br /><br /><br /><br /><br /><p><a  website_redacted                                                                                                                                                                                                                                                                                                                                                                                                                                                                                                                                                                                                                                                                                                                                                                                                                                                                                                                                                                                                                                                                                                                                                                                                                                                                                                                                                                                                                                                                         17\n",
       "For immediate access call Bryan.<br /><br />Bond New York is a real estate broker that supports equal housing opportunity.<p><a  website_redacted                                                                                                                                                                                                                                                                                                                                                                                                                                                                                                                                                                                                                                                                                                                                                                                                                                                                                                                                                                                                                                                                                                                                                                                                                                                                                                                                                                                                                                                                                                                                                                                                                                                                                                                                   16\n",
       "I have total market coverage in Manhattan with access to show nearly every available listing in the city through my real-time database of listings and co-broke network. CONTACT ME FOR AN EXCLUSIVE TOUR OF THIS AND OTHER GREAT APARTMENTS. <br /><br />Bond New York is a real estate broker that supports equal housing opportunity.<p><a  website_redacted                                                                                                                                                                                                                                                                                                                                                                                                                                                                                                                                                                                                                                                                                                                                                                                                                                                                                                                                                                                                                                                                                                                                                                                                                                                                                                                                                                                                                                                                                                                     15\n",
       "Kings &amp; Queens NO FEE Apartments are located in the most desirable neighborhoods of Brooklyn and Queens and convenient to shopping, restaurants and major transportation hubs. All buildings feature elevators, central laundry facilities and spacious apartments with wood flooring throughout. Many buildings offer on-site parking and apartments with balconies, charming pre-war details and renovated kitchens and bathrooms.                                                                                                                                                                                                                                                                                                                                                                                                                                                                                                                                                                                                                                                                                                                                                                                                                                                                                                                                                                                                                                                                                                                                                                                                                                                                                                                                                                                                                                            14\n",
       "        This beautiful 2 bedroom in the heart of Stuyvesant Town is a must see! The stunning 2 bedroom apartment has been beautifully renovated and features hardwood floors, high ceilings, and custom, modern kitchens & bathrooms.<br />This apartment will not last for long! Call or email today for your exclusive viewing. Our phone number is 295-732-3904.                                                                                                                                                                                                                                                                                                                                                                                                                                                                                                                                                                                                                                                                                                                                                                                                                                                                                                                                                                                                                                                                                                                                                                                                                                                                                                                                                                                                                                                                                                                 14\n",
       "Spacious floor plans and sweeping waterfront views define these NO FEE apartments located in one of the finest locations on the Hudson River. Situated on Jersey Citys spectacular Hudson River Waterfront  directly across from Manhattan - the luxury residences at Newport offer fabulous amenities and unparalleled value.                                                                                                                                                                                                                                                                                                                                                                                                                                                                                                                                                                                                                                                                                                                                                                                                                                                                                                                                                                                                                                                                                                                                                                                                                                                                                                                                                                                                                                                                                                                                                      14\n",
       "Beautiful  1BR in the Upper East Side** If you have any questions or would like to schedule a showing please call or email anytime between 7am-Midnight, Mon-Sun. I have more available apartments ranging from studios to five bedrooms in the surrounding area. Contact Milos kagglemanager@renthop.com, 480-948-2890  Looking forward to hearing from you. **<br /><br />Bond New York is a real estate broker that supports equal housing opportunity.<p><a  website_redacted                                                                                                                                                                                                                                                                                                                                                                                                                                                                                                                                                                                                                                                                                                                                                                                                                                                                                                                                                                                                                                                                                                                                                                                                                                                                                                                                                                                                   14\n",
       "        Please contact, If interested<br />Or,<br />For all listings visit our website www.NYCRentalMarket.com                                                                                                                                                                                                                                                                                                                                                                                                                                                                                                                                                                                                                                                                                                                                                                                                                                                                                                                                                                                                                                                                                                                                                                                                                                                                                                                                                                                                                                                                                                                                                                                                                                                                                                                                                                      13\n",
       "I would love to work with you! I have all apartments available though Bond New York's website. This includes all apartments listed on Bond New York's website and any Exclusives. Please contact me through my phone number or email kagglemanager@renthop.com I look forward to meeting with you and helping you find your new home.<br /><br />Bond New York is a real estate broker that supports equal housing opportunity.<p><a  website_redacted                                                                                                                                                                                                                                                                                                                                                                                                                                                                                                                                                                                                                                                                                                                                                                                                                                                                                                                                                                                                                                                                                                                                                                                                                                                                                                                                                                                                                              13\n",
       "Contact me today to see this apartment or any other apartment in our database. Let me help you find your new home!                                                                                                                                                                                                                                                                                                                                                                                                                                                                                                                                                                                                                                                                                                                                                                                                                                                                                                                                                                                                                                                                                                                                                                                                                                                                                                                                                                                                                                                                                                                                                                                                                                                                                                                                                                  13\n",
       "The perfect place to call home! Fantastic location. Contact me for total market coverage through our real-time database. I have access to nearly every available apartments in Manhattan. For immediate access to this and other similar apartments, feel free to reach me any time.<br /><br />Bond New York is a real estate broker that supports equal housing opportunity.<p><a  website_redacted                                                                                                                                                                                                                                                                                                                                                                                                                                                                                                                                                                                                                                                                                                                                                                                                                                                                                                                                                                                                                                                                                                                                                                                                                                                                                                                                                                                                                                                                               13\n",
       "With access to nearly all Manhattan apartments through my Real-Time Database, I will find the Perfect Place for you!For an Exclusive Tour, Contact me at:  kagglemanager@renthop.com or  (934-265-9635  George Skouros<br /><br />Bond New York is a real estate broker that supports equal housing opportunity.<p><a  website_redacted                                                                                                                                                                                                                                                                                                                                                                                                                                                                                                                                                                                                                                                                                                                                                                                                                                                                                                                                                                                                                                                                                                                                                                                                                                                                                                                                                                                                                                                                                                                                             12\n",
       "Beautiful  1BR in the Midtown West<br /><br />Bond New York is a real estate broker that supports equal housing opportunity.<p><a  website_redacted                                                                                                                                                                                                                                                                                                                                                                                                                                                                                                                                                                                                                                                                                                                                                                                                                                                                                                                                                                                                                                                                                                                                                                                                                                                                                                                                                                                                                                                                                                                                                                                                                                                                                                                                 12\n",
       "Newly Constructed luxury building in Lincoln Center. Steps away from the 1,2,3 subway, Central Park and much more in the Upper West Side. This building features a 24 hour doorman, a laundry, fitness center, lounge and a nursery.<br /><br />This JUNIOR ONE unit has an extremely spacious living area, beautiful oak floors, a granite kitchen with top of the line appliances including a dishwasher, a bedroom that can accommodate any bed size, windows with excellent exposure to natural sun light and a marble bathroom.<br /><br />For serious inquiries about this unit please contact Joseph Wilson 975-052-6201 or email kagglemanager@renthop.com<br /><br />Price reflects net effective priceUnit is occupied and not available for immediate move in<p><a  website_redacted                                                                                                                                                                                                                                                                                                                                                                                                                                                                                                                                                                                                                                                                                                                                                                                                                                                                                                                                                                                                                                                                                     11\n",
       "                                                                                                                                                                                                                                                                                                                                                                                                                                                                                                                                                                                                                                                                                                                                                                                                                                                                                                                                                                                                                                                                                                                                                                                                                                                                                                                                                                                                                                                                                                                                                                                                                                                                                                                                                                                                                                                                                  ... \n",
       "Nice True One bedroom apartment on low traffic block in the low 70's floor Separate Living Room and KitchenAccess to Backyard Space for those sunny daysHigh Ceilings with large windows to boot...Close to Proximity to Cornell Medical Center and Hunter Campus with plenty of social options abound..DO NOT LET THIS PASS YOU BY!! CALL OR TEXT LAREDO (9TWO9) 22FOUR-49FIVE4IF THIS DOES NOT FIT YOUR LIKING, I WILL HELP YOU Find SOMETHING THAT WILL. CALL OR TEXT LAREDO (9TWO9) 22FOUR-49FIVE4***No Pets***<br /><br />Bond New York is a real estate broker that supports equal housing opportunity.<p><a  website_redacted                                                                                                                                                                                                                                                                                                                                                                                                                                                                                                                                                                                                                                                                                                                                                                                                                                                                                                                                                                                                                                                                                                                                                                                                                                                 1\n",
       "Marvelous 3 bedroom apartment features a washer & dryer, marble bathroom and granite kitchen with stainless steel appliances, including a dishwasher. Available for immediate occupancy. Conveniently located in the Gramercy / Murray Hill area steps from shopping, nightlife and restaurants and just a around the corner from the Midtown Tunnel and just minutes to the crosstown bus and 6 subway lines. Steps away from NYU School of Medicine.For access, please call our office at  .CROMAN6193Please call 747-575-4675, email kagglemanager@renthop.com, or visit  website_redacted today for more information!                                                                                                                                                                                                                                                                                                                                                                                                                                                                                                                                                                                                                                                                                                                                                                                                                                                                                                                                                                                                                                                                                                                                                                                                                                                            1\n",
       "This spacious alcove studio is located in the heart of Union Square. The kitchen is renovated with natural maple shaker cabinets, granite counter tops, granite flooring, and stainless steel appliances, including a dishwasher. The building has a 24- hour doorman, gym, and laundry. Transportation will never be an issue, with the N, Q, R, 4, 5, & 6 trains all at your doorstep. Photos are of a standard unit in the building.<br><p><img src= \" website_redacted width=\"1\" height=\"1\" /><ul><li><a target=_blank href= website_redacted Cedric Hall for more information</a> </li><li><a target=_blank href= website_redacted full listing information on elliman.com</a> </li></ul></p>                                                                                                                                                                                                                                                                                                                                                                                                                                                                                                                                                                                                                                                                                                                                                                                                                                                                                                                                                                                                                                                                                                                                                                                   1\n",
       "River & Bridge ViewFrom the professionally-managed rooftop health club and spa to the 35,000-square foot roof deck, sky-lit glass-enclosed heated pool, and dramatic common spaces by the Rockwell Group, every aspect of this incomparable residence has been meticulously designed for modern living. Further complemented by a spectacular backdrop of the Manhattan skyline and inspiring exteriors by Arquitectonica, 4705 Center Boulevard in Long Island City creates an unrivaled environment of pure luxury. Standing 31 stories, this magnificent glass tower offers amazing East River and Manhattan views from many apartments, plus boasts a premier Long Island City location just a subway stop from Grand Central Station, and mere steps from the new Riverside Esplanade and Gantry Plaza State Park.Please call 747-575-4675, email kagglemanager@renthop.com, or visit  website_redacted today for more information!                                                                                                                                                                                                                                                                                                                                                                                                                                                                                                                                                                                                                                                                                                                                                                                                                                                                                                                                             1\n",
       "This is a 17 story luxury building located in Manhattan?s Murray Hill. The building has a 24 hour doorman. There are laundry facilities available. The building is in a quiet residential area near shopping and transportation, and only a few blocks from Grand Central Station.CALL NOW!! Aaron 877-414-4100 or Tomer 877-414-4100 *Pictures are of similar units**Rent advertised is net effective based on 1mo free rent!<br /><br /><br /><br /><br /><br /><p><a  website_redacted                                                                                                                                                                                                                                                                                                                                                                                                                                                                                                                                                                                                                                                                                                                                                                                                                                                                                                                                                                                                                                                                                                                                                                                                                                                                                                                                                                                            1\n",
       "PRIME FLATIRON LOCATION! LUXURY HIGH-RISE ON WEST 18TH. ELEGANT LOBBY WITH A 24 HOUR DOORMAN AND VALET SERVICE. THE BUILDING CONVENIENTLY INCLUDES A FITNESS CENTER. IT IS ALSO SURROUNDED BY ALL THE SHOPPING, RESTAURANTS AND EVERYTHING ELSE YOU COULD POSSIBLY WANT. AS WELL AS THE SUBWAY JUST STEPS AWAY.<br /><br />--------THIS EXTREMELY LARGE FLEX 4 BEDROOM 3 BATHROOM PENTHOUSE IS NOT YOUR TYPICAL HOME! IT HAS A GIGANTIC WRAPAROUND TERRACE AND A PRIVATE ELEVATOR THAT OPENS UP DIRECTLY IN YOUR APARTMENT. IT DOESN'T GET MUCH MORE LUXURIOUS THAN THAT..! FLOOR TO CEILING WINDOWS ALLOW FOR PLENTY OF SUNLIGHT AND BEAUTIFUL CITY VIEWS... BRAND NEW KITCHEN FULLY EQUIPPED WITH STAINLESS STEEL APPLIANCES. 3 MARBLED OUT BATHROOMS WITH HIGH-END FIXTURES! NEW HARDWOOD FLOORS AND TONS OF CLOSET SPACE! ---WASHER AND DRYER IN UNIT! --- YOU REALLY CAN'T ASK FOR MORE AND CONSIDERING EVERYTHING IT IS A REALLY GREAT DEAL!<br /><br />--------CONTACT MATT AT 501-606-3449 OR kagglemanager@renthop.com CALL/TEXT ANYTIME!<br /><br /><p><a  website_redacted                                                                                                                                                                                                                                                                                                                                                                                                                                                                                                                                                                                                                                                                                                                                                                                                1\n",
       "This flex 2 features a state of the art kitchen with decadent maple cabinetry, stainless steel appliances, and Italian marble bathrooms.\\r\\rThis building is located in the heart of downtown Manhattan. Surrounded by the top restaurants and shopping boutiques the city has to offer. Walking distance to subways and buses.\\r\\rAmenities include:\\r\\r24 hour doorman, laundry in building, screening lounge, fitness center, on-site garage, bike room, sundeck, and laundry room.\\r\\rContact me today for a private viewing!!!!\\r                                                                                                                                                                                                                                                                                                                                                                                                                                                                                                                                                                                                                                                                                                                                                                                                                                                                                                                                                                                                                                                                                                                                                                                                                                                                                                                                               1\n",
       "Ultra Luxury Residence Features: - Granite kitchen Counter-Tops- Stainless Steel Appliances- Marble Bathroom- Hardwood Floors- Ample Closet Space Grand Tower Building Features: - 24 Hour Doorman- 24 Hour Concierge- Grand Lobby Entrance- Laundry Facilities- Bicycle Storage NO FEE! Harry Ego | kagglemanager@renthop.com | 127-612-9856                                                                                                                                                                                                                                                                                                                                                                                                                                                                                                                                                                                                                                                                                                                                                                                                                                                                                                                                                                                                                                                                                                                                                                                                                                                                                                                                                                                                                                                                                                                                        1\n",
       "This is a elevator building, in the area you have central park right outside your doorstep. There is a wide variety of restaurants to choose from and plenty of places to shop. Transportation is close with the 2,3 and 6 trains a short walk away.<br /><br />This is a 3BR apartment that features hardwood floors throughout the unit, spacious layout and plenty of closet space throughout the unit. The apartment get lots of natural light . The kitchen has granite counter tops and stainless steal appliances.<br /><br />To view this apartment please contact Christopher Gifford  120-543-0965 kagglemanager@renthop.com<br /><br /><p><a  website_redacted                                                                                                                                                                                                                                                                                                                                                                                                                                                                                                                                                                                                                                                                                                                                                                                                                                                                                                                                                                                                                                                                                                                                                                                                            1\n",
       "Rare Opportunity to rent in one of New York Cities most coveted areas;GRAMERCY PARK. Wake up to sun flooded apartment that looks over an awesome Gramercy residential street. This B-E-A-U-T-iful GUT RENOVATED 3 bedroom unit features all of the amenities including: Marble bath, Gran Kitch, Dishwasher, Washer/Dryer (Killer 1-2 Combo), X-Brick , REFRIGERATED WINERACK, and Individual Climate Control.Having BOTH washer/dryer & Dishwasher in an NYC apartment is unheard of ! ALL BEDROOMS are equally queen sized with window and close. These features would save you both TIME and MONEY (Laundry Mat visits are the worst.) The Best thing about this unit ?!This is a no fee listing ! Thus meaning, there is no commission owed to broker. On an $4995 listing, it would be a savings of nearly $9000 in brokerage fees ! How do I do this or whats the catch you may ask ? I work exclusively with landlords/management companies and therefore am compensated by them ! ! ! Be the first one to live here ! Guarantors OK ! Pets OK !<br /><br />Extremely well maintained pet friendly lowrise with extremely responsive management<br /><br />Join countless of others in relocating to the East Village<br /><br />If this unit does not fit your exact specifications, I have a pocket full of keys to some of the best 3/4/5 beds in Lower Manhattan and have a lot of experience dealing with applicants, and their guarantors.<br /><br />-------------Listing courtesy of Miron Properties. All material herein is intended for information purposes only and has been compiled from sources deemed reliable. Though information is believed to be correct, it is presented subject to errors, omissions, changes or withdrawal without notice.  Miron Properties is a licensed Real Estate Broker.  www.MironProperties.com<p><a  website_redacted        1\n",
       "Actual Apartment Photos before it was converted! Recently renovated 2 bedroom apt. Enormous layout, over-sized rooms. Separate kitchen and excellent source of natural light. Low walk-up                                                                                                                                                                                                                                                                                                                                                                                                                                                                                                                                                                                                                                                                                                                                                                                                                                                                                                                                                                                                                                                                                                                                                                                                                                                                                                                                                                                                                                                                                                                                                                                                                                                                                            1\n",
       "No Fee! Large, renovated 2 bedroom available for rent on the Upper West side. Located between Amsterdam and Broadway, this pre-war, elevator building is convenient to the 1 train, dry cleaners, deli, grocery store, Rite Aid, and plenty of restaurants such as The Manchester Diner and Tara Hill Irish Tavern. The apartment is fully gut renovated, includes a built in flat screen TV,open renovated kitchen with stainless steel appliances, washer/dryer, two bedrooms with hardwood floors, and windowed, marble bath. Immediate Availability. Contact me today to see this apartment or any others in the Citi Habitats database!                                                                                                                                                                                                                                                                                                                                                                                                                                                                                                                                                                                                                                                                                                                                                                                                                                                                                                                                                                                                                                                                                                                                                                                                                                         1\n",
       "Huge classic 7 apartment with 3 bathrooms , 3 bedrooms + the maids room . Huge dining room , huge step down living room with wood burning fire place<br /><br />brand new eat in kitchen with new appliances .Incredible price for this market . Will rent fast .call Lia 923-936-2939<br /><br /><br /><br /><br /><br /><br /><br /><p><a  website_redacted                                                                                                                                                                                                                                                                                                                                                                                                                                                                                                                                                                                                                                                                                                                                                                                                                                                                                                                                                                                                                                                                                                                                                                                                                                                                                                                                                                                                                                                                                                                        1\n",
       "***LIVE IN YOUR DREAM HOME! AMAZING 2 BEDROOM CONVERTIBLE WITH JAW DROPPING VIEWS AND RENOVATIONS***AMENITIES INCLUDE:Children's playroomConciergeDoormanElevatorGymLaundry in BuildingLive-in SuperPackage RoomParking AvailablePets AllowedCommunity Recreation FacilitiesOutdoor SpaceGardenRoof Deck<br /><br />CLOSE TO THE 4, 5, 6, and 7 on 34thFerry at E 34th Street Ferry Landing under 500 feet from building.FOR AN EXCLUSIVE VIEWING, CALL/TEXT DANIELA. 467-265-1799 kagglemanager@renthop.com *If this is NOT exactly what you are looking for, feel free to contact me and I will be help you have a seamless, quick and comforting experience in finding your new home.<br /><br />**Price is net effective<br /><br /><p><a  website_redacted                                                                                                                                                                                                                                                                                                                                                                                                                                                                                                                                                                                                                                                                                                                                                                                                                                                                                                                                                                                                                                                                                                                      1\n",
       "No fee! 24 hour luxury doorman building with free gym, laundry room, elevator and live in super. Great location just steps to subway, restaurants and nightlife.<br /><br />Giant studio with gorgeous hardwood flooring throughout. Renovated kitchen with stainless steel appliances. Marble bathroom with custom vanity. High ceilings and over sized windows.<br /><br />For an immediate viewing contact me at kagglemanager@renthop.com or 501-606-3449<br /><br /><p><a  website_redacted                                                                                                                                                                                                                                                                                                                                                                                                                                                                                                                                                                                                                                                                                                                                                                                                                                                                                                                                                                                                                                                                                                                                                                                                                                                                                                                                                                                     1\n",
       "Amazing two-bedroom deal! Spacious, newly renovated, separate eat-in kitchen, hardwood floors, high ceilings, lots of closets! Elevator/laundry building. Close to Central Park and transportation.\\r\\rCall or text me today to make this apartment your new home.\\rHeleen @ 501-606-3449                                                                                                                                                                                                                                                                                                                                                                                                                                                                                                                                                                                                                                                                                                                                                                                                                                                                                                                                                                                                                                                                                                                                                                                                                                                                                                                                                                                                                                                                                                                                                                                            1\n",
       "Two bedroom available ASAP. Located in an elevator and laundry building, the apartment features a gut renovated eat-in kitchen with stainless steel appliances (including a dishwasher), re-tiled bathroom, one king-sized bedroom and the other is a queen-sized bedroom, lots of closet space, too!Just off the 157th Street stop on the 1 train, the neighborhood boasts a very short walk to Fort Washington Park, as well as eateries including Silver Palace and Coral. Let me help you find your way home!                                                                                                                                                                                                                                                                                                                                                                                                                                                                                                                                                                                                                                                                                                                                                                                                                                                                                                                                                                                                                                                                                                                                                                                                                                                                                                                                                                    1\n",
       "        This two bedroom features luxury finishes and details throughout, including a chef's kitchen with top of the line appliances, spa baths, and an in unit washer/dryer. <br /><br />To view this listing or see more properties like this one, please visit www.kellymap.com or contact one of our agents today.                                                                                                                                                                                                                                                                                                                                                                                                                                                                                                                                                                                                                                                                                                                                                                                                                                                                                                                                                                                                                                                                                                                                                                                                                                                                                                                                                                                                                                                                                                                                                               1\n",
       "This three bedroom in Gramercy is a tremendous deal at $4995!\\rThe entire building has been refinished from top to bottom.\\rThis ultra modern apartment boasts 2 en-suite balcony's.\\rExposed brick.\\rEspresso hardwood floors.\\rStainless steel appliances in kitchen including dishwasher, microwave and wine cooler.\\rModern white lacquer European cabinetry and large stainless steel apron sink, granite counters and designer lighting!\\rWasher and dryer in unit.\\rUltra sleek bathroom with full sized tub, sliding glass doors, designer tiled walls, too many details to list.\\rClosets in bedroom with built ins.\\rCall/ text or email Tina for an exclusive tour of this and many more NYC apartments today!                                                                                                                                                                                                                                                                                                                                                                                                                                                                                                                                                                                                                                                                                                                                                                                                                                                                                                                                                                                                                                                                                                                                                            1\n",
       "Gorgeous Spacious 1 bedroom 1 bathroom apartment in prime Sunnyside is conveniently located just 2 short blocks from the 46th St 7 train station; placing you a brief 15 minute train ride away from Manhattan!<br /><br />Apartment Features:- Eat in Kitchen with Stainless Steel Appliances and Dishwasher- Renovated Bathroom- Beautiful Hardwood Floors- Lots of Sunlight- Great Closet Space- Freshly PaintedElevator BuildingLaundry roomHeat & Hot Water IncludedLive in Super<br /><br />Contact Information:Kenneth BeakExclusive AgentC: 064-692-8838Email: kagglemanager@renthop.com, Text or Email to schedule a private viewing!<br /><br /><br /><br /><br /><br /><br /><br /><br /><br /><br /><br /><br /><br /><p><a  website_redacted                                                                                                                                                                                                                                                                                                                                                                                                                                                                                                                                                                                                                                                                                                                                                                                                                                                                                                                                                                                                                                                                                                                            1\n",
       "This is a luxurious 24/7 doorman building located in the Turtle Bay neighborhood in Midtown , walking distance to Grand Central Station and the United Nations. Featuring a sleek new attended lobby and desirable amenities.<br /><br />NOFEE NO FEE ON 18MTH LEASE,This is a one of kind 2bd/1BATH/balc  apartment that features a PERFECT layout full of light and closet space ,large windows,granite kitchen with top of the line appliances ,dish washer,marble bathrooms,hardwood floor ,GUT RENOVATED  with condo finishes, washing and dryer in the unit....this is an amazing unit DONT MISS IT<br /><br />to set up time and location contact me Rubens:039-610-8860<br /><br /><p><a  website_redacted                                                                                                                                                                                                                                                                                                                                                                                                                                                                                                                                                                                                                                                                                                                                                                                                                                                                                                                                                                                                                                                                                                                                                                   1\n",
       "This gorgeous apartment is priced perfectly and will not last. Beautifully Renovated with updated fixtures and appliances. Fantastic Sun Exposure, and comfortable living space. Great Closet Space. Conveniently located near restaurants, shops, bars, lounges, and the best this area has to offer. All transportation, including express trains, within minutes from your front door. For more information on this apartment and othersCall/Text/E-Mail Doyin 746-685-8384 kagglemanager@renthop.com**I HAVE ACCESS TO EVERY AVAILABLE LISTING INCLUDING EXCLUSIVE LISTINGS AT BOND NEW YORK PROPERTIES. IF THIS APARTMENT IS NOT WHAT YOU ARE LOOKING FOR, I HAVE THE MEANS TO FIND YOU THE RIGHT PLACE SO FEEL FREE TO E-MAIL, TEXT, OR CALL AT ANY TIME** <br /><br />Bond New York is a real estate broker that supports equal housing opportunity.<p><a  website_redacted                                                                                                                                                                                                                                                                                                                                                                                                                                                                                                                                                                                                                                                                                                                                                                                                                                                                                                                                                                                                   1\n",
       "Luminous 1 Bedroom w/ High Floor View, Concierge, Verizon FiOS, Roof Garden - No FeeNot available as share.Murray Hill south of Grand Central, north of Gramercy.Effortless access to the city's rewards. Restaurants, shopping, theater, nightlife. It's all here. It's all good. It's all yours at The Anthem.24-hour concierge, white glove doorman, Abigal Michaels conceirge, on-site valet and attentive manager fulfill your every request. Housekeeping, dry cleaning, tailoring, theater tickets, car service, personal errands-consider it done.+ French Dry Cleaning+ Laundry & Tailoring+ Shoe Repair/Shine+ Tickets to Sporting Events, Theatre, Concerts, etc+ Restaurant Reservations+ Flower Arrangements+ Private Catering+ Personal Shopping+ Personal Errands+ Food Shopping+ Messenger Service+ Private Car Service+ Photo Developing+ Uniformed Housekeeping Service+ Kitchen with Absolute Black granite counter tops, all stainless steel appliances+ Marble baths+ Light maple floors+ Custom double-hung & walk-in closets+ Multi-port home networking in every residence.Please call 747-575-4675, email kagglemanager@renthop.com, or visit  website_redacted today for more information!Please call 747-575-4675, email kagglemanager@renthop.com, or visit  website_redacted today for more information!                                                                                                                                                                                                                                                                                                                                                                                                                                                                                                                                                1\n",
       "Studio w/ an Open Kitchen, Foyer, Great Closet Space, Good Size Living Area, and S/W Views.  Available Immediately.<br><p><img src= \" website_redacted width=\"1\" height=\"1\" /><ul><li><a target=_blank href= website_redacted Anastasiia Lysenko for more information</a> </li><li><a target=_blank href= website_redacted full listing information on elliman.com</a> </li></ul></p>                                                                                                                                                                                                                                                                                                                                                                                                                                                                                                                                                                                                                                                                                                                                                                                                                                                                                                                                                                                                                                                                                                                                                                                                                                                                                                                                                                                                                                                                                                1\n",
       "NO FEEHUGE LIVING ROOMSeparate KITCHEN, DISHWASHER, MICROWAWE2 Bedrooms with WALK-IN-CLOSETS4 Clest Spaces in TotalELEVATOR, LAUNDRY, SUPERINTENDENTRarely beautiful, well maintained Building -quiet Midtown East Block -East 46th (3rd and 2nd)Contact me for details and viewing.Luna 759-194-6409<br /><br /><br /><br /><br /><br /><br /><br /><br /><br /><p><a  website_redacted                                                                                                                                                                                                                                                                                                                                                                                                                                                                                                                                                                                                                                                                                                                                                                                                                                                                                                                                                                                                                                                                                                                                                                                                                                                                                                                                                                                                                                                                                             1\n",
       "TRULY IMMACULATE, EXTRA LARGE 1 BR on the UES! FANTASTIC Prime Location!!! Great Space!!! This HIDDEN GEM of an apartment is priced perfectly and WILL NOT LAST!!Excellent sun exposure, and comfortable living space. Generous closet space. EXTRA large bedroomConveniently located near eateries, bars & entertainment.All transportation, including express trains, within minutes from your front door. For more info on this unit and/or others like it please contact Olivia.I have access to every available listing including exclusive listings at BOND New York kagglemanager@renthop.com<br /><br />Bond New York is a real estate broker that supports equal housing opportunity.<p><a  website_redacted                                                                                                                                                                                                                                                                                                                                                                                                                                                                                                                                                                                                                                                                                                                                                                                                                                                                                                                                                                                                                                                                                                                                                                1\n",
       "NO FEE 1 Bedroom with tons of space and light and a private roof deck with 360 degree views of Brooklyn and Manhattan!  Newer kitchen includes dishwasher.  Great high ceilings with skylights throughout.  Large king size bedroom with extra storage space.  There is also a washer and dryer in the basement and your pets are welcome on approval.  Available July 1st.  Call or text Hunter today at 934-073-5598 to schedule a time to view this gem of an apartment.<br><p><img src= \" website_redacted width=\"1\" height=\"1\" /><ul><li><a target=_blank href= website_redacted Hunter Roberts for more information</a> </li><li><a target=_blank href= website_redacted full listing information on elliman.com</a> </li></ul></p>                                                                                                                                                                                                                                                                                                                                                                                                                                                                                                                                                                                                                                                                                                                                                                                                                                                                                                                                                                                                                                                                                                                                            1\n",
       "This classic prewar building is Located Convenient to great shopping, restaurants, entertainment, Whole Foods, Fairway, Close to the M86 crosstown bus.<br /><br />Completely, gut renovated. Bright 3 Bedroom , 1 baths apartment on the corner of York and 80th Street. This one of a kind apartment features,large and bright living room, White tiled bathroom with pedestal sink and marble floors, Hardwood floors throughout,Great closet space.<br /><br />To schedule a viewing, Contact Lia Mor by Phone, Text or Email at: Lia Mor 793-976-7133 / 793-976-7133 kagglemanager@renthop.com<br /><br /><p><a  website_redacted                                                                                                                                                                                                                                                                                                                                                                                                                                                                                                                                                                                                                                                                                                                                                                                                                                                                                                                                                                                                                                                                                                                                                                                                                                               1\n",
       "This is a beautiful & spacious apartment in an elevator building & is a gem located in Chelsea.  The building features a roof deck, laundry, a full-time doorman & many more.                                                                                                                                                                                                                                                                                                                                                                                                                                                                                                                                                                                                                                                                                                                                                                                                                                                                                                                                                                                                                                                                                                                                                                                                                                                                                                                                                                                                                                                                                                                                                                                                                                                                                                        1\n",
       "89TH/ LEX MASSIVE DUPLEX 2 BED/ 2 BATH IN LUX ELEV/ LAUNDRY BUILDING- PERFECT LOCATION!Great looking two bedroom duplex with tons of character. This apartment is equipped with a full-sized kitchen, large windows, hardwood floors, and a balcony. The building is pet friendly and has a live in super, on-site laundry, virtual doorman intercom, and an elevator. Awesome Location! Located on a really nice residential block close to the express 4, 5, and 6 train stop. Also, this apartment is just a couple of blocks from Central Park.<br /><br />To view feel free to call email Magaly310-758-6977 kagglemanager@renthop.com<br /><br /><br /><br /><p><a  website_redacted                                                                                                                                                                                                                                                                                                                                                                                                                                                                                                                                                                                                                                                                                                                                                                                                                                                                                                                                                                                                                                                                                                                                                                                           1\n",
       "Name: description, dtype: int64"
      ]
     },
     "execution_count": 5,
     "metadata": {},
     "output_type": "execute_result"
    }
   ],
   "source": [
    "import numpy as np # linear algebra\n",
    "import pandas as pd # data processing, CSV file I/O (e.g. pd.read_csv)\n",
    "import matplotlib.pyplot as plt\n",
    "import seaborn as sns\n",
    "import re\n",
    "color = sns.color_palette()\n",
    "%matplotlib inline\n",
    "\n",
    "t_df = pd.read_json(\"/Users/jakebialer/Neuromancers-Kaggle/train.json\")\n",
    "t_df['description'].value_counts()"
   ]
  },
  {
   "cell_type": "markdown",
   "metadata": {},
   "source": [
    "## No Description "
   ]
  },
  {
   "cell_type": "code",
   "execution_count": 6,
   "metadata": {
    "collapsed": false
   },
   "outputs": [
    {
     "data": {
      "text/plain": [
       "<matplotlib.axes._subplots.AxesSubplot at 0x10bb48e90>"
      ]
     },
     "execution_count": 6,
     "metadata": {},
     "output_type": "execute_result"
    },
    {
     "data": {
      "image/png": "[encoded data removed]",
      "text/plain": [
       "<matplotlib.figure.Figure at 0x12ba515d0>"
      ]
     },
     "metadata": {},
     "output_type": "display_data"
    }
   ],
   "source": [
    "t_df['has_blank_description']= t_df['description'].apply(lambda x: x.strip()) ==\"\"\n",
    "t_df['has_blank_description'].value_counts()\n",
    "sns.countplot(x='interest_level',  hue='has_blank_description', data=t_df)\n"
   ]
  },
  {
   "cell_type": "markdown",
   "metadata": {},
   "source": [
    "# What are the most common words, bigrams, and trigrams in the description?\n"
   ]
  },
  {
   "cell_type": "code",
   "execution_count": 7,
   "metadata": {
    "collapsed": false
   },
   "outputs": [
    {
     "data": {
      "text/plain": [
       "u'Top Top West Village location, beautiful Pre-war building with laundry in the basement and live in super!<br/><br/>Apartment features a large bedroom with closet. Separate living room, kitchen features granite tops, dishwasher and microwave included, marble bathroom and hardwood flooring. Building is very well maintained and conveniently located near A,C,E,L,1,2,3 trains. Surrounded by many local cafe?s, restaurants, available for November 1st move in!<br/><br/>To view this apartment or any other please contact me via email or call at the number listed.<br/><br/><br/><br/><br/><br/>Bond New York is a real estate broker that supports equal housing opportunity.<p><a  website_redacted '"
      ]
     },
     "execution_count": 7,
     "metadata": {},
     "output_type": "execute_result"
    }
   ],
   "source": [
    "t_df.loc[10,'description']\n",
    "t_df.loc[100004,'description']\n"
   ]
  },
  {
   "cell_type": "code",
   "execution_count": 8,
   "metadata": {
    "collapsed": false
   },
   "outputs": [
    {
     "data": {
      "text/html": [
       "<div>\n",
       "<table border=\"1\" class=\"dataframe\">\n",
       "  <thead>\n",
       "    <tr style=\"text-align: right;\">\n",
       "      <th></th>\n",
       "      <th>description</th>\n",
       "    </tr>\n",
       "  </thead>\n",
       "  <tbody>\n",
       "    <tr>\n",
       "      <th>10</th>\n",
       "      <td>A Brand New 3 Bedroom 1.5 bath ApartmentEnjoy ...</td>\n",
       "    </tr>\n",
       "    <tr>\n",
       "      <th>10000</th>\n",
       "      <td></td>\n",
       "    </tr>\n",
       "    <tr>\n",
       "      <th>100004</th>\n",
       "      <td>Top Top West Village location, beautiful Pre-w...</td>\n",
       "    </tr>\n",
       "    <tr>\n",
       "      <th>100007</th>\n",
       "      <td>Building Amenities - Garage - Garden - fitness...</td>\n",
       "    </tr>\n",
       "    <tr>\n",
       "      <th>100013</th>\n",
       "      <td>Beautifully renovated 3 bedroom flex 4 bedroom...</td>\n",
       "    </tr>\n",
       "    <tr>\n",
       "      <th>100016</th>\n",
       "      <td>Stunning unit with a great location and lots o...</td>\n",
       "    </tr>\n",
       "    <tr>\n",
       "      <th>100020</th>\n",
       "      <td>This huge sunny ,plenty of lights 1 bed/2 bath...</td>\n",
       "    </tr>\n",
       "    <tr>\n",
       "      <th>100026</th>\n",
       "      <td>&lt;p&gt;&lt;a  website_redacted</td>\n",
       "    </tr>\n",
       "    <tr>\n",
       "      <th>100027</th>\n",
       "      <td>This is a spacious four bedroom with every bed...</td>\n",
       "    </tr>\n",
       "    <tr>\n",
       "      <th>100030</th>\n",
       "      <td>New to the market! Spacious studio located in ...</td>\n",
       "    </tr>\n",
       "    <tr>\n",
       "      <th>10004</th>\n",
       "      <td>Check out this one bedroom apartment in a grea...</td>\n",
       "    </tr>\n",
       "    <tr>\n",
       "      <th>100044</th>\n",
       "      <td>***LOW FEE. Beautiful CHERRY OAK WOODEN FLOORS...</td>\n",
       "    </tr>\n",
       "    <tr>\n",
       "      <th>100048</th>\n",
       "      <td>Lincoln Square's premier full service building...</td>\n",
       "    </tr>\n",
       "    <tr>\n",
       "      <th>10005</th>\n",
       "      <td>Spacious 1-Bedroom to fit King-sized bed comfo...</td>\n",
       "    </tr>\n",
       "    <tr>\n",
       "      <th>100051</th>\n",
       "      <td>Stunning  full renovated studio unit. High cei...</td>\n",
       "    </tr>\n",
       "    <tr>\n",
       "      <th>100052</th>\n",
       "      <td>East Village is a great community with great p...</td>\n",
       "    </tr>\n",
       "    <tr>\n",
       "      <th>100053</th>\n",
       "      <td>*Location: Thayer St. &amp;amp; Broadway, Manhatta...</td>\n",
       "    </tr>\n",
       "    <tr>\n",
       "      <th>100062</th>\n",
       "      <td>BEAUTIFUL 2 BEDROOM POSSIBLE CONVERSION INTO T...</td>\n",
       "    </tr>\n",
       "    <tr>\n",
       "      <th>100063</th>\n",
       "      <td>No fee huge two bedroom apartment. Great locat...</td>\n",
       "    </tr>\n",
       "    <tr>\n",
       "      <th>100066</th>\n",
       "      <td>CooperCooper.com :: Web ID #179546; Access 100...</td>\n",
       "    </tr>\n",
       "    <tr>\n",
       "      <th>10007</th>\n",
       "      <td>SPRAWLING 2 BEDROOM FOUND! ENJOY THE LUXURY OF...</td>\n",
       "    </tr>\n",
       "    <tr>\n",
       "      <th>100071</th>\n",
       "      <td>Amazing 4 bedroom convertible. Remarkably luxu...</td>\n",
       "    </tr>\n",
       "    <tr>\n",
       "      <th>100075</th>\n",
       "      <td>Don't miss out on this fantastic apartment.......</td>\n",
       "    </tr>\n",
       "    <tr>\n",
       "      <th>100076</th>\n",
       "      <td>The TRUE 1 bedroom apartment features extra la...</td>\n",
       "    </tr>\n",
       "    <tr>\n",
       "      <th>100079</th>\n",
       "      <td>Currently under renovation, this one b...</td>\n",
       "    </tr>\n",
       "    <tr>\n",
       "      <th>100081</th>\n",
       "      <td>Gut Renovated Apartment with Stainless steel a...</td>\n",
       "    </tr>\n",
       "    <tr>\n",
       "      <th>100083</th>\n",
       "      <td>Enjoy the Upper West Side life-style!  This ap...</td>\n",
       "    </tr>\n",
       "    <tr>\n",
       "      <th>100084</th>\n",
       "      <td>--Prime location of the Upper West Side, this ...</td>\n",
       "    </tr>\n",
       "    <tr>\n",
       "      <th>100085</th>\n",
       "      <td>This apartment features south and west exposur...</td>\n",
       "    </tr>\n",
       "    <tr>\n",
       "      <th>100087</th>\n",
       "      <td>Prime location in the heart of Greenwich Villa...</td>\n",
       "    </tr>\n",
       "    <tr>\n",
       "      <th>...</th>\n",
       "      <td>...</td>\n",
       "    </tr>\n",
       "    <tr>\n",
       "      <th>99890</th>\n",
       "      <td>Unique Upper East Side Special! Duplex 1 bedro...</td>\n",
       "    </tr>\n",
       "    <tr>\n",
       "      <th>99896</th>\n",
       "      <td>Apartment for rent in Rego Park 11374  SUBJECT...</td>\n",
       "    </tr>\n",
       "    <tr>\n",
       "      <th>99902</th>\n",
       "      <td>Very Large 1Bd/1Ba Bright Apartment with Tons ...</td>\n",
       "    </tr>\n",
       "    <tr>\n",
       "      <th>99903</th>\n",
       "      <td>HUGE renovated RENT STEBAILIZED one bedroom on...</td>\n",
       "    </tr>\n",
       "    <tr>\n",
       "      <th>99906</th>\n",
       "      <td>Absolutely stunning and spacious 3 bedroom fle...</td>\n",
       "    </tr>\n",
       "    <tr>\n",
       "      <th>9991</th>\n",
       "      <td>Great deal for a one bedroom located in Prime ...</td>\n",
       "    </tr>\n",
       "    <tr>\n",
       "      <th>99911</th>\n",
       "      <td>Building Features &amp; AmenitiesElevatorFull-time...</td>\n",
       "    </tr>\n",
       "    <tr>\n",
       "      <th>99915</th>\n",
       "      <td>Elegant, spacious one bedroom in modern luxury...</td>\n",
       "    </tr>\n",
       "    <tr>\n",
       "      <th>99919</th>\n",
       "      <td>(((((IMPORTANT NOTICE))))) If you are planning...</td>\n",
       "    </tr>\n",
       "    <tr>\n",
       "      <th>99921</th>\n",
       "      <td>WASHER &amp; DRYER IN UNIT ++ 5 MINUTE WALK TO R T...</td>\n",
       "    </tr>\n",
       "    <tr>\n",
       "      <th>99923</th>\n",
       "      <td>Tremendous Classic Six in a Luxurious Prewar D...</td>\n",
       "    </tr>\n",
       "    <tr>\n",
       "      <th>99931</th>\n",
       "      <td>Only one block form Washington Square Park! Ne...</td>\n",
       "    </tr>\n",
       "    <tr>\n",
       "      <th>99935</th>\n",
       "      <td>This newly renovated 1 bedroom unit is recentl...</td>\n",
       "    </tr>\n",
       "    <tr>\n",
       "      <th>99937</th>\n",
       "      <td>Bedroom on top, Living room on bottom&lt;br /&gt;&lt;br...</td>\n",
       "    </tr>\n",
       "    <tr>\n",
       "      <th>9994</th>\n",
       "      <td>Don't miss out on this spacious and beautiful ...</td>\n",
       "    </tr>\n",
       "    <tr>\n",
       "      <th>99953</th>\n",
       "      <td>This exquisitely appointed 1 bedroom, 1 bath r...</td>\n",
       "    </tr>\n",
       "    <tr>\n",
       "      <th>99956</th>\n",
       "      <td>This spacious two bedroom apartment features e...</td>\n",
       "    </tr>\n",
       "    <tr>\n",
       "      <th>99960</th>\n",
       "      <td>Great Lower East Side one bedroom.Well maintai...</td>\n",
       "    </tr>\n",
       "    <tr>\n",
       "      <th>99964</th>\n",
       "      <td>77TH ST! FULLY GUT RENOV STUDIO! HI CEIL! XPSD...</td>\n",
       "    </tr>\n",
       "    <tr>\n",
       "      <th>99965</th>\n",
       "      <td>Full-Time Doorman PET FRIENDLYElevator GYMLaun...</td>\n",
       "    </tr>\n",
       "    <tr>\n",
       "      <th>99966</th>\n",
       "      <td>This is a Great Opportunity to Rent an Excelle...</td>\n",
       "    </tr>\n",
       "    <tr>\n",
       "      <th>99980</th>\n",
       "      <td>Incredibly sunny and spacious studio apartment...</td>\n",
       "    </tr>\n",
       "    <tr>\n",
       "      <th>99982</th>\n",
       "      <td>LUXURY BUILDING IN MIDTOWN WEST, 24 HR DOORMAN...</td>\n",
       "    </tr>\n",
       "    <tr>\n",
       "      <th>99984</th>\n",
       "      <td>Huge true king size one bedroom in an elevator...</td>\n",
       "    </tr>\n",
       "    <tr>\n",
       "      <th>99986</th>\n",
       "      <td>Charming one bedroom! Hardwood floors, sunny, ...</td>\n",
       "    </tr>\n",
       "    <tr>\n",
       "      <th>99988</th>\n",
       "      <td>24hr Doorman Luxury building in the heart of t...</td>\n",
       "    </tr>\n",
       "    <tr>\n",
       "      <th>99991</th>\n",
       "      <td>HIGH END condo finishes, swimming pool, and ki...</td>\n",
       "    </tr>\n",
       "    <tr>\n",
       "      <th>99992</th>\n",
       "      <td>Large Renovated One Bedroom Apartment with Sta...</td>\n",
       "    </tr>\n",
       "    <tr>\n",
       "      <th>99993</th>\n",
       "      <td>Stylishly sleek studio apartment with unsurpas...</td>\n",
       "    </tr>\n",
       "    <tr>\n",
       "      <th>99994</th>\n",
       "      <td>Look no further!!!  This giant 2 bedroom apart...</td>\n",
       "    </tr>\n",
       "  </tbody>\n",
       "</table>\n",
       "<p>38244 rows × 1 columns</p>\n",
       "</div>"
      ],
      "text/plain": [
       "                                              description\n",
       "10      A Brand New 3 Bedroom 1.5 bath ApartmentEnjoy ...\n",
       "10000                                                    \n",
       "100004  Top Top West Village location, beautiful Pre-w...\n",
       "100007  Building Amenities - Garage - Garden - fitness...\n",
       "100013  Beautifully renovated 3 bedroom flex 4 bedroom...\n",
       "100016  Stunning unit with a great location and lots o...\n",
       "100020  This huge sunny ,plenty of lights 1 bed/2 bath...\n",
       "100026                           <p><a  website_redacted \n",
       "100027  This is a spacious four bedroom with every bed...\n",
       "100030  New to the market! Spacious studio located in ...\n",
       "10004   Check out this one bedroom apartment in a grea...\n",
       "100044  ***LOW FEE. Beautiful CHERRY OAK WOODEN FLOORS...\n",
       "100048  Lincoln Square's premier full service building...\n",
       "10005   Spacious 1-Bedroom to fit King-sized bed comfo...\n",
       "100051  Stunning  full renovated studio unit. High cei...\n",
       "100052  East Village is a great community with great p...\n",
       "100053  *Location: Thayer St. &amp; Broadway, Manhatta...\n",
       "100062  BEAUTIFUL 2 BEDROOM POSSIBLE CONVERSION INTO T...\n",
       "100063  No fee huge two bedroom apartment. Great locat...\n",
       "100066  CooperCooper.com :: Web ID #179546; Access 100...\n",
       "10007   SPRAWLING 2 BEDROOM FOUND! ENJOY THE LUXURY OF...\n",
       "100071  Amazing 4 bedroom convertible. Remarkably luxu...\n",
       "100075  Don't miss out on this fantastic apartment.......\n",
       "100076  The TRUE 1 bedroom apartment features extra la...\n",
       "100079          Currently under renovation, this one b...\n",
       "100081  Gut Renovated Apartment with Stainless steel a...\n",
       "100083  Enjoy the Upper West Side life-style!  This ap...\n",
       "100084  --Prime location of the Upper West Side, this ...\n",
       "100085  This apartment features south and west exposur...\n",
       "100087  Prime location in the heart of Greenwich Villa...\n",
       "...                                                   ...\n",
       "99890   Unique Upper East Side Special! Duplex 1 bedro...\n",
       "99896   Apartment for rent in Rego Park 11374  SUBJECT...\n",
       "99902   Very Large 1Bd/1Ba Bright Apartment with Tons ...\n",
       "99903   HUGE renovated RENT STEBAILIZED one bedroom on...\n",
       "99906   Absolutely stunning and spacious 3 bedroom fle...\n",
       "9991    Great deal for a one bedroom located in Prime ...\n",
       "99911   Building Features & AmenitiesElevatorFull-time...\n",
       "99915   Elegant, spacious one bedroom in modern luxury...\n",
       "99919   (((((IMPORTANT NOTICE))))) If you are planning...\n",
       "99921   WASHER & DRYER IN UNIT ++ 5 MINUTE WALK TO R T...\n",
       "99923   Tremendous Classic Six in a Luxurious Prewar D...\n",
       "99931   Only one block form Washington Square Park! Ne...\n",
       "99935   This newly renovated 1 bedroom unit is recentl...\n",
       "99937   Bedroom on top, Living room on bottom<br /><br...\n",
       "9994    Don't miss out on this spacious and beautiful ...\n",
       "99953   This exquisitely appointed 1 bedroom, 1 bath r...\n",
       "99956   This spacious two bedroom apartment features e...\n",
       "99960   Great Lower East Side one bedroom.Well maintai...\n",
       "99964   77TH ST! FULLY GUT RENOV STUDIO! HI CEIL! XPSD...\n",
       "99965   Full-Time Doorman PET FRIENDLYElevator GYMLaun...\n",
       "99966   This is a Great Opportunity to Rent an Excelle...\n",
       "99980   Incredibly sunny and spacious studio apartment...\n",
       "99982   LUXURY BUILDING IN MIDTOWN WEST, 24 HR DOORMAN...\n",
       "99984   Huge true king size one bedroom in an elevator...\n",
       "99986   Charming one bedroom! Hardwood floors, sunny, ...\n",
       "99988   24hr Doorman Luxury building in the heart of t...\n",
       "99991   HIGH END condo finishes, swimming pool, and ki...\n",
       "99992   Large Renovated One Bedroom Apartment with Sta...\n",
       "99993   Stylishly sleek studio apartment with unsurpas...\n",
       "99994   Look no further!!!  This giant 2 bedroom apart...\n",
       "\n",
       "[38244 rows x 1 columns]"
      ]
     },
     "execution_count": 8,
     "metadata": {},
     "output_type": "execute_result"
    }
   ],
   "source": [
    "no_dups_description=t_df[['description']].drop_duplicates()\n",
    "no_dups_description"
   ]
  },
  {
   "cell_type": "code",
   "execution_count": null,
   "metadata": {
    "collapsed": false
   },
   "outputs": [],
   "source": [
    "import string\n",
    "from nltk import word_tokenize \n",
    "from sklearn.feature_extraction.text import CountVectorizer\n",
    "def tokenize(text):\n",
    "    text = \"\".join([ch for ch in text if ch not in string.punctuation])\n",
    "    tokens = word_tokenize(text)\n",
    "    return tokens\n",
    "\n",
    "def find_ngrams(df):\n",
    "    word_vectorizer = CountVectorizer(ngram_range=(2,4), analyzer='word', stop_words='english',tokenizer=tokenize)\n",
    "    sparse_matrix = word_vectorizer.fit_transform(df['description'])\n",
    "    frequencies = sum(sparse_matrix).toarray()[0]\n",
    "    return pd.DataFrame(frequencies, index=word_vectorizer.get_feature_names(), columns=['frequency']).sort('frequency',ascending=[0])\n",
    "\n",
    "\n",
    "find_ngrams(no_dups_description)"
   ]
  },
  {
   "cell_type": "markdown",
   "metadata": {},
   "source": [
    "# Does the listing have a phone number? "
   ]
  },
  {
   "cell_type": "code",
   "execution_count": null,
   "metadata": {
    "collapsed": false,
    "scrolled": false
   },
   "outputs": [],
   "source": [
    "phone_regex = \"(\\d{3}[-\\.\\s]??\\d{3}[-\\.\\s]??\\d{4}|\\(\\d{3}\\)\\s*\\d{3}[-\\.\\s]??\\d{4}|\\d{3}[-\\.\\s]??\\d{4})\" # http://stackoverflow.com/questions/16699007/regular-expression-to-match-standard-10-digit-phone-number\n",
    "has_phone = t_df['description'].str.extract(phone_regex)\n",
    "t_df['has_phone']=[type(item)==unicode for item in has_phone]"
   ]
  },
  {
   "cell_type": "code",
   "execution_count": null,
   "metadata": {
    "collapsed": false
   },
   "outputs": [],
   "source": [
    "t_df['has_phone'].value_counts()"
   ]
  },
  {
   "cell_type": "code",
   "execution_count": null,
   "metadata": {
    "collapsed": false
   },
   "outputs": [],
   "source": [
    "sns.countplot(x='interest_level',  hue='has_phone', data=t_df)\n"
   ]
  },
  {
   "cell_type": "code",
   "execution_count": null,
   "metadata": {
    "collapsed": false
   },
   "outputs": [],
   "source": [
    "t_df['listing_length']=t_df['description'].str.len()"
   ]
  },
  {
   "cell_type": "markdown",
   "metadata": {},
   "source": [
    "## How is interest level related to listing length?"
   ]
  },
  {
   "cell_type": "code",
   "execution_count": null,
   "metadata": {
    "collapsed": false
   },
   "outputs": [],
   "source": [
    "sns.violinplot(x='interest_level',  y='listing_length', data=t_df)\n"
   ]
  },
  {
   "cell_type": "code",
   "execution_count": null,
   "metadata": {
    "collapsed": false
   },
   "outputs": [],
   "source": [
    "import re \n",
    "# http://stackoverflow.com/questions/520031/whats-the-cleanest-way-to-extract-urls-from-a-string-using-python\n",
    "URL_REGEX = r\"\"\"(?i)\\b((?:https?:(?:/{1,3}|[a-z0-9%])|[a-z0-9.\\-]+[.](?:com|edu|org|gov|ly)\\b/?(?!@)))\"\"\"\n",
    "\n",
    "def get_urls(text):\n",
    "    urls = re.findall(URL_REGEX, text)\n",
    "    return urls\n",
    "\n",
    "    \n",
    "    \n",
    "t_df['url'] = t_df['description'].apply(get_urls)\n",
    "\n",
    "t_df['url_count'] =t_df['url'] .apply(len)\n",
    "\n",
    "t_df['url_count'].value_counts()"
   ]
  },
  {
   "cell_type": "code",
   "execution_count": null,
   "metadata": {
    "collapsed": false
   },
   "outputs": [],
   "source": [
    "#TODO\n",
    "# Duplicate\n",
    "duplicates = t_df.groupby(['description']).size().reset_index().rename(columns={0:'duplicates'}).sort(['duplicates'], ascending=[0])\n",
    "\n",
    "t_df=pd.merge(t_df, duplicates, left_on='description', right_on='description')\n",
    "\n",
    "\n",
    "sns.violinplot(x='interest_level',  y='duplicates', data=t_df)\n",
    "\n",
    "\n",
    "\n",
    "\n",
    "\n"
   ]
  },
  {
   "cell_type": "code",
   "execution_count": null,
   "metadata": {
    "collapsed": false
   },
   "outputs": [],
   "source": [
    "# Guarantors\n",
    "has_guarantors= t_df['description'].str.contains( \"guarantor\" ,case=False)\n",
    "t_df['has_guarantors'] = has_guarantors\n",
    "sns.countplot(x='interest_level',  hue='has_guarantors', data=t_df)\n"
   ]
  },
  {
   "cell_type": "code",
   "execution_count": null,
   "metadata": {
    "collapsed": false
   },
   "outputs": [],
   "source": [
    "# Amount of CAPS \n",
    "\n",
    "def count_caps(message):\n",
    "    caps =sum(1 for c in message if c.isupper())\n",
    "    total_characters =sum(1 for c in test if c.isalpha())\n",
    "    if total_characters>0:\n",
    "        caps = caps/(total_characters* 1.0)\n",
    "    return caps\n",
    "\n",
    "t_df['amount_of_caps']=t_df['description'].apply(count_caps)\n",
    "\n",
    "# Subway Line \n",
    "# From brokerage \n",
    "# MX id \n",
    "# Listing Id \n",
    "# Email Address\n",
    "# Social Media\n",
    "# has stainless steel\n",
    "# has hardwood floors\n",
    "# has broker\n",
    "# sentiment analyis\n",
    "# spell check analysis \n",
    "# has html tags\n",
    "# has new\n",
    "# has free month\n",
    "# has high celings\n",
    "# has closet space\n",
    "# pets\n",
    "# equal housing"
   ]
  },
  {
   "cell_type": "code",
   "execution_count": null,
   "metadata": {
    "collapsed": false
   },
   "outputs": [],
   "source": [
    "import numpy as np # linear algebra\n",
    "import pandas as pd # data processing, CSV file I/O (e.g. pd.read_csv)\n",
    "import matplotlib.pyplot as plt\n",
    "import seaborn as sns\n",
    "from sklearn.ensemble import RandomForestClassifier\n",
    "from sklearn.model_selection import train_test_split\n",
    "from sklearn.metrics import log_loss\n",
    "\n",
    "# pull feature engineering notebook\n",
    "# add your own feature engineering functions to features.py and import them\n",
    "# only rule is the function must take a dataframe and return a dataframe (with your new features)\n",
    "from features import engineer\n",
    "\n",
    "color = sns.color_palette()\n",
    "%matplotlib inline\n",
    "\n",
    "df_train = pd.read_json(\"train.json\")\n",
    "df_test = pd.read_json(\"test.json\")\n"
   ]
  },
  {
   "cell_type": "code",
   "execution_count": null,
   "metadata": {
    "collapsed": true
   },
   "outputs": [],
   "source": []
  },
  {
   "cell_type": "code",
   "execution_count": null,
   "metadata": {
    "collapsed": true
   },
   "outputs": [],
   "source": []
  }
 ],
 "metadata": {
  "kernelspec": {
   "display_name": "Python 2",
   "language": "python",
   "name": "python2"
  },
  "language_info": {
   "codemirror_mode": {
    "name": "ipython",
    "version": 2
   },
   "file_extension": ".py",
   "mimetype": "text/x-python",
   "name": "python",
   "nbconvert_exporter": "python",
   "pygments_lexer": "ipython2",
   "version": "2.7.13"
  }
 },
 "nbformat": 4,
 "nbformat_minor": 2
}
