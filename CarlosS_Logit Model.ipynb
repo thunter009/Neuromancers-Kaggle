{
 "cells": [
  {
   "cell_type": "markdown",
   "metadata": {},
   "source": [
    "### Load Data and New Variable Creation"
   ]
  },
  {
   "cell_type": "code",
   "execution_count": 1,
   "metadata": {
    "collapsed": false
   },
   "outputs": [
    {
     "name": "stdout",
     "output_type": "stream",
     "text": [
      "Training Set Info\n",
      "<class 'pandas.core.frame.DataFrame'>\n",
      "(49352, 15)\n",
      "Index([u'bathrooms', u'bedrooms', u'building_id', u'created', u'description',\n",
      "       u'display_address', u'features', u'interest_level', u'latitude',\n",
      "       u'listing_id', u'longitude', u'manager_id', u'photos', u'price',\n",
      "       u'street_address'],\n",
      "      dtype='object')\n",
      "-----------------------------------------------------------------\n",
      "Test Set Info\n",
      "<class 'pandas.core.frame.DataFrame'>\n",
      "(74659, 14)\n",
      "Index([u'bathrooms', u'bedrooms', u'building_id', u'created', u'description',\n",
      "       u'display_address', u'features', u'latitude', u'listing_id',\n",
      "       u'longitude', u'manager_id', u'photos', u'price', u'street_address'],\n",
      "      dtype='object')\n",
      "-----------------------------------------------------------------\n"
     ]
    }
   ],
   "source": [
    "import numpy as np # linear algebra\n",
    "import pandas as pd # data processing, CSV file I/O (e.g. pd.read_csv)\n",
    "import matplotlib.pyplot as plt\n",
    "import seaborn as sns\n",
    "color = sns.color_palette()\n",
    "%matplotlib inline\n",
    "\n",
    "t_df = pd.read_json(\"train.json\") # training set\n",
    "ts_df = pd.read_json(\"test.json\") # test set\n",
    "\n",
    "print 'Training Set Info'\n",
    "print(type(t_df))\n",
    "print(t_df.shape) # 49,352 obs and 15 vars\n",
    "print(t_df.columns)\n",
    "print 65*'-'\n",
    "print 'Test Set Info'\n",
    "print(type(ts_df))\n",
    "print(ts_df.shape) # 74,659 obs and 14 vars (reponse var: interest_level not provided as expected)\n",
    "print(ts_df.columns)\n",
    "print 65*'-'"
   ]
  },
  {
   "cell_type": "code",
   "execution_count": 2,
   "metadata": {
    "collapsed": false
   },
   "outputs": [],
   "source": [
    "# Creating New variables: n_broadway\n",
    "# training set:\n",
    "import re\n",
    "match_list = map(lambda x: re.search('broadway|b?way|b?wy',x.lower()), list(t_df['display_address']))\n",
    "\n",
    "type_address=[]\n",
    "for i in match_list:\n",
    "    if i== None:\n",
    "        type_address.append(0)\n",
    "    elif i.group()== 'broadway' or i.group()== 'brwy' or i.group()== 'brway': #second filter\n",
    "        type_address.append(1)\n",
    "    else:\n",
    "        type_address.append(0) \n",
    "\n",
    "t_df['n_broadway']= type_address # new variable starts by n_\n",
    "\n",
    "# test set:\n",
    "match_list = map(lambda x: re.search('broadway|b?way|b?wy',x.lower()), list(ts_df['display_address']))\n",
    "\n",
    "type_address=[]\n",
    "for i in match_list:\n",
    "    if i== None:\n",
    "        type_address.append(0)\n",
    "    elif i.group()== 'broadway' or i.group()== 'brwy' or i.group()== 'brway': #second filter\n",
    "        type_address.append(1)\n",
    "    else:\n",
    "        type_address.append(0) \n",
    "\n",
    "ts_df['n_broadway']= type_address # new variable starts by n_\n"
   ]
  },
  {
   "cell_type": "code",
   "execution_count": 3,
   "metadata": {
    "collapsed": false
   },
   "outputs": [],
   "source": [
    "# Creating new variables: n_num_keyfeat_score\n",
    "\n",
    "# Training data:\n",
    "match_list=[map(lambda x: re.search('elevator|cats|dogs|doorman|dishwasher|no fee|laundry|fitness',x.lower()),\n",
    "                     list(t_df['features'])[i]) for i in np.arange(0,len(t_df['features']),1)]\n",
    "nfeat_list =[] \n",
    "for i in match_list:\n",
    "    if i==None:\n",
    "        nfeat_list.append(0)\n",
    "    else:\n",
    "        if any(i)== False: # check to filter out lists with no all None values\n",
    "            nfeat_list.append(0)\n",
    "        else:\n",
    "            lis1=[]\n",
    "            map(lambda x: lis1.append(1) if x!= None else lis1.append(0),i)            \n",
    "            nfeat_list.append(sum(lis1))\n",
    "\n",
    "# new variable n_num_keyfeat_score \n",
    "nfeat_score=[]\n",
    "for i in nfeat_list:\n",
    "    if i<=5:\n",
    "        nfeat_score.append(0)\n",
    "    elif i==6:\n",
    "        nfeat_score.append(1)\n",
    "    elif i==7:\n",
    "        nfeat_score.append(2)\n",
    "    elif i==8:\n",
    "        nfeat_score.append(3)\n",
    "    elif i==9:\n",
    "        nfeat_score.append(4)\n",
    "    elif i==10:\n",
    "        nfeat_score.append(5)\n",
    "    else:\n",
    "        nfeat_score.append(6)\n",
    "\n",
    "t_df['n_num_keyfeat_score']= nfeat_score\n",
    "\n",
    "# Test data:\n",
    "match_list=[map(lambda x: re.search('elevator|cats|dogs|doorman|dishwasher|no fee|laundry|fitness',x.lower()),\n",
    "                     list(ts_df['features'])[i]) for i in np.arange(0,len(ts_df['features']),1)]\n",
    "nfeat_list =[] \n",
    "for i in match_list:\n",
    "    if i==None:\n",
    "        nfeat_list.append(0)\n",
    "    else:\n",
    "        if any(i)== False: # check to filter out lists with no all None values\n",
    "            nfeat_list.append(0)\n",
    "        else:\n",
    "            lis1=[]\n",
    "            map(lambda x: lis1.append(1) if x!= None else lis1.append(0),i)            \n",
    "            nfeat_list.append(sum(lis1))\n",
    "\n",
    "nfeat_score=[]\n",
    "for i in nfeat_list:\n",
    "    if i<=5:\n",
    "        nfeat_score.append(0)\n",
    "    elif i==6:\n",
    "        nfeat_score.append(1)\n",
    "    elif i==7:\n",
    "        nfeat_score.append(2)\n",
    "    elif i==8:\n",
    "        nfeat_score.append(3)\n",
    "    elif i==9:\n",
    "        nfeat_score.append(4)\n",
    "    elif i==10:\n",
    "        nfeat_score.append(5)\n",
    "    else:\n",
    "        nfeat_score.append(6)\n",
    "\n",
    "ts_df['n_num_keyfeat_score']= nfeat_score\n",
    " \n"
   ]
  },
  {
   "cell_type": "code",
   "execution_count": 4,
   "metadata": {
    "collapsed": false
   },
   "outputs": [],
   "source": [
    "# new variable: n_no_photo\n",
    "# training set:\n",
    "t_df['n_no_photo'] = [1 if i == 0 else 0 for i in map(len,t_df['photos'])]\n",
    "# training set:\n",
    "ts_df['n_no_photo'] = [1 if i == 0 else 0 for i in map(len,ts_df['photos'])]"
   ]
  },
  {
   "cell_type": "code",
   "execution_count": 5,
   "metadata": {
    "collapsed": false
   },
   "outputs": [],
   "source": [
    "# New Vars related to Price:\n",
    "# new var: square price\n",
    "# training set\n",
    "t_df['n_price_sqrt'] = t_df['price']**(0.5)\n",
    "# testing set\n",
    "ts_df['n_price_sqrt'] = ts_df['price']**(0.5)\n",
    "\n",
    "# new var: expensive\n",
    "# training set\n",
    "threshold_75p = t_df[['price']].describe().loc['75%','price']\n",
    "t_df['n_expensive']=[1 if i > threshold_75p else 0 for i in list(t_df['price']) ]\n",
    "# test set\n",
    "threshold_75p = ts_df[['price']].describe().loc['75%','price']\n",
    "ts_df['n_expensive']=[1 if i > threshold_75p else 0 for i in list(ts_df['price'])]"
   ]
  },
  {
   "cell_type": "code",
   "execution_count": 7,
   "metadata": {
    "collapsed": false
   },
   "outputs": [
    {
     "name": "stderr",
     "output_type": "stream",
     "text": [
      "C:\\Users\\Carlo\\Anaconda2\\lib\\site-packages\\ipykernel\\__main__.py:12: FutureWarning: currently extract(expand=None) means expand=False (return Index/Series/DataFrame) but in a future version of pandas this will be changed to expand=True (return DataFrame)\n",
      "C:\\Users\\Carlo\\Anaconda2\\lib\\site-packages\\ipykernel\\__main__.py:16: FutureWarning: currently extract(expand=None) means expand=False (return Index/Series/DataFrame) but in a future version of pandas this will be changed to expand=True (return DataFrame)\n"
     ]
    },
    {
     "ename": "TypeError",
     "evalue": "'type' object has no attribute '__getitem__'",
     "output_type": "error",
     "traceback": [
      "\u001b[0;31m\u001b[0m",
      "\u001b[0;31mTypeError\u001b[0mTraceback (most recent call last)",
      "\u001b[0;32m<ipython-input-7-0f874f5f6b80>\u001b[0m in \u001b[0;36m<module>\u001b[0;34m()\u001b[0m\n\u001b[1;32m     26\u001b[0m \u001b[0mdistance\u001b[0m \u001b[1;33m=\u001b[0m\u001b[1;33m[\u001b[0m\u001b[1;33m]\u001b[0m\u001b[1;33m\u001b[0m\u001b[0m\n\u001b[1;32m     27\u001b[0m \u001b[1;32mfor\u001b[0m \u001b[0mi\u001b[0m \u001b[1;32min\u001b[0m \u001b[0mrange\u001b[0m\u001b[1;33m(\u001b[0m\u001b[0mlen\u001b[0m\u001b[1;33m(\u001b[0m\u001b[0mlat\u001b[0m\u001b[1;33m)\u001b[0m\u001b[1;33m)\u001b[0m\u001b[1;33m:\u001b[0m\u001b[1;33m\u001b[0m\u001b[0m\n\u001b[0;32m---> 28\u001b[0;31m     \u001b[0mdistance\u001b[0m\u001b[1;33m.\u001b[0m\u001b[0mappend\u001b[0m\u001b[1;33m(\u001b[0m\u001b[0mvincenty\u001b[0m\u001b[1;33m(\u001b[0m\u001b[1;33m(\u001b[0m\u001b[0mlat\u001b[0m\u001b[1;33m[\u001b[0m\u001b[0mi\u001b[0m\u001b[1;33m]\u001b[0m\u001b[1;33m,\u001b[0m\u001b[0mlong\u001b[0m\u001b[1;33m[\u001b[0m\u001b[0mi\u001b[0m\u001b[1;33m]\u001b[0m\u001b[1;33m)\u001b[0m\u001b[1;33m,\u001b[0m\u001b[1;33m(\u001b[0m\u001b[0mmidtown_lat\u001b[0m\u001b[1;33m,\u001b[0m\u001b[0mmidtown_long\u001b[0m\u001b[1;33m)\u001b[0m\u001b[1;33m)\u001b[0m\u001b[1;33m.\u001b[0m\u001b[0mmeters\u001b[0m\u001b[1;33m)\u001b[0m\u001b[1;33m\u001b[0m\u001b[0m\n\u001b[0m\u001b[1;32m     29\u001b[0m     \u001b[0mt_df\u001b[0m\u001b[1;33m[\u001b[0m\u001b[1;34m'distance_from_midtown'\u001b[0m\u001b[1;33m]\u001b[0m \u001b[1;33m=\u001b[0m \u001b[0mdistance\u001b[0m\u001b[1;33m\u001b[0m\u001b[0m\n\u001b[1;32m     30\u001b[0m \u001b[1;33m\u001b[0m\u001b[0m\n",
      "\u001b[0;31mTypeError\u001b[0m: 'type' object has no attribute '__getitem__'"
     ]
    }
   ],
   "source": [
    "# new variables: extracted from features.py:\n",
    "\n",
    "# new var: num_description_words:\n",
    "# training set\n",
    "t_df[\"num_description_words\"] = t_df[\"description\"].apply(lambda x: len(x.split(\" \")))\n",
    "# test set\n",
    "ts_df[\"num_description_words\"] = ts_df[\"description\"].apply(lambda x: len(x.split(\" \")))\n",
    "\n",
    "# new var: has_phone:\n",
    "# training set:\n",
    "phone_regex = \"(\\d{3}[-\\.\\s]??\\d{3}[-\\.\\s]??\\d{4}|\\(\\d{3}\\)\\s*\\d{3}[-\\.\\s]??\\d{4}|\\d{3}[-\\.\\s]??\\d{4})\" # http://stackoverflow.com/questions/16699007/regular-expression-to-match-standard-10-digit-phone-number\n",
    "has_phone = t_df['description'].str.extract(phone_regex)\n",
    "t_df['has_phone']=[type(item)==unicode for item in has_phone]\n",
    "# test set\n",
    "phone_regex = \"(\\d{3}[-\\.\\s]??\\d{3}[-\\.\\s]??\\d{4}|\\(\\d{3}\\)\\s*\\d{3}[-\\.\\s]??\\d{4}|\\d{3}[-\\.\\s]??\\d{4})\" # http://stackoverflow.com/questions/16699007/regular-expression-to-match-standard-10-digit-phone-number\n",
    "has_phone = ts_df['description'].str.extract(phone_regex)\n",
    "ts_df['has_phone']=[type(item)==unicode for item in has_phone]\n",
    "\n",
    "# dist_from_midtown:\n",
    "# training:\n",
    "from geopy.distance import vincenty\n",
    "lat = t_df['latitude'].tolist()\n",
    "long_ = t_df['longitude'].tolist()\n",
    "midtown_lat = 40.7586\n",
    "midtown_long = -73.9838\n",
    "distance =[]\n",
    "for i in range(len(lat)):\n",
    "    distance.append(vincenty((lat[i],long[i]),(midtown_lat,midtown_long)).meters)\n",
    "    t_df['distance_from_midtown'] = distance\n",
    "\n",
    "# test:\n",
    "from geopy.distance import vincenty\n",
    "lat = ts_df['latitude'].tolist()\n",
    "long_ = ts_df['longitude'].tolist()\n",
    "midtown_lat = 40.7586\n",
    "midtown_long = -73.9838\n",
    "distance =[]\n",
    "for i in range(len(lat)):\n",
    "    distance.append(vincenty((lat[i],long[i]),(midtown_lat,midtown_long)).meters)\n",
    "    ts_df['distance_from_midtown'] = distance\n"
   ]
  },
  {
   "cell_type": "markdown",
   "metadata": {},
   "source": [
    "## Setting Response and Predictor Variables"
   ]
  },
  {
   "cell_type": "code",
   "execution_count": 65,
   "metadata": {
    "collapsed": false
   },
   "outputs": [
    {
     "data": {
      "text/plain": [
       "Index([            u'bathrooms',              u'bedrooms',\n",
       "                 u'building_id',               u'created',\n",
       "                 u'description',       u'display_address',\n",
       "                    u'features',        u'interest_level',\n",
       "                    u'latitude',            u'listing_id',\n",
       "                   u'longitude',            u'manager_id',\n",
       "                      u'photos',                 u'price',\n",
       "              u'street_address',            u'n_broadway',\n",
       "         u'n_num_keyfeat_score',            u'n_no_photo',\n",
       "       u'num_description_words',             u'has_phone',\n",
       "                    u'n_price2',           u'n_expensive',\n",
       "                u'n_price_sqrt'],\n",
       "      dtype='object')"
      ]
     },
     "execution_count": 65,
     "metadata": {},
     "output_type": "execute_result"
    }
   ],
   "source": [
    "t_df.columns # training set cols"
   ]
  },
  {
   "cell_type": "code",
   "execution_count": 74,
   "metadata": {
    "collapsed": false
   },
   "outputs": [],
   "source": [
    "import pandas as pd\n",
    "import numpy as np\n",
    "# predictor list with variables whom relevance has been tested:\n",
    "pred_list = ['bedrooms','bathrooms','latitude','longitude',  \n",
    "             'n_broadway','n_num_keyfeat_score','n_no_photo','num_description_words','has_phone','n_price_sqrt','n_expensive']\n",
    "\n",
    "\n",
    "\n",
    "## separate the predictors and response in the training data set\n",
    "x = np.array(t_df.loc[:, pred_list])\n",
    "y = np.ravel(t_df.loc[:, 'interest_level'])\n",
    "## separate the predictors and response in the test data set\n",
    "x2 = np.array(ts_df.loc[:, pred_list])"
   ]
  },
  {
   "cell_type": "markdown",
   "metadata": {},
   "source": [
    "### Export new DF to csv"
   ]
  },
  {
   "cell_type": "code",
   "execution_count": 29,
   "metadata": {
    "collapsed": false
   },
   "outputs": [],
   "source": [
    "ext = pred_list + ['interest_level']\n",
    "\n",
    "t_df.loc[:, ext].loc[:, ext].to_csv('new_train.csv', encoding='utf-8')\n",
    "#ts_df.to_csv('new_test.csv', encoding='utf-8')"
   ]
  },
  {
   "cell_type": "markdown",
   "metadata": {},
   "source": [
    "### Logit Model: Selected Vars"
   ]
  },
  {
   "cell_type": "code",
   "execution_count": 75,
   "metadata": {
    "collapsed": false
   },
   "outputs": [
    {
     "name": "stdout",
     "output_type": "stream",
     "text": [
      "Predictor Parameters are: {'warm_start': False, 'C': 10000.0, 'n_jobs': 1, 'verbose': 0, 'intercept_scaling': 1, 'fit_intercept': True, 'max_iter': 100, 'penalty': 'l2', 'multi_class': 'ovr', 'random_state': None, 'dual': False, 'tol': 0.0001, 'solver': 'liblinear', 'class_weight': None}\n",
      "-----------------------------------------------------------------\n",
      "Predictor Coefficients are: [[  6.37743176e-01   1.37177257e-01  -2.04157902e-01  -1.78470735e-01\n",
      "   -2.32790512e-01   2.41656621e-01  -1.72913694e+00   5.98785059e-04\n",
      "    1.80935852e-01  -1.63569161e-01   1.25730092e+00]\n",
      " [ -6.08947715e-01  -1.63500454e-01   8.72978741e-01   5.42250133e-01\n",
      "    1.85387299e-01  -2.31727116e-01   2.23287877e+00  -1.35669299e-03\n",
      "   -2.93671280e-01   1.22841374e-01  -7.45446077e-01]\n",
      " [  4.22251401e-01   7.32627522e-02  -2.69595283e-01  -1.70920019e-01\n",
      "   -8.08492724e-02   1.85138244e-01  -1.93317749e+00   1.26411953e-03\n",
      "    2.77532604e-01  -6.92502114e-02   2.24888330e-01]]\n",
      "Intercept [ 0.0095834  -0.03388727  0.00789897]\n"
     ]
    }
   ],
   "source": [
    "### 1. Logit Model\n",
    "from sklearn import linear_model\n",
    "logit_1 = linear_model.LogisticRegression()\n",
    "logit_1\n",
    "\n",
    "logit_1.set_params(C=1e4) # is the inverse of regularization strength. \n",
    "# This is opposite to the alphaused in Ridge and Lasso. Smaller values specify stronger regularization.\n",
    "logit_1.fit(x, y)\n",
    "print 'Predictor Parameters are:',logit_1.get_params() \n",
    "print 65*'-'\n",
    "print 'Predictor Coefficients are:',logit_1.coef_\n",
    "print 'Intercept',logit_1.intercept_"
   ]
  },
  {
   "cell_type": "code",
   "execution_count": 76,
   "metadata": {
    "collapsed": false
   },
   "outputs": [
    {
     "name": "stdout",
     "output_type": "stream",
     "text": [
      "Accuracy on training set: 0.69271762036\n",
      "Misc.Error on training set: 0.30728237964\n"
     ]
    }
   ],
   "source": [
    "# 2) Accuracy on  Training Set\n",
    "print 'Accuracy on training set:', logit_1.score(x,y) #0.69\n",
    "print 'Misc.Error on training set:', 1- logit_1.score(x,y) #0.31"
   ]
  },
  {
   "cell_type": "code",
   "execution_count": 77,
   "metadata": {
    "collapsed": false
   },
   "outputs": [
    {
     "name": "stdout",
     "output_type": "stream",
     "text": [
      "Multi Class Log_loss: 0.695777225019\n"
     ]
    }
   ],
   "source": [
    "# 3) Acid test: prediction and log-loss indicator\n",
    "# http://stackoverflow.com/questions/35013822/log-loss-output-is-greater-than-1\n",
    "# log-loss range is [0,inf] => the close to 0, the better\n",
    "from sklearn import metrics \n",
    "y_pred = logit_1.predict(x)\n",
    "y_pred_p = logit_1.predict_proba(x)\n",
    "print 'Multi Class Log_loss:', metrics.log_loss(y,y_pred_p) # log_loss(x,y) => x= true label format [], x= predicted probs [[]]"
   ]
  },
  {
   "cell_type": "code",
   "execution_count": 38,
   "metadata": {
    "collapsed": false
   },
   "outputs": [
    {
     "name": "stdout",
     "output_type": "stream",
     "text": [
      "Average Miscl. Error is 0.309800\n",
      "Average StDev Misc.Error is 0.002759\n"
     ]
    }
   ],
   "source": [
    "# 4) Cross-Validation:\n",
    "import sklearn.cross_validation as cv\n",
    "\n",
    "mean_error = []\n",
    "std_error = []\n",
    "kfold = range(3, 15)\n",
    "for i in kfold:\n",
    "    scores = cv.cross_val_score(logit_1, x, y, cv=i)\n",
    "    mean_error.append(1-scores.mean())\n",
    "    std_error.append(scores.std())\n",
    "    \n",
    "print 'Average Miscl. Error is %f'%(np.mean(mean_error))\n",
    "print 'Average StDev Misc.Error is %f'%(np.mean(std_error))\n"
   ]
  },
  {
   "cell_type": "code",
   "execution_count": 31,
   "metadata": {
    "collapsed": false
   },
   "outputs": [
    {
     "name": "stdout",
     "output_type": "stream",
     "text": [
      "Populating the interactive namespace from numpy and matplotlib\n"
     ]
    },
    {
     "data": {
      "text/plain": [
       "<matplotlib.legend.Legend at 0x5f23eef0>"
      ]
     },
     "execution_count": 31,
     "metadata": {},
     "output_type": "execute_result"
    },
    {
     "data": {
      "image/png": "[encoded data removed]",
      "text/plain": [
       "<matplotlib.figure.Figure at 0x4a22940>"
      ]
     },
     "metadata": {},
     "output_type": "display_data"
    }
   ],
   "source": [
    "%pylab inline \n",
    "import matplotlib.pyplot as pl\n",
    "s1 = pl.scatter(kfold, mean_error, label='mean error')\n",
    "pl.plot(kfold, mean_error)\n",
    "s2 = pl.scatter(kfold, std_error, color='red', label='std')\n",
    "pl.plot(kfold, std_error, color='red')\n",
    "pl.xlim(0, 15)\n",
    "pl.xlabel('number of fold')\n",
    "pl.legend(handles=[s1, s2], loc=2)"
   ]
  },
  {
   "cell_type": "code",
   "execution_count": 128,
   "metadata": {
    "collapsed": false
   },
   "outputs": [
    {
     "ename": "ValueError",
     "evalue": "endog must be in the unit interval.",
     "output_type": "error",
     "traceback": [
      "\u001b[0;31m\u001b[0m",
      "\u001b[0;31mValueError\u001b[0mTraceback (most recent call last)",
      "\u001b[0;32m<ipython-input-128-f60ccf558984>\u001b[0m in \u001b[0;36m<module>\u001b[0;34m()\u001b[0m\n\u001b[1;32m     10\u001b[0m \u001b[0my_high\u001b[0m \u001b[1;33m=\u001b[0m \u001b[1;33m[\u001b[0m\u001b[1;36m1\u001b[0m \u001b[1;32mif\u001b[0m \u001b[0mi\u001b[0m \u001b[1;33m==\u001b[0m \u001b[1;34m'high'\u001b[0m \u001b[1;32melse\u001b[0m \u001b[1;36m0\u001b[0m \u001b[1;32mfor\u001b[0m \u001b[0mi\u001b[0m \u001b[1;32min\u001b[0m \u001b[0my_s\u001b[0m\u001b[1;33m]\u001b[0m\u001b[1;33m\u001b[0m\u001b[0m\n\u001b[1;32m     11\u001b[0m \u001b[1;33m\u001b[0m\u001b[0m\n\u001b[0;32m---> 12\u001b[0;31m \u001b[0mlogit_mod_low\u001b[0m \u001b[1;33m=\u001b[0m \u001b[0msm\u001b[0m\u001b[1;33m.\u001b[0m\u001b[0mLogit\u001b[0m\u001b[1;33m(\u001b[0m\u001b[0mx\u001b[0m\u001b[1;33m,\u001b[0m \u001b[0my_low\u001b[0m\u001b[1;33m)\u001b[0m\u001b[1;33m.\u001b[0m\u001b[0mfit\u001b[0m\u001b[1;33m(\u001b[0m\u001b[1;33m)\u001b[0m\u001b[1;33m\u001b[0m\u001b[0m\n\u001b[0m\u001b[1;32m     13\u001b[0m \u001b[0mlogit_mod_med\u001b[0m \u001b[1;33m=\u001b[0m \u001b[0msm\u001b[0m\u001b[1;33m.\u001b[0m\u001b[0mLogit\u001b[0m\u001b[1;33m(\u001b[0m\u001b[0mx\u001b[0m\u001b[1;33m,\u001b[0m \u001b[0my_med\u001b[0m\u001b[1;33m)\u001b[0m\u001b[1;33m.\u001b[0m\u001b[0mfit\u001b[0m\u001b[1;33m(\u001b[0m\u001b[1;33m)\u001b[0m\u001b[1;33m\u001b[0m\u001b[0m\n\u001b[1;32m     14\u001b[0m \u001b[0mlogit_mod_high\u001b[0m \u001b[1;33m=\u001b[0m \u001b[0msm\u001b[0m\u001b[1;33m.\u001b[0m\u001b[0mLogit\u001b[0m\u001b[1;33m(\u001b[0m\u001b[0mx\u001b[0m\u001b[1;33m,\u001b[0m \u001b[0my_high\u001b[0m\u001b[1;33m)\u001b[0m\u001b[1;33m.\u001b[0m\u001b[0mfit\u001b[0m\u001b[1;33m(\u001b[0m\u001b[1;33m)\u001b[0m\u001b[1;33m\u001b[0m\u001b[0m\n",
      "\u001b[0;32mC:\\Users\\Carlo\\Anaconda2\\lib\\site-packages\\statsmodels\\discrete\\discrete_model.pyc\u001b[0m in \u001b[0;36m__init__\u001b[0;34m(self, endog, exog, **kwargs)\u001b[0m\n\u001b[1;32m    402\u001b[0m         if (self.__class__.__name__ != 'MNLogit' and\n\u001b[1;32m    403\u001b[0m                 not np.all((self.endog >= 0) & (self.endog <= 1))):\n\u001b[0;32m--> 404\u001b[0;31m             \u001b[1;32mraise\u001b[0m \u001b[0mValueError\u001b[0m\u001b[1;33m(\u001b[0m\u001b[1;34m\"endog must be in the unit interval.\"\u001b[0m\u001b[1;33m)\u001b[0m\u001b[1;33m\u001b[0m\u001b[0m\n\u001b[0m\u001b[1;32m    405\u001b[0m \u001b[1;33m\u001b[0m\u001b[0m\n\u001b[1;32m    406\u001b[0m \u001b[1;33m\u001b[0m\u001b[0m\n",
      "\u001b[0;31mValueError\u001b[0m: endog must be in the unit interval."
     ]
    }
   ],
   "source": [
    "# 4) Using StatsModel:\n",
    "import numpy as np\n",
    "import statsmodels.api as sm\n",
    "\n",
    "y_s = np.array(map(lambda y: y.encode('utf-8','ignore'),y))\n",
    "y_s.astype(object)\n",
    "\n",
    "y_low = [1 if i == 'low' else 0 for i in y_s]\n",
    "y_med = [1 if i == 'medium' else 0 for i in y_s]\n",
    "y_high = [1 if i == 'high' else 0 for i in y_s]\n",
    "\n",
    "logit_mod_low = sm.Logit(x, y_low).fit()\n",
    "logit_mod_med = sm.Logit(x, y_med).fit()\n",
    "logit_mod_high = sm.Logit(x, y_high).fit()\n",
    "\n",
    "print logit_mod_low.summary()\n",
    "print logit_mod_med.summary()\n",
    "print logit_mod_high.summary()"
   ]
  }
 ],
 "metadata": {
  "anaconda-cloud": {},
  "kernelspec": {
   "display_name": "Python [default]",
   "language": "python",
   "name": "python2"
  },
  "language_info": {
   "codemirror_mode": {
    "name": "ipython",
    "version": 2
   },
   "file_extension": ".py",
   "mimetype": "text/x-python",
   "name": "python",
   "nbconvert_exporter": "python",
   "pygments_lexer": "ipython2",
   "version": "2.7.12"
  }
 },
 "nbformat": 4,
 "nbformat_minor": 1
}
